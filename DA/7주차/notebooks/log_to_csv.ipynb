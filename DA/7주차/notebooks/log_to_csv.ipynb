{
 "cells": [
  {
   "cell_type": "code",
   "execution_count": 7,
   "metadata": {
    "collapsed": true,
    "ExecuteTime": {
     "end_time": "2023-06-09T02:06:24.694300700Z",
     "start_time": "2023-06-09T02:06:24.665683500Z"
    }
   },
   "outputs": [],
   "source": [
    "import re\n",
    "import csv\n",
    "\n",
    "# 입력 및 출력 파일 경로\n",
    "input_file = '../data/Arduino/standing.log'\n",
    "output_file = '../data/Arduino/standing_output.csv'\n",
    "\n",
    "# 데이터 추출 및 CSV 파일 저장\n",
    "with open(input_file, 'r') as file:\n",
    "    lines = file.readlines()\n",
    "\n",
    "data = []\n",
    "line_data = []\n",
    "for line in lines:\n",
    "    matches = re.findall(r'accX:(.*?),accY:(.*?),accZ:(.*?),gyrX:(.*?),gyrY:(.*?),gyrZ:(.*?)\\n', line)\n",
    "    if matches:\n",
    "        line_data = [float(match) for match in matches[0]]\n",
    "    else:\n",
    "        continue\n",
    "    data.append(line_data)\n",
    "\n",
    "with open(output_file, 'w', newline='') as file:\n",
    "    writer = csv.writer(file)\n",
    "    writer.writerows(data)\n"
   ]
  },
  {
   "cell_type": "code",
   "execution_count": 8,
   "outputs": [],
   "source": [
    "import pandas as pd\n",
    "\n",
    "# CSV 파일 경로\n",
    "csv_file = \"../data/Arduino/standing_output.csv\"\n",
    "\n",
    "# 필드명 리스트\n",
    "fields = [\"accX\", \"accY\", \"accZ\", \"gyrX\", \"gyrY\", \"gyrZ\"]\n",
    "\n",
    "# CSV 파일을 DataFrame으로 불러오기\n",
    "df = pd.read_csv(csv_file, header=None)\n",
    "\n",
    "# 필드명을 지정해주기\n",
    "df.columns = fields\n",
    "\n",
    "# \"label\" 열을 새로 만들고 모든 값을 \"fall\"로 설정\n",
    "df[\"label\"] = \"standing\""
   ],
   "metadata": {
    "collapsed": false,
    "ExecuteTime": {
     "end_time": "2023-06-09T02:06:27.560636300Z",
     "start_time": "2023-06-09T02:06:27.543385Z"
    }
   }
  },
  {
   "cell_type": "code",
   "execution_count": 9,
   "outputs": [
    {
     "name": "stdout",
     "output_type": "stream",
     "text": [
      "       accX     accY     accZ     gyrX     gyrY    gyrZ     label\n",
      "0    2052.0  10844.0 -13084.0  -1276.0    694.0  -463.0  standing\n",
      "1    2356.0  11404.0 -13728.0   -154.0    388.0  -257.0  standing\n",
      "2    1540.0  11308.0 -13776.0  -1854.0    -48.0  -293.0  standing\n",
      "3    1476.0  11392.0 -13484.0    234.0    127.0  -304.0  standing\n",
      "4    2180.0  11208.0 -13252.0   -285.0    819.0  -172.0  standing\n",
      "..      ...      ...      ...      ...      ...     ...       ...\n",
      "215  1212.0   6664.0 -17252.0   7002.0   2714.0   180.0  standing\n",
      "216  2700.0  20440.0 -19140.0 -32768.0  13283.0   617.0  standing\n",
      "217  2776.0   8600.0 -11272.0  12400.0   3770.0  1877.0  standing\n",
      "218  4044.0   9848.0 -14076.0   -836.0   1256.0   675.0  standing\n",
      "219  3624.0  10480.0 -14268.0  -4907.0    746.0   273.0  standing\n",
      "\n",
      "[220 rows x 7 columns]\n"
     ]
    }
   ],
   "source": [
    "print(df)"
   ],
   "metadata": {
    "collapsed": false,
    "ExecuteTime": {
     "end_time": "2023-06-09T02:06:28.541634Z",
     "start_time": "2023-06-09T02:06:28.510301200Z"
    }
   }
  },
  {
   "cell_type": "code",
   "execution_count": 10,
   "outputs": [
    {
     "name": "stdout",
     "output_type": "stream",
     "text": [
      "     accX     accY     accZ    gyrX   gyrY   gyrZ     label  scaled_gx   \n",
      "0  2052.0  10844.0 -13084.0 -1276.0  694.0 -463.0  standing   0.114347  \\\n",
      "1  2356.0  11404.0 -13728.0  -154.0  388.0 -257.0  standing   0.154049   \n",
      "2  1540.0  11308.0 -13776.0 -1854.0  -48.0 -293.0  standing   0.093894   \n",
      "3  1476.0  11392.0 -13484.0   234.0  127.0 -304.0  standing   0.167778   \n",
      "4  2180.0  11208.0 -13252.0  -285.0  819.0 -172.0  standing   0.149413   \n",
      "\n",
      "   scaled_gy  scaled_gz  \n",
      "0   0.397555   0.026599  \n",
      "1   0.382911   0.042907  \n",
      "2   0.362046   0.040057  \n",
      "3   0.370421   0.039186  \n",
      "4   0.403536   0.049636  \n"
     ]
    }
   ],
   "source": [
    "from sklearn.preprocessing import MinMaxScaler\n",
    "\n",
    "# MinMaxScaler 인스턴스 생성\n",
    "scaler = MinMaxScaler(feature_range=(-1, 1))\n",
    "\n",
    "# 'gx', 'gy', 'gz' 열의 데이터 추출\n",
    "data = df[['gyrX', 'gyrY', 'gyrZ']].values\n",
    "\n",
    "# 데이터 스케일링\n",
    "scaled_data = scaler.fit_transform(data)\n",
    "\n",
    "# 스케일링된 값을 새로운 열에 저장\n",
    "df['scaled_gx'] = scaled_data[:, 0]\n",
    "df['scaled_gy'] = scaled_data[:, 1]\n",
    "df['scaled_gz'] = scaled_data[:, 2]\n",
    "\n",
    "print(df.head())"
   ],
   "metadata": {
    "collapsed": false,
    "ExecuteTime": {
     "end_time": "2023-06-09T02:06:30.596465700Z",
     "start_time": "2023-06-09T02:06:30.579520600Z"
    }
   }
  },
  {
   "cell_type": "code",
   "execution_count": 11,
   "outputs": [],
   "source": [
    "df.to_csv('../data/Arduino/standing_sc.csv', index=False)"
   ],
   "metadata": {
    "collapsed": false,
    "ExecuteTime": {
     "end_time": "2023-06-09T02:06:31.914513600Z",
     "start_time": "2023-06-09T02:06:31.896944600Z"
    }
   }
  },
  {
   "cell_type": "code",
   "execution_count": null,
   "outputs": [],
   "source": [],
   "metadata": {
    "collapsed": false
   }
  }
 ],
 "metadata": {
  "kernelspec": {
   "display_name": "Python 3",
   "language": "python",
   "name": "python3"
  },
  "language_info": {
   "codemirror_mode": {
    "name": "ipython",
    "version": 2
   },
   "file_extension": ".py",
   "mimetype": "text/x-python",
   "name": "python",
   "nbconvert_exporter": "python",
   "pygments_lexer": "ipython2",
   "version": "2.7.6"
  }
 },
 "nbformat": 4,
 "nbformat_minor": 0
}
