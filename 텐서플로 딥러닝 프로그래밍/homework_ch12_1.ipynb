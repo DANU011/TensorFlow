{
  "nbformat": 4,
  "nbformat_minor": 0,
  "metadata": {
    "colab": {
      "provenance": []
    },
    "kernelspec": {
      "name": "python3",
      "display_name": "Python 3"
    },
    "language_info": {
      "name": "python"
    }
  },
  "cells": [
    {
      "cell_type": "markdown",
      "source": [
        "# HW"
      ],
      "metadata": {
        "id": "b7rqYdrYJ-YV"
      }
    },
    {
      "cell_type": "markdown",
      "source": [
        "\n",
        "> 설명\n",
        "\n",
        "다음은 tensorflow 에서 제공하는 pre-trained 모델들이다.\n",
        "\n",
        "https://keras.io/api/applications/\n",
        "\n",
        "ResNet50v2 모델은 수업에서 설명한 ResNet 모델에서 BatchNormalization 과 ReLu 의 순서를 변경하여 약간의 성능 이득을 달성한 버전이다.\n",
        "\n",
        "<img src=\"https://www.researchgate.net/profile/Ngo-Le-Huy-Hien/publication/342334669/figure/fig2/AS:904483026513920@1592656966286/A-comparison-between-ResNet-v1-and-ResNet-v2-on-residual-blocks-23.ppm\" width=400 />\n",
        "\n",
        "\n",
        "\n",
        "> 문제\n",
        "\n",
        "ResNet50v2 모델을 이용하여 Cifar10 데이터셋을 분류하는 모델을 Transfer Learning 방법으로 구현하시오. \n",
        "\n",
        "* model.summary() 로 결과를 출력하시오.\n",
        "* epoch 1 로 모델을 학습하여 정확도를 출력하시오.\n",
        "* HINT: 교재 p405 를 참고하시오.\n",
        "\n",
        "> 제출\n",
        "\n",
        "PLATO \"(평가) 실습 과제 제출 게시판\"에 Colab > 파일 > 다운로드 .ipynb 한 파일을 비밀글로 제출하시오.\n"
      ],
      "metadata": {
        "id": "1VW5PLkTKAkj"
      }
    },
    {
      "cell_type": "code",
      "execution_count": null,
      "metadata": {
        "id": "dqNQJQbMJ6c_"
      },
      "outputs": [],
      "source": []
    }
  ]
}