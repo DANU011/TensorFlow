{
  "nbformat": 4,
  "nbformat_minor": 0,
  "metadata": {
    "colab": {
      "provenance": []
    },
    "kernelspec": {
      "name": "python3",
      "display_name": "Python 3"
    },
    "language_info": {
      "name": "python"
    }
  },
  "cells": [
    {
      "cell_type": "code",
      "execution_count": 2,
      "metadata": {
        "id": "Sc3rDcc9iEE6"
      },
      "outputs": [],
      "source": [
        "import tensorflow as tf"
      ]
    },
    {
      "cell_type": "code",
      "source": [
        "print(tf.__version__)"
      ],
      "metadata": {
        "colab": {
          "base_uri": "https://localhost:8080/"
        },
        "id": "5zqIe1b3iKPn",
        "outputId": "c2ea8137-12c1-4c46-8dba-656601747513"
      },
      "execution_count": null,
      "outputs": [
        {
          "output_type": "stream",
          "name": "stdout",
          "text": [
            "2.12.0\n"
          ]
        }
      ]
    },
    {
      "cell_type": "code",
      "source": [
        "rand = tf.random.uniform([1],0,1) # (shape, 최솟값, 최댓값)\n",
        "print(rand) #  shape=(1,) 튜플형태 원소가 하나이지만 튜플임을 알리기 위해 , 사용"
      ],
      "metadata": {
        "colab": {
          "base_uri": "https://localhost:8080/"
        },
        "id": "KuhnLObtiTrM",
        "outputId": "03670304-2711-4a9e-b2a5-f641f9b43877"
      },
      "execution_count": null,
      "outputs": [
        {
          "output_type": "stream",
          "name": "stdout",
          "text": [
            "tf.Tensor([0.16656494], shape=(1,), dtype=float32)\n"
          ]
        }
      ]
    },
    {
      "cell_type": "code",
      "source": [
        "rand = tf.random.uniform([4],0,1)\n",
        "print(rand)"
      ],
      "metadata": {
        "colab": {
          "base_uri": "https://localhost:8080/"
        },
        "id": "5gW5qYA3jR4H",
        "outputId": "b3be9974-3c1c-4bcf-cddb-01ad7d6564c0"
      },
      "execution_count": null,
      "outputs": [
        {
          "output_type": "stream",
          "name": "stdout",
          "text": [
            "tf.Tensor([0.02607763 0.38211334 0.49802947 0.9950414 ], shape=(4,), dtype=float32)\n"
          ]
        }
      ]
    },
    {
      "cell_type": "code",
      "source": [
        "rand = tf.random.normal([4],0,1) # 종모양을 그리는 정규분포의 난수를 구하려면 uniform대신 normal사용.\n",
        "print(rand)\n",
        "# 여기서 1이상도 나오고 마이너스 값도 나오는 이유? normal에서는 (shape, 정규 분포의 평균(mean), 정규분포의 표준편차)"
      ],
      "metadata": {
        "colab": {
          "base_uri": "https://localhost:8080/"
        },
        "id": "oX4aJTtPkCEG",
        "outputId": "24281ee0-9e0c-4a41-975e-3084c9129f97"
      },
      "execution_count": null,
      "outputs": [
        {
          "output_type": "stream",
          "name": "stdout",
          "text": [
            "tf.Tensor([-0.36753684  0.5371224   1.073336    0.37725145], shape=(4,), dtype=float32)\n"
          ]
        }
      ]
    },
    {
      "cell_type": "markdown",
      "source": [
        "활성화 함수\n",
        "- sigmoid : 오류 역전파시 시그모이드가 함수값을 점점 적어지게하는 문제 은닉층을 다수 사용하면 점점 덜 쓰임.\n",
        "- ReLU 정류된 선형 함수 : 양수를 그대로 반환해서 왜곡이 적어짐. "
      ],
      "metadata": {
        "id": "fVZFvPOmmFFg"
      }
    },
    {
      "cell_type": "code",
      "source": [
        "import math\n",
        "def sigmoid(x):\n",
        "  return 1 / (1+math.exp(-x))"
      ],
      "metadata": {
        "id": "16LyAI4ikfde"
      },
      "execution_count": 3,
      "outputs": []
    },
    {
      "cell_type": "code",
      "source": [
        "x = 1\n",
        "y = 0 # 기대출력\n",
        "w = tf.random.normal([1],0,1)\n",
        "output = sigmoid(x * w) # 실제 출력\n",
        "print(output) # 실제 출력인 0.5003103644886976와 기대출력인 0의 차인 0-0.5003103644886976=-0.5003103644886976이 error\n",
        "# 뉴런의 학습은 이 에러가 0에 가까워 지게 해서 출력으로 기댓값에 가까운 값을 얻는 것. 여기서 뉴런이란 결국 w 값."
      ],
      "metadata": {
        "colab": {
          "base_uri": "https://localhost:8080/"
        },
        "id": "KGMsrofvmB2_",
        "outputId": "fb2fc17e-2771-422d-a008-c046a96024aa"
      },
      "execution_count": null,
      "outputs": [
        {
          "output_type": "stream",
          "name": "stdout",
          "text": [
            "0.5003103644886976\n"
          ]
        }
      ]
    },
    {
      "cell_type": "markdown",
      "source": [
        "- 실제 출력인 0.5003103644886976와 기대출력인 0의 차인 0-0.5003103644886976=-0.5003103644886976이 error\n",
        "- 뉴런의 학습은 이 에러가 0에 가까워 지게 해서 출력으로 기댓값에 가까운 값을 얻는 것. 여기서 뉴런이란 결국 w 값. 이 값을 변화시켜야함. -> 경사하강법\n",
        "- 경사하강법 : w = w + (입력 * 학습률(α) * 에러) \n",
        "(학습률(α)은 w를 업데이트 하는 정도. 너무 크면 범위를 벗어날 우려가 있고 너무 작으면 학습속도가 너무 느려짐.)\n",
        "w = w + (x * α * error)"
      ],
      "metadata": {
        "id": "-OWnm5kNonJ3"
      }
    },
    {
      "cell_type": "code",
      "source": [
        "# 1 -> 0\n",
        "for i in range(1000): # range 범위에 해당하는 리스트 자동으로 생성\n",
        "  output = sigmoid(x * w)\n",
        "  error = y - output # 에러 = 기대출력 - 실제출력\n",
        "  w = w + (x * 0.1 * error)\n",
        "\n",
        "  if i % 100 == 99:\n",
        "    print(i, error, output)"
      ],
      "metadata": {
        "colab": {
          "base_uri": "https://localhost:8080/"
        },
        "id": "6xCQ42r4qbqc",
        "outputId": "a536d441-45a1-4071-bdb7-eac675a111b2"
      },
      "execution_count": null,
      "outputs": [
        {
          "output_type": "stream",
          "name": "stdout",
          "text": [
            "99 -0.052317247185330505 0.052317247185330505\n",
            "199 -0.03483169587994336 0.03483169587994336\n",
            "299 -0.02602571258070615 0.02602571258070615\n",
            "399 -0.020745724131793136 0.020745724131793136\n",
            "499 -0.017234561890340526 0.017234561890340526\n",
            "599 -0.014733762999709339 0.014733762999709339\n",
            "699 -0.01286334812246372 0.01286334812246372\n",
            "799 -0.011412269032075427 0.011412269032075427\n",
            "899 -0.010254088341387179 0.010254088341387179\n",
            "999 -0.00930844722656234 0.00930844722656234\n"
          ]
        }
      ]
    },
    {
      "cell_type": "code",
      "source": [
        "# 0 -> 1\n",
        "x = 0\n",
        "y = 1\n",
        "w = tf.random.normal([1],0,1)\n",
        "\n",
        "for i in range(1000):\n",
        "  output = sigmoid(x * w) # x가 0, w에 더해지는 값이 없음 -> bias(편향)을 뉴런에 넣어줌.\n",
        "  error = y - output\n",
        "  w = w + (x * 0.1 * error)\n",
        "\n",
        "  if i % 100 == 99:\n",
        "    print(i, error, output)"
      ],
      "metadata": {
        "id": "MVqyA36Kq6bn",
        "colab": {
          "base_uri": "https://localhost:8080/"
        },
        "outputId": "d148b2a7-8533-4e34-dc78-3b3d2c2b0495"
      },
      "execution_count": 4,
      "outputs": [
        {
          "output_type": "stream",
          "name": "stdout",
          "text": [
            "99 0.5 0.5\n",
            "199 0.5 0.5\n",
            "299 0.5 0.5\n",
            "399 0.5 0.5\n",
            "499 0.5 0.5\n",
            "599 0.5 0.5\n",
            "699 0.5 0.5\n",
            "799 0.5 0.5\n",
            "899 0.5 0.5\n",
            "999 0.5 0.5\n"
          ]
        }
      ]
    },
    {
      "cell_type": "code",
      "source": [
        "# + bias\n",
        "x = 0\n",
        "y = 1\n",
        "w = tf.random.normal([1],0,1)\n",
        "b = tf.random.normal([1],0,1)\n",
        "\n",
        "for i in range(1000):\n",
        "  output = sigmoid(x * w + 1 * b)\n",
        "  error = y - output\n",
        "  w = w + (x * 0.1 * error)\n",
        "  b = b + (1 * 0.1 * error)\n",
        "\n",
        "  if i % 100 == 99:\n",
        "    print(i, error, output)\n"
      ],
      "metadata": {
        "colab": {
          "base_uri": "https://localhost:8080/"
        },
        "id": "2C2ZbbAK5p3a",
        "outputId": "28ad4760-45e3-4bb6-d3c2-94e33849ac9e"
      },
      "execution_count": 8,
      "outputs": [
        {
          "output_type": "stream",
          "name": "stdout",
          "text": [
            "99 0.08423476875522085 0.9157652312447792\n",
            "199 0.04699809642271058 0.9530019035772894\n",
            "299 0.03235455697438183 0.9676454430256182\n",
            "399 0.02460656940952055 0.9753934305904794\n",
            "499 0.01982962895780216 0.9801703710421978\n",
            "599 0.01659551236737855 0.9834044876326214\n",
            "699 0.014263089666910367 0.9857369103330896\n",
            "799 0.012502497674481972 0.987497502325518\n",
            "899 0.011126959384108792 0.9888730406158912\n",
            "999 0.010022906084027006 0.989977093915973\n"
          ]
        }
      ]
    },
    {
      "cell_type": "code",
      "source": [],
      "metadata": {
        "id": "162Urstl7pgp"
      },
      "execution_count": null,
      "outputs": []
    }
  ]
}