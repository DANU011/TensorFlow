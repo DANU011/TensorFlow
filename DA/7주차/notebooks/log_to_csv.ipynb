{
 "cells": [
  {
   "cell_type": "code",
   "execution_count": 1,
   "metadata": {
    "collapsed": true,
    "ExecuteTime": {
     "end_time": "2023-06-08T08:03:16.743375900Z",
     "start_time": "2023-06-08T08:03:16.727755400Z"
    }
   },
   "outputs": [],
   "source": [
    "import re\n",
    "import csv\n",
    "\n",
    "# 입력 및 출력 파일 경로\n",
    "input_file = '../data/Arduino/fall.log'\n",
    "output_file = '../data/Arduino/fall_output.csv'\n",
    "\n",
    "# 데이터 추출 및 CSV 파일 저장\n",
    "with open(input_file, 'r') as file:\n",
    "    lines = file.readlines()\n",
    "\n",
    "data = []\n",
    "line_data = []\n",
    "for line in lines:\n",
    "    matches = re.findall(r'accX:(.*?),accY:(.*?),accZ:(.*?),gyrX:(.*?),gyrY:(.*?),gyrZ:(.*?)\\n', line)\n",
    "    if matches:\n",
    "        line_data = [float(match) for match in matches[0]]\n",
    "    else:\n",
    "        continue\n",
    "    data.append(line_data)\n",
    "\n",
    "with open(output_file, 'w', newline='') as file:\n",
    "    writer = csv.writer(file)\n",
    "    writer.writerows(data)\n"
   ]
  },
  {
   "cell_type": "code",
   "execution_count": 2,
   "outputs": [],
   "source": [
    "import pandas as pd\n",
    "\n",
    "# CSV 파일 경로\n",
    "csv_file = \"../data/Arduino/fall_output.csv\"\n",
    "\n",
    "# 필드명 리스트\n",
    "fields = [\"accX\", \"accY\", \"accZ\", \"gyrX\", \"gyrY\", \"gyrZ\"]\n",
    "\n",
    "# CSV 파일을 DataFrame으로 불러오기\n",
    "df = pd.read_csv(csv_file, header=None)\n",
    "\n",
    "# 필드명을 지정해주기\n",
    "df.columns = fields"
   ],
   "metadata": {
    "collapsed": false,
    "ExecuteTime": {
     "end_time": "2023-06-08T08:17:15.025463600Z",
     "start_time": "2023-06-08T08:17:13.895967600Z"
    }
   }
  },
  {
   "cell_type": "code",
   "execution_count": 3,
   "outputs": [
    {
     "name": "stdout",
     "output_type": "stream",
     "text": [
      "       accX     accY     accZ    gyrX    gyrY    gyrZ\n",
      "0    7364.0  12924.0 -10060.0  6593.0 -4121.0  -795.0\n",
      "1    2916.0  14792.0 -11680.0  6729.0 -1671.0 -3270.0\n",
      "2    2944.0   3324.0  -8784.0  3642.0 -3577.0 -4384.0\n",
      "3    1444.0   3392.0  -3444.0  3175.0 -7361.0 -3924.0\n",
      "4    -200.0   3424.0  -3784.0  3323.0 -2527.0 -1820.0\n",
      "..      ...      ...      ...     ...     ...     ...\n",
      "194  1424.0  11660.0 -12896.0  -828.0   -47.0   223.0\n",
      "195  1356.0  11560.0 -12924.0  -429.0  -395.0   252.0\n",
      "196  1208.0  11864.0 -12960.0  -812.0  -141.0   159.0\n",
      "197  1468.0  11732.0 -12880.0  -303.0   151.0   480.0\n",
      "198  1380.0  11760.0 -12924.0  -898.0  -204.0   365.0\n",
      "\n",
      "[199 rows x 6 columns]\n"
     ]
    }
   ],
   "source": [
    "print(df)"
   ],
   "metadata": {
    "collapsed": false,
    "ExecuteTime": {
     "end_time": "2023-06-08T08:17:26.753608300Z",
     "start_time": "2023-06-08T08:17:26.742712500Z"
    }
   }
  },
  {
   "cell_type": "code",
   "execution_count": 4,
   "outputs": [
    {
     "name": "stdout",
     "output_type": "stream",
     "text": [
      "     accX     accY     accZ    gyrX    gyrY    gyrZ  scaled_gx  scaled_gy   \n",
      "0  7364.0  12924.0 -10060.0  6593.0 -4121.0  -795.0   0.462627  -0.076111  \\\n",
      "1  2916.0  14792.0 -11680.0  6729.0 -1671.0 -3270.0   0.471793   0.132471   \n",
      "2  2944.0   3324.0  -8784.0  3642.0 -3577.0 -4384.0   0.263733  -0.029797   \n",
      "3  1444.0   3392.0  -3444.0  3175.0 -7361.0 -3924.0   0.232257  -0.351950   \n",
      "4  -200.0   3424.0  -3784.0  3323.0 -2527.0 -1820.0   0.242232   0.059595   \n",
      "\n",
      "   scaled_gz  \n",
      "0  -0.058610  \n",
      "1  -0.315806  \n",
      "2  -0.431570  \n",
      "3  -0.383768  \n",
      "4  -0.165125  \n"
     ]
    }
   ],
   "source": [
    "from sklearn.preprocessing import MinMaxScaler\n",
    "\n",
    "# MinMaxScaler 인스턴스 생성\n",
    "scaler = MinMaxScaler(feature_range=(-1, 1))\n",
    "\n",
    "# 'gx', 'gy', 'gz' 열의 데이터 추출\n",
    "data = df[['gyrX', 'gyrY', 'gyrZ']].values\n",
    "\n",
    "# 데이터 스케일링\n",
    "scaled_data = scaler.fit_transform(data)\n",
    "\n",
    "# 스케일링된 값을 새로운 열에 저장\n",
    "df['scaled_gx'] = scaled_data[:, 0]\n",
    "df['scaled_gy'] = scaled_data[:, 1]\n",
    "df['scaled_gz'] = scaled_data[:, 2]\n",
    "\n",
    "print(df.head())"
   ],
   "metadata": {
    "collapsed": false,
    "ExecuteTime": {
     "end_time": "2023-06-08T08:19:08.277164200Z",
     "start_time": "2023-06-08T08:19:07.730473600Z"
    }
   }
  },
  {
   "cell_type": "code",
   "execution_count": 5,
   "outputs": [],
   "source": [
    "df.to_csv('../data/Arduino/fall_sc.csv', index=False)"
   ],
   "metadata": {
    "collapsed": false,
    "ExecuteTime": {
     "end_time": "2023-06-08T08:22:58.548608100Z",
     "start_time": "2023-06-08T08:22:58.532985300Z"
    }
   }
  },
  {
   "cell_type": "code",
   "execution_count": null,
   "outputs": [],
   "source": [],
   "metadata": {
    "collapsed": false
   }
  }
 ],
 "metadata": {
  "kernelspec": {
   "display_name": "Python 3",
   "language": "python",
   "name": "python3"
  },
  "language_info": {
   "codemirror_mode": {
    "name": "ipython",
    "version": 2
   },
   "file_extension": ".py",
   "mimetype": "text/x-python",
   "name": "python",
   "nbconvert_exporter": "python",
   "pygments_lexer": "ipython2",
   "version": "2.7.6"
  }
 },
 "nbformat": 4,
 "nbformat_minor": 0
}
