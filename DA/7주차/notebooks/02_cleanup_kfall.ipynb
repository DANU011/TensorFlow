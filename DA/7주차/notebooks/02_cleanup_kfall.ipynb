{
 "cells": [
  {
   "cell_type": "code",
   "execution_count": 4,
   "metadata": {
    "collapsed": true,
    "ExecuteTime": {
     "end_time": "2023-06-07T00:53:21.084385100Z",
     "start_time": "2023-06-07T00:53:15.547541600Z"
    }
   },
   "outputs": [
    {
     "name": "stdout",
     "output_type": "stream",
     "text": [
      "   TimeStamp(s)  FrameCounter   AccX   AccY   AccZ      GyrX      GyrY  \\\n",
      "0          0.01             1 -0.053 -1.004  0.000 -0.057296  0.401071   \n",
      "1          0.02             2 -0.054 -1.007  0.000 -0.057296  0.229183   \n",
      "2          0.03             3 -0.056 -1.009 -0.004 -0.458366  0.286479   \n",
      "3          0.04             4 -0.053 -1.011 -0.009 -0.916733  0.458366   \n",
      "4          0.05             5 -0.052 -1.012 -0.011 -1.088620  0.343775   \n",
      "\n",
      "       GyrZ     EulerX    EulerY     EulerZ Subject ID  Task ID  Trial ID  \\\n",
      "0  0.343775  87.788625 -2.859060 -20.202499        S06        1         1   \n",
      "1  0.229183  87.788625 -2.864790 -20.196769        S06        1         1   \n",
      "2  0.171887  87.782895 -2.864790 -20.196769        S06        1         1   \n",
      "3  0.229183  87.771436 -2.870520 -20.191040        S06        1         1   \n",
      "4  0.401071  87.817273 -2.841872 -20.191040        S06        1         1   \n",
      "\n",
      "                  Label  \n",
      "0  Stand for 30 seconds  \n",
      "1  Stand for 30 seconds  \n",
      "2  Stand for 30 seconds  \n",
      "3  Stand for 30 seconds  \n",
      "4  Stand for 30 seconds  \n"
     ]
    }
   ],
   "source": [
    "import pandas as pd\n",
    "\n",
    "# CSV 파일 경로\n",
    "file_path = \"../data/sensor_data_label.csv\"\n",
    "\n",
    "# CSV 파일 불러오기\n",
    "df = pd.read_csv(file_path)\n",
    "\n",
    "# 데이터 확인\n",
    "print(df.head())"
   ]
  },
  {
   "cell_type": "code",
   "execution_count": 5,
   "outputs": [
    {
     "name": "stdout",
     "output_type": "stream",
     "text": [
      "TimeStamp(s)    0\n",
      "FrameCounter    0\n",
      "AccX            0\n",
      "AccY            0\n",
      "AccZ            0\n",
      "GyrX            0\n",
      "GyrY            0\n",
      "GyrZ            0\n",
      "EulerX          0\n",
      "EulerY          0\n",
      "EulerZ          0\n",
      "Subject ID      0\n",
      "Task ID         0\n",
      "Trial ID        0\n",
      "Label           0\n",
      "dtype: int64\n"
     ]
    }
   ],
   "source": [
    "import pandas as pd\n",
    "\n",
    "# 데이터 프레임 df에서 결측치 카운트\n",
    "missing_counts = df.isnull().sum()\n",
    "\n",
    "# 결과 출력\n",
    "print(missing_counts)"
   ],
   "metadata": {
    "collapsed": false,
    "ExecuteTime": {
     "end_time": "2023-06-07T00:53:27.230444400Z",
     "start_time": "2023-06-07T00:53:26.965573Z"
    }
   }
  },
  {
   "cell_type": "code",
   "execution_count": 7,
   "outputs": [
    {
     "name": "stdout",
     "output_type": "stream",
     "text": [
      "   TimeStamp(s)  FrameCounter   AccX   AccY   AccZ      GyrX      GyrY  \\\n",
      "0          0.01             1 -0.053 -1.004  0.000 -0.057296  0.401071   \n",
      "1          0.02             2 -0.054 -1.007  0.000 -0.057296  0.229183   \n",
      "2          0.03             3 -0.056 -1.009 -0.004 -0.458366  0.286479   \n",
      "3          0.04             4 -0.053 -1.011 -0.009 -0.916733  0.458366   \n",
      "4          0.05             5 -0.052 -1.012 -0.011 -1.088620  0.343775   \n",
      "\n",
      "       GyrZ Subject ID  Task ID  Trial ID                 Label  \n",
      "0  0.343775        S06        1         1  Stand for 30 seconds  \n",
      "1  0.229183        S06        1         1  Stand for 30 seconds  \n",
      "2  0.171887        S06        1         1  Stand for 30 seconds  \n",
      "3  0.229183        S06        1         1  Stand for 30 seconds  \n",
      "4  0.401071        S06        1         1  Stand for 30 seconds  \n"
     ]
    }
   ],
   "source": [
    "# 'EulerX', 'EulerY', 'EulerZ' 필드를 드랍\n",
    "df_updated = df.drop(['EulerX', 'EulerY', 'EulerZ'], axis=1)\n",
    "\n",
    "# 결과 출력\n",
    "print(df_updated.head())"
   ],
   "metadata": {
    "collapsed": false,
    "ExecuteTime": {
     "end_time": "2023-06-07T00:54:03.484935Z",
     "start_time": "2023-06-07T00:54:03.313072900Z"
    }
   }
  },
  {
   "cell_type": "code",
   "execution_count": 9,
   "outputs": [],
   "source": [
    "import pickle\n",
    "\n",
    "# 데이터프레임 저장\n",
    "with open('df_cleanup.pickle', 'wb') as f:\n",
    "    pickle.dump(df_updated, f)"
   ],
   "metadata": {
    "collapsed": false,
    "ExecuteTime": {
     "end_time": "2023-06-07T01:03:35.786698400Z",
     "start_time": "2023-06-07T01:03:34.227004500Z"
    }
   }
  },
  {
   "cell_type": "code",
   "execution_count": null,
   "outputs": [],
   "source": [],
   "metadata": {
    "collapsed": false
   }
  }
 ],
 "metadata": {
  "kernelspec": {
   "display_name": "Python 3",
   "language": "python",
   "name": "python3"
  },
  "language_info": {
   "codemirror_mode": {
    "name": "ipython",
    "version": 2
   },
   "file_extension": ".py",
   "mimetype": "text/x-python",
   "name": "python",
   "nbconvert_exporter": "python",
   "pygments_lexer": "ipython2",
   "version": "2.7.6"
  }
 },
 "nbformat": 4,
 "nbformat_minor": 0
}
