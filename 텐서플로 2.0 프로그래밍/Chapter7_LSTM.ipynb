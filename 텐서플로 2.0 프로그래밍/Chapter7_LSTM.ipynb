{
  "nbformat": 4,
  "nbformat_minor": 0,
  "metadata": {
    "colab": {
      "provenance": []
    },
    "kernelspec": {
      "name": "python3",
      "display_name": "Python 3"
    },
    "accelerator": "GPU",
    "gpuClass": "standard"
  },
  "cells": [
    {
      "cell_type": "markdown",
      "metadata": {
        "id": "BCq2UCUvEkhh"
      },
      "source": [
        "<시작하세요! 텐서플로 2.0 프로그래밍> 예제코드입니다.\n",
        "\n",
        "- 예제 코드를 실행하기 위해서는 [파일] > [드라이브에 사본 저장]으로 본인의 계정에 사본을 만든 다음 실행하면 됩니다.\n",
        "- 예제 코드는 [깃허브 저장소](https://github.com/wikibook/tf2)에서도 동일하게 제공됩니다. 예제에 대한 질문이나 책에 대한 질문은 깃허브 저장소의 [Issues](https://github.com/wikibook/tf2/issues)에 올려주세요.\n",
        "- 각 장의 예제 파일은 처음부터 끝까지 실행하는 상황을 가정하고 작성되었습니다. 혹시 세션이 다운되는 등의 이유로 실행이 되지 않는 경우가 있다면, 필요한 라이브러리를 import 하신 후에 실행하시면 됩니다. (tensorflow, numpy, pandas 등)"
      ]
    },
    {
      "cell_type": "code",
      "metadata": {
        "id": "gl58Zr-ZKjRE",
        "outputId": "d543b023-0e5b-41c1-de7d-0cd945a0ce9e",
        "colab": {
          "base_uri": "https://localhost:8080/"
        }
      },
      "source": [
        "# 텐서플로 2 버전 선택\n",
        "try:\n",
        "    # %tensorflow_version only exists in Colab.\n",
        "    %tensorflow_version 2.x\n",
        "except Exception:\n",
        "    pass\n",
        "import tensorflow as tf\n",
        "import numpy as np"
      ],
      "execution_count": 1,
      "outputs": [
        {
          "output_type": "stream",
          "name": "stdout",
          "text": [
            "Colab only includes TensorFlow 2.x; %tensorflow_version has no effect.\n"
          ]
        }
      ]
    },
    {
      "cell_type": "markdown",
      "metadata": {
        "id": "OSciZqogK0Mg"
      },
      "source": [
        "# 7.2 주요 레이어 정리"
      ]
    },
    {
      "cell_type": "markdown",
      "metadata": {
        "id": "8DmYqaWfcxJa"
      },
      "source": [
        "## 7.2.1 SimpleRNN 레이어"
      ]
    },
    {
      "cell_type": "code",
      "metadata": {
        "id": "s0f2FG66cx27"
      },
      "source": [
        "# 7.1 SimpleRNN 레이어 생성 코드\n",
        "rnn1 = tf.keras.layers.SimpleRNN(units=1, activation='tanh', return_sequences=True)"
      ],
      "execution_count": null,
      "outputs": []
    },
    {
      "cell_type": "code",
      "metadata": {
        "id": "vU4_rMdw47Au",
        "outputId": "8f6cfc9f-a7c0-40d9-a546-11ec6421afd6",
        "colab": {
          "base_uri": "https://localhost:8080/"
        }
      },
      "source": [
        "# 7.2 시퀀스 예측 데이터 생성\n",
        "X = []\n",
        "Y = []\n",
        "for i in range(6):\n",
        "    # [0,1,2,3], [1,2,3,4] 같은 정수의 시퀀스를 만듭니다.\n",
        "    lst = list(range(i,i+4))\n",
        "\n",
        "    # 위에서 구한 시퀀스의 숫자들을 각각 10으로 나눈 다음 저장합니다.\n",
        "    # SimpleRNN 에 각 타임스텝에 하나씩 숫자가 들어가기 때문에 여기서도 하나씩 분리해서 배열에 저장합니다.\n",
        "    X.append(list(map(lambda c: [c/10], lst)))\n",
        "\n",
        "    # 정답에 해당하는 4, 5 등의 정수를 역시 위처럼 10으로 나눠서 저장합니다.\n",
        "    Y.append((i+4)/10)\n",
        "    \n",
        "X = np.array(X)\n",
        "Y = np.array(Y)\n",
        "for i in range(len(X)):\n",
        "    print(X[i], Y[i])"
      ],
      "execution_count": null,
      "outputs": [
        {
          "output_type": "stream",
          "name": "stdout",
          "text": [
            "[[0. ]\n",
            " [0.1]\n",
            " [0.2]\n",
            " [0.3]] 0.4\n",
            "[[0.1]\n",
            " [0.2]\n",
            " [0.3]\n",
            " [0.4]] 0.5\n",
            "[[0.2]\n",
            " [0.3]\n",
            " [0.4]\n",
            " [0.5]] 0.6\n",
            "[[0.3]\n",
            " [0.4]\n",
            " [0.5]\n",
            " [0.6]] 0.7\n",
            "[[0.4]\n",
            " [0.5]\n",
            " [0.6]\n",
            " [0.7]] 0.8\n",
            "[[0.5]\n",
            " [0.6]\n",
            " [0.7]\n",
            " [0.8]] 0.9\n"
          ]
        }
      ]
    },
    {
      "cell_type": "code",
      "metadata": {
        "id": "yFdjOc6G5kO1",
        "outputId": "4812232e-a234-4a0b-cbeb-604b2567f376",
        "colab": {
          "base_uri": "https://localhost:8080/"
        }
      },
      "source": [
        "# 7.3 시퀀스 예측 모델 정의\n",
        "model = tf.keras.Sequential([\n",
        "    tf.keras.layers.SimpleRNN(units=10, return_sequences=False, input_shape=[4,1]),\n",
        "    tf.keras.layers.Dense(1)\n",
        "])\n",
        "\n",
        "model.compile(optimizer='adam', loss='mse')\n",
        "model.summary()"
      ],
      "execution_count": null,
      "outputs": [
        {
          "output_type": "stream",
          "name": "stdout",
          "text": [
            "Model: \"sequential\"\n",
            "_________________________________________________________________\n",
            " Layer (type)                Output Shape              Param #   \n",
            "=================================================================\n",
            " simple_rnn_2 (SimpleRNN)    (None, 10)                120       \n",
            "                                                                 \n",
            " dense (Dense)               (None, 1)                 11        \n",
            "                                                                 \n",
            "=================================================================\n",
            "Total params: 131\n",
            "Trainable params: 131\n",
            "Non-trainable params: 0\n",
            "_________________________________________________________________\n"
          ]
        }
      ]
    },
    {
      "cell_type": "markdown",
      "source": [],
      "metadata": {
        "id": "LUly58bAGm3D"
      }
    },
    {
      "cell_type": "code",
      "metadata": {
        "id": "7odqgVWw5oyH",
        "outputId": "37d95926-f65f-492f-e46a-070f547aba71",
        "colab": {
          "base_uri": "https://localhost:8080/"
        }
      },
      "source": [
        "# 7.4 네트워크 훈련 및 결과 확인\n",
        "model.fit(X, Y, epochs=100, verbose=0)\n",
        "print(np.shape(X)) # shape(batch size, timesteps, dimension), dimension은 column 숫자, timesteps는 시간에 따라 입력되는 값: h,e,l,l,o > h는 x0[1,0,0,0], e는 x1[0,1,0,0] > dim은 4가 된다\n",
        "# batch는 hello, elloh, helhel 등이 배치이다. \n",
        "print(model.predict(X))"
      ],
      "execution_count": null,
      "outputs": [
        {
          "output_type": "stream",
          "name": "stdout",
          "text": [
            "(6, 4, 1)\n",
            "1/1 [==============================] - 0s 220ms/step\n",
            "[[0.39025816]\n",
            " [0.501847  ]\n",
            " [0.60755134]\n",
            " [0.7066053 ]\n",
            " [0.79981434]\n",
            " [0.8885553 ]]\n"
          ]
        }
      ]
    },
    {
      "cell_type": "code",
      "metadata": {
        "id": "KQUaYRRG7aWA",
        "outputId": "4f090da3-718e-4dc4-8a07-6c6f6b5851d0",
        "colab": {
          "base_uri": "https://localhost:8080/"
        }
      },
      "source": [
        "# 7.5 학습되지 않은 시퀀스에 대한 예측 결과\n",
        "print(model.predict(np.array([[[0.6],[0.7],[0.8],[0.9]]])))\n",
        "print(model.predict(np.array([[[-0.1],[0.0],[0.1],[0.2]]])))"
      ],
      "execution_count": null,
      "outputs": [
        {
          "output_type": "stream",
          "name": "stdout",
          "text": [
            "1/1 [==============================] - 0s 19ms/step\n",
            "[[0.97402054]]\n",
            "1/1 [==============================] - 0s 18ms/step\n",
            "[[0.27556396]]\n"
          ]
        }
      ]
    },
    {
      "cell_type": "markdown",
      "metadata": {
        "id": "HGzdLJHZvSUg"
      },
      "source": [
        "## 7.2.2 LSTM 레이어"
      ]
    },
    {
      "cell_type": "code",
      "metadata": {
        "id": "iYyU1BKZFDvo",
        "outputId": "2a4c66f6-29ca-45d6-b3b7-16169c0dc8fe",
        "colab": {
          "base_uri": "https://localhost:8080/"
        }
      },
      "source": [
        "# 7.6 곱셈 문제 데이터 생성\n",
        "X = []\n",
        "Y = []\n",
        "for i in range(3000):\n",
        "    # 0~1 사이의 랜덤한 숫자 100 개를 만듭니다.\n",
        "    lst = np.random.rand(100)\n",
        "    # 마킹할 숫자 2개의 인덱스를 뽑습니다.\n",
        "    idx = np.random.choice(100, 2, replace=False)\n",
        "    # 마킹 인덱스가 저장된 원-핫 인코딩 벡터를 만듭니다.\n",
        "    zeros = np.zeros(100)\n",
        "    zeros[idx] = 1\n",
        "    # 마킹 인덱스와 랜덤한 숫자를 합쳐서 X 에 저장합니다.\n",
        "    X.append(np.array(list(zip(zeros, lst))))\n",
        "    # 마킹 인덱스가 1인 값들만 서로 곱해서 Y 에 저장합니다.\n",
        "    Y.append(np.prod(lst[idx]))\n",
        "    \n",
        "print(X[0], Y[0])"
      ],
      "execution_count": 3,
      "outputs": [
        {
          "output_type": "stream",
          "name": "stdout",
          "text": [
            "[[0.         0.52668091]\n",
            " [0.         0.71883413]\n",
            " [0.         0.89503797]\n",
            " [0.         0.14610539]\n",
            " [0.         0.91922471]\n",
            " [0.         0.45693782]\n",
            " [0.         0.35731786]\n",
            " [0.         0.68312504]\n",
            " [0.         0.81859208]\n",
            " [0.         0.47816584]\n",
            " [0.         0.61180784]\n",
            " [0.         0.44067523]\n",
            " [1.         0.18401684]\n",
            " [0.         0.35065555]\n",
            " [0.         0.33795617]\n",
            " [0.         0.04396937]\n",
            " [0.         0.31084226]\n",
            " [0.         0.15309853]\n",
            " [0.         0.3340986 ]\n",
            " [0.         0.17277515]\n",
            " [0.         0.6187037 ]\n",
            " [0.         0.56101018]\n",
            " [0.         0.79555403]\n",
            " [0.         0.20486348]\n",
            " [0.         0.63010714]\n",
            " [0.         0.03746108]\n",
            " [0.         0.87664173]\n",
            " [0.         0.02696753]\n",
            " [1.         0.60490365]\n",
            " [0.         0.81611681]\n",
            " [0.         0.42289336]\n",
            " [0.         0.55195786]\n",
            " [0.         0.95528481]\n",
            " [0.         0.89987515]\n",
            " [0.         0.86756924]\n",
            " [0.         0.21641607]\n",
            " [0.         0.36739005]\n",
            " [0.         0.6226686 ]\n",
            " [0.         0.91496749]\n",
            " [0.         0.68774108]\n",
            " [0.         0.12525139]\n",
            " [0.         0.04764555]\n",
            " [0.         0.99333167]\n",
            " [0.         0.74949946]\n",
            " [0.         0.41077622]\n",
            " [0.         0.44640965]\n",
            " [0.         0.75255098]\n",
            " [0.         0.9880708 ]\n",
            " [0.         0.39086008]\n",
            " [0.         0.07753667]\n",
            " [0.         0.15465624]\n",
            " [0.         0.7294181 ]\n",
            " [0.         0.21790154]\n",
            " [0.         0.8914094 ]\n",
            " [0.         0.555218  ]\n",
            " [0.         0.71829398]\n",
            " [0.         0.58953422]\n",
            " [0.         0.57802908]\n",
            " [0.         0.19458595]\n",
            " [0.         0.47587201]\n",
            " [0.         0.15884511]\n",
            " [0.         0.45803503]\n",
            " [0.         0.11209399]\n",
            " [0.         0.29032737]\n",
            " [0.         0.81228877]\n",
            " [0.         0.93688994]\n",
            " [0.         0.49440742]\n",
            " [0.         0.38469832]\n",
            " [0.         0.54315027]\n",
            " [0.         0.01635213]\n",
            " [0.         0.44882534]\n",
            " [0.         0.60386784]\n",
            " [0.         0.26509334]\n",
            " [0.         0.95411186]\n",
            " [0.         0.84470309]\n",
            " [0.         0.12083123]\n",
            " [0.         0.08161514]\n",
            " [0.         0.73201727]\n",
            " [0.         0.4418733 ]\n",
            " [0.         0.74590564]\n",
            " [0.         0.88580364]\n",
            " [0.         0.78880578]\n",
            " [0.         0.34947708]\n",
            " [0.         0.63280536]\n",
            " [0.         0.60830189]\n",
            " [0.         0.60444964]\n",
            " [0.         0.28644286]\n",
            " [0.         0.73282932]\n",
            " [0.         0.69318255]\n",
            " [0.         0.67028937]\n",
            " [0.         0.33126836]\n",
            " [0.         0.37447838]\n",
            " [0.         0.43432633]\n",
            " [0.         0.3037557 ]\n",
            " [0.         0.71773508]\n",
            " [0.         0.41080285]\n",
            " [0.         0.21449948]\n",
            " [0.         0.74365807]\n",
            " [0.         0.98454205]\n",
            " [0.         0.42334156]] 0.11131246089911327\n"
          ]
        }
      ]
    },
    {
      "cell_type": "code",
      "metadata": {
        "id": "doitxA8uOm5i",
        "outputId": "2e1fa541-1c2e-4987-c545-fe7eabe04ad5",
        "colab": {
          "base_uri": "https://localhost:8080/"
        }
      },
      "source": [
        "# 7.7 SimpleRNN 레이어를 사용한 곱셈 문제 모델 정의\n",
        "model = tf.keras.Sequential([\n",
        "    tf.keras.layers.SimpleRNN(units=30, return_sequences=True, input_shape=[100,2]),\n",
        "    tf.keras.layers.SimpleRNN(units=30),\n",
        "    tf.keras.layers.Dense(1)\n",
        "])\n",
        "\n",
        "model.compile(optimizer='adam', loss='mse')\n",
        "model.summary()"
      ],
      "execution_count": 4,
      "outputs": [
        {
          "output_type": "stream",
          "name": "stdout",
          "text": [
            "Model: \"sequential_1\"\n",
            "_________________________________________________________________\n",
            " Layer (type)                Output Shape              Param #   \n",
            "=================================================================\n",
            " simple_rnn (SimpleRNN)      (None, 100, 30)           990       \n",
            "                                                                 \n",
            " simple_rnn_1 (SimpleRNN)    (None, 30)                1830      \n",
            "                                                                 \n",
            " dense_1 (Dense)             (None, 1)                 31        \n",
            "                                                                 \n",
            "=================================================================\n",
            "Total params: 2,851\n",
            "Trainable params: 2,851\n",
            "Non-trainable params: 0\n",
            "_________________________________________________________________\n"
          ]
        }
      ]
    },
    {
      "cell_type": "code",
      "metadata": {
        "id": "HTp4nvHYOqOZ",
        "outputId": "a25f1874-7900-45c8-ee9a-1366a2a03d8a",
        "colab": {
          "base_uri": "https://localhost:8080/"
        }
      },
      "source": [
        "# 7.8 SimpleRNN 네트워크 학습\n",
        "X = np.array(X)\n",
        "Y = np.array(Y)\n",
        "# 2560개의 데이터만 학습시킵니다. validation 데이터는 20% 로 지정합니다.\n",
        "history = model.fit(X[:2560], Y[:2560], epochs=100, validation_split=0.2)"
      ],
      "execution_count": 5,
      "outputs": [
        {
          "output_type": "stream",
          "name": "stdout",
          "text": [
            "Epoch 1/100\n",
            "64/64 [==============================] - 14s 122ms/step - loss: 0.1066 - val_loss: 0.0535\n",
            "Epoch 2/100\n",
            "64/64 [==============================] - 9s 133ms/step - loss: 0.0497 - val_loss: 0.0508\n",
            "Epoch 3/100\n",
            "64/64 [==============================] - 8s 131ms/step - loss: 0.0500 - val_loss: 0.0527\n",
            "Epoch 4/100\n",
            "64/64 [==============================] - 7s 115ms/step - loss: 0.0506 - val_loss: 0.0525\n",
            "Epoch 5/100\n",
            "64/64 [==============================] - 8s 133ms/step - loss: 0.0492 - val_loss: 0.0525\n",
            "Epoch 6/100\n",
            "64/64 [==============================] - 8s 132ms/step - loss: 0.0502 - val_loss: 0.0496\n",
            "Epoch 7/100\n",
            "64/64 [==============================] - 8s 123ms/step - loss: 0.0497 - val_loss: 0.0509\n",
            "Epoch 8/100\n",
            "64/64 [==============================] - 9s 134ms/step - loss: 0.0502 - val_loss: 0.0499\n",
            "Epoch 9/100\n",
            "64/64 [==============================] - 9s 134ms/step - loss: 0.0515 - val_loss: 0.0499\n",
            "Epoch 10/100\n",
            "64/64 [==============================] - 7s 117ms/step - loss: 0.0497 - val_loss: 0.0606\n",
            "Epoch 11/100\n",
            "64/64 [==============================] - 9s 135ms/step - loss: 0.0499 - val_loss: 0.0502\n",
            "Epoch 12/100\n",
            "64/64 [==============================] - 9s 137ms/step - loss: 0.0496 - val_loss: 0.0579\n",
            "Epoch 13/100\n",
            "64/64 [==============================] - 7s 116ms/step - loss: 0.0497 - val_loss: 0.0517\n",
            "Epoch 14/100\n",
            "64/64 [==============================] - 9s 135ms/step - loss: 0.0500 - val_loss: 0.0491\n",
            "Epoch 15/100\n",
            "64/64 [==============================] - 9s 134ms/step - loss: 0.0496 - val_loss: 0.0490\n",
            "Epoch 16/100\n",
            "64/64 [==============================] - 7s 116ms/step - loss: 0.0504 - val_loss: 0.0495\n",
            "Epoch 17/100\n",
            "64/64 [==============================] - 8s 131ms/step - loss: 0.0504 - val_loss: 0.0491\n",
            "Epoch 18/100\n",
            "64/64 [==============================] - 8s 131ms/step - loss: 0.0503 - val_loss: 0.0518\n",
            "Epoch 19/100\n",
            "64/64 [==============================] - 7s 114ms/step - loss: 0.0498 - val_loss: 0.0561\n",
            "Epoch 20/100\n",
            "64/64 [==============================] - 9s 134ms/step - loss: 0.0501 - val_loss: 0.0559\n",
            "Epoch 21/100\n",
            "64/64 [==============================] - 8s 126ms/step - loss: 0.0493 - val_loss: 0.0495\n",
            "Epoch 22/100\n",
            "64/64 [==============================] - 8s 123ms/step - loss: 0.0496 - val_loss: 0.0502\n",
            "Epoch 23/100\n",
            "64/64 [==============================] - 8s 131ms/step - loss: 0.0502 - val_loss: 0.0494\n",
            "Epoch 24/100\n",
            "64/64 [==============================] - 8s 119ms/step - loss: 0.0491 - val_loss: 0.0489\n",
            "Epoch 25/100\n",
            "64/64 [==============================] - 8s 125ms/step - loss: 0.0499 - val_loss: 0.0496\n",
            "Epoch 26/100\n",
            "64/64 [==============================] - 8s 131ms/step - loss: 0.0493 - val_loss: 0.0522\n",
            "Epoch 27/100\n",
            "64/64 [==============================] - 7s 113ms/step - loss: 0.0487 - val_loss: 0.0507\n",
            "Epoch 28/100\n",
            "64/64 [==============================] - 8s 132ms/step - loss: 0.0495 - val_loss: 0.0562\n",
            "Epoch 29/100\n",
            "64/64 [==============================] - 8s 131ms/step - loss: 0.0492 - val_loss: 0.0545\n",
            "Epoch 30/100\n",
            "64/64 [==============================] - 7s 115ms/step - loss: 0.0489 - val_loss: 0.0534\n",
            "Epoch 31/100\n",
            "64/64 [==============================] - 9s 134ms/step - loss: 0.0486 - val_loss: 0.0495\n",
            "Epoch 32/100\n",
            "64/64 [==============================] - 9s 135ms/step - loss: 0.0483 - val_loss: 0.0520\n",
            "Epoch 33/100\n",
            "64/64 [==============================] - 7s 115ms/step - loss: 0.0490 - val_loss: 0.0494\n",
            "Epoch 34/100\n",
            "64/64 [==============================] - 8s 131ms/step - loss: 0.0486 - val_loss: 0.0493\n",
            "Epoch 35/100\n",
            "64/64 [==============================] - 8s 132ms/step - loss: 0.0480 - val_loss: 0.0496\n",
            "Epoch 36/100\n",
            "64/64 [==============================] - 7s 114ms/step - loss: 0.0478 - val_loss: 0.0491\n",
            "Epoch 37/100\n",
            "64/64 [==============================] - 8s 133ms/step - loss: 0.0480 - val_loss: 0.0485\n",
            "Epoch 38/100\n",
            "64/64 [==============================] - 8s 130ms/step - loss: 0.0483 - val_loss: 0.0520\n",
            "Epoch 39/100\n",
            "64/64 [==============================] - 7s 115ms/step - loss: 0.0482 - val_loss: 0.0520\n",
            "Epoch 40/100\n",
            "64/64 [==============================] - 8s 131ms/step - loss: 0.0477 - val_loss: 0.0510\n",
            "Epoch 41/100\n",
            "64/64 [==============================] - 8s 120ms/step - loss: 0.0482 - val_loss: 0.0486\n",
            "Epoch 42/100\n",
            "64/64 [==============================] - 8s 129ms/step - loss: 0.0472 - val_loss: 0.0561\n",
            "Epoch 43/100\n",
            "64/64 [==============================] - 8s 133ms/step - loss: 0.0482 - val_loss: 0.0487\n",
            "Epoch 44/100\n",
            "64/64 [==============================] - 7s 115ms/step - loss: 0.0468 - val_loss: 0.0497\n",
            "Epoch 45/100\n",
            "64/64 [==============================] - 8s 129ms/step - loss: 0.0473 - val_loss: 0.0590\n",
            "Epoch 46/100\n",
            "64/64 [==============================] - 8s 133ms/step - loss: 0.0474 - val_loss: 0.0559\n",
            "Epoch 47/100\n",
            "64/64 [==============================] - 7s 114ms/step - loss: 0.0481 - val_loss: 0.0484\n",
            "Epoch 48/100\n",
            "64/64 [==============================] - 8s 132ms/step - loss: 0.0476 - val_loss: 0.0595\n",
            "Epoch 49/100\n",
            "64/64 [==============================] - 8s 131ms/step - loss: 0.0477 - val_loss: 0.0508\n",
            "Epoch 50/100\n",
            "64/64 [==============================] - 7s 116ms/step - loss: 0.0467 - val_loss: 0.0523\n",
            "Epoch 51/100\n",
            "64/64 [==============================] - 8s 133ms/step - loss: 0.0456 - val_loss: 0.0537\n",
            "Epoch 52/100\n",
            "64/64 [==============================] - 9s 136ms/step - loss: 0.0460 - val_loss: 0.0537\n",
            "Epoch 53/100\n",
            "64/64 [==============================] - 7s 115ms/step - loss: 0.0465 - val_loss: 0.0535\n",
            "Epoch 54/100\n",
            "64/64 [==============================] - 8s 132ms/step - loss: 0.0470 - val_loss: 0.0512\n",
            "Epoch 55/100\n",
            "64/64 [==============================] - 8s 133ms/step - loss: 0.0456 - val_loss: 0.0519\n",
            "Epoch 56/100\n",
            "64/64 [==============================] - 7s 116ms/step - loss: 0.0454 - val_loss: 0.0486\n",
            "Epoch 57/100\n",
            "64/64 [==============================] - 8s 130ms/step - loss: 0.0462 - val_loss: 0.0493\n",
            "Epoch 58/100\n",
            "64/64 [==============================] - 8s 125ms/step - loss: 0.0456 - val_loss: 0.0507\n",
            "Epoch 59/100\n",
            "64/64 [==============================] - 8s 119ms/step - loss: 0.0461 - val_loss: 0.0502\n",
            "Epoch 60/100\n",
            "64/64 [==============================] - 8s 133ms/step - loss: 0.0456 - val_loss: 0.0515\n",
            "Epoch 61/100\n",
            "64/64 [==============================] - 7s 117ms/step - loss: 0.0456 - val_loss: 0.0494\n",
            "Epoch 62/100\n",
            "64/64 [==============================] - 9s 133ms/step - loss: 0.0464 - val_loss: 0.0497\n",
            "Epoch 63/100\n",
            "64/64 [==============================] - 8s 133ms/step - loss: 0.0443 - val_loss: 0.0502\n",
            "Epoch 64/100\n",
            "64/64 [==============================] - 7s 116ms/step - loss: 0.0441 - val_loss: 0.0549\n",
            "Epoch 65/100\n",
            "64/64 [==============================] - 8s 130ms/step - loss: 0.0447 - val_loss: 0.0512\n",
            "Epoch 66/100\n",
            "64/64 [==============================] - 8s 131ms/step - loss: 0.0437 - val_loss: 0.0518\n",
            "Epoch 67/100\n",
            "64/64 [==============================] - 7s 115ms/step - loss: 0.0434 - val_loss: 0.0496\n",
            "Epoch 68/100\n",
            "64/64 [==============================] - 8s 131ms/step - loss: 0.0437 - val_loss: 0.0507\n",
            "Epoch 69/100\n",
            "64/64 [==============================] - 8s 131ms/step - loss: 0.0432 - val_loss: 0.0520\n",
            "Epoch 70/100\n",
            "64/64 [==============================] - 7s 116ms/step - loss: 0.0420 - val_loss: 0.0544\n",
            "Epoch 71/100\n",
            "64/64 [==============================] - 8s 132ms/step - loss: 0.0423 - val_loss: 0.0533\n",
            "Epoch 72/100\n",
            "64/64 [==============================] - 9s 135ms/step - loss: 0.0449 - val_loss: 0.0497\n",
            "Epoch 73/100\n",
            "64/64 [==============================] - 7s 115ms/step - loss: 0.0428 - val_loss: 0.0581\n",
            "Epoch 74/100\n",
            "64/64 [==============================] - 8s 131ms/step - loss: 0.0440 - val_loss: 0.0532\n",
            "Epoch 75/100\n",
            "64/64 [==============================] - 9s 133ms/step - loss: 0.0425 - val_loss: 0.0501\n",
            "Epoch 76/100\n",
            "64/64 [==============================] - 7s 114ms/step - loss: 0.0411 - val_loss: 0.0507\n",
            "Epoch 77/100\n",
            "64/64 [==============================] - 8s 131ms/step - loss: 0.0403 - val_loss: 0.0504\n",
            "Epoch 78/100\n",
            "64/64 [==============================] - 8s 125ms/step - loss: 0.0418 - val_loss: 0.0583\n",
            "Epoch 79/100\n",
            "64/64 [==============================] - 8s 119ms/step - loss: 0.0409 - val_loss: 0.0570\n",
            "Epoch 80/100\n",
            "64/64 [==============================] - 8s 132ms/step - loss: 0.0413 - val_loss: 0.0545\n",
            "Epoch 81/100\n",
            "64/64 [==============================] - 7s 117ms/step - loss: 0.0399 - val_loss: 0.0522\n",
            "Epoch 82/100\n",
            "64/64 [==============================] - 9s 133ms/step - loss: 0.0403 - val_loss: 0.0513\n",
            "Epoch 83/100\n",
            "64/64 [==============================] - 8s 130ms/step - loss: 0.0409 - val_loss: 0.0532\n",
            "Epoch 84/100\n",
            "64/64 [==============================] - 7s 114ms/step - loss: 0.0401 - val_loss: 0.0527\n",
            "Epoch 85/100\n",
            "64/64 [==============================] - 8s 132ms/step - loss: 0.0399 - val_loss: 0.0574\n",
            "Epoch 86/100\n",
            "64/64 [==============================] - 9s 134ms/step - loss: 0.0390 - val_loss: 0.0548\n",
            "Epoch 87/100\n",
            "64/64 [==============================] - 7s 114ms/step - loss: 0.0383 - val_loss: 0.0572\n",
            "Epoch 88/100\n",
            "64/64 [==============================] - 9s 135ms/step - loss: 0.0382 - val_loss: 0.0526\n",
            "Epoch 89/100\n",
            "64/64 [==============================] - 9s 140ms/step - loss: 0.0384 - val_loss: 0.0569\n",
            "Epoch 90/100\n",
            "64/64 [==============================] - 8s 117ms/step - loss: 0.0385 - val_loss: 0.0581\n",
            "Epoch 91/100\n",
            "64/64 [==============================] - 9s 135ms/step - loss: 0.0368 - val_loss: 0.0568\n",
            "Epoch 92/100\n",
            "64/64 [==============================] - 9s 139ms/step - loss: 0.0375 - val_loss: 0.0604\n",
            "Epoch 93/100\n",
            "64/64 [==============================] - 7s 115ms/step - loss: 0.0370 - val_loss: 0.0529\n",
            "Epoch 94/100\n",
            "64/64 [==============================] - 9s 138ms/step - loss: 0.0365 - val_loss: 0.0593\n",
            "Epoch 95/100\n",
            "64/64 [==============================] - 9s 134ms/step - loss: 0.0379 - val_loss: 0.0541\n",
            "Epoch 96/100\n",
            "64/64 [==============================] - 8s 118ms/step - loss: 0.0356 - val_loss: 0.0518\n",
            "Epoch 97/100\n",
            "64/64 [==============================] - 9s 134ms/step - loss: 0.0363 - val_loss: 0.0522\n",
            "Epoch 98/100\n",
            "64/64 [==============================] - 8s 132ms/step - loss: 0.0378 - val_loss: 0.0543\n",
            "Epoch 99/100\n",
            "64/64 [==============================] - 7s 115ms/step - loss: 0.0343 - val_loss: 0.0551\n",
            "Epoch 100/100\n",
            "64/64 [==============================] - 8s 133ms/step - loss: 0.0369 - val_loss: 0.0563\n"
          ]
        }
      ]
    },
    {
      "cell_type": "code",
      "metadata": {
        "id": "3EiSvd5rOsIV",
        "outputId": "8ec60940-ea71-4228-a921-0dd91d320512",
        "colab": {
          "base_uri": "https://localhost:8080/",
          "height": 454
        }
      },
      "source": [
        "# 7.9 SimpleRNN 네트워크 학습 결과 확인\n",
        "import matplotlib.pyplot as plt\n",
        "plt.plot(history.history['loss'], 'b-', label='loss')\n",
        "plt.plot(history.history['val_loss'], 'r--', label='val_loss')\n",
        "plt.xlabel('Epoch')\n",
        "plt.legend()\n",
        "plt.show()"
      ],
      "execution_count": 6,
      "outputs": [
        {
          "output_type": "display_data",
          "data": {
            "text/plain": [
              "<Figure size 640x480 with 1 Axes>"
            ],
            "image/png": "[encoded data removed]"
          },
          "metadata": {}
        }
      ]
    },
    {
      "cell_type": "code",
      "metadata": {
        "id": "g5OnirteOyut",
        "outputId": "a7758b4c-d77e-414f-ea13-f09569024305",
        "colab": {
          "base_uri": "https://localhost:8080/"
        }
      },
      "source": [
        "# 7.10 Test 데이터에 대한 예측 정확도 확인\n",
        "model.evaluate(X[2560:], Y[2560:])\n",
        "prediction = model.predict(X[2560:2560+5])\n",
        "# 5개 테스트 데이터에 대한 예측을 표시합니다.\n",
        "for i in range(5):\n",
        "    print(Y[2560+i], '\\t', prediction[i][0], '\\tdiff:', abs(prediction[i][0] - Y[2560+i]))\n",
        "    \n",
        "prediction = model.predict(X[2560:])\n",
        "fail = 0\n",
        "for i in range(len(prediction)):\n",
        "    # 오차가 0.04 이상이면 오답입니다.\n",
        "    if abs(prediction[i][0] - Y[2560+i]) > 0.04:\n",
        "        fail += 1\n",
        "print('correctness:', (440 - fail) / 440 * 100, '%')"
      ],
      "execution_count": 7,
      "outputs": [
        {
          "output_type": "stream",
          "name": "stdout",
          "text": [
            "14/14 [==============================] - 0s 17ms/step - loss: 0.0600\n",
            "1/1 [==============================] - 0s 262ms/step\n",
            "0.18731303284944928 \t 0.11732039 \tdiff: 0.06999264429392255\n",
            "0.196595408285097 \t 0.16963348 \tdiff: 0.02696193035884273\n",
            "0.07829491592056301 \t 0.28066725 \tdiff: 0.202372329467468\n",
            "0.1250971515730468 \t 0.17578027 \tdiff: 0.05068311495031441\n",
            "0.042541583227807156 \t 0.14823112 \tdiff: 0.10568953568965805\n",
            "14/14 [==============================] - 0s 17ms/step\n",
            "correctness: 12.727272727272727 %\n"
          ]
        }
      ]
    },
    {
      "cell_type": "code",
      "metadata": {
        "id": "6o1z24gWIe4B",
        "outputId": "b29e2a41-1b7f-4c00-a00e-15be4b37179c",
        "colab": {
          "base_uri": "https://localhost:8080/"
        }
      },
      "source": [
        "# 7.11 LSTM 레이어를 사용한 곱셈 문제 모델 정의\n",
        "model = tf.keras.Sequential([\n",
        "    tf.keras.layers.LSTM(units=30, return_sequences=True, input_shape=[100,2]),\n",
        "    tf.keras.layers.LSTM(units=30),\n",
        "    tf.keras.layers.Dense(1)\n",
        "])\n",
        "\n",
        "model.compile(optimizer='adam', loss='mse')\n",
        "model.summary()"
      ],
      "execution_count": 8,
      "outputs": [
        {
          "output_type": "stream",
          "name": "stdout",
          "text": [
            "Model: \"sequential_2\"\n",
            "_________________________________________________________________\n",
            " Layer (type)                Output Shape              Param #   \n",
            "=================================================================\n",
            " lstm (LSTM)                 (None, 100, 30)           3960      \n",
            "                                                                 \n",
            " lstm_1 (LSTM)               (None, 30)                7320      \n",
            "                                                                 \n",
            " dense_2 (Dense)             (None, 1)                 31        \n",
            "                                                                 \n",
            "=================================================================\n",
            "Total params: 11,311\n",
            "Trainable params: 11,311\n",
            "Non-trainable params: 0\n",
            "_________________________________________________________________\n"
          ]
        }
      ]
    },
    {
      "cell_type": "code",
      "metadata": {
        "id": "XavhYhX4Imax",
        "outputId": "9b36daaf-455a-4d6d-9d14-8191d6e908e5",
        "colab": {
          "base_uri": "https://localhost:8080/",
          "height": 841
        }
      },
      "source": [
        "# 7.12 LSTM 네트워크 학습\n",
        "X = np.array(X)\n",
        "Y = np.array(Y)\n",
        "history = model.fit(X[:2560], Y[:2560], epochs=100, validation_split=0.2)"
      ],
      "execution_count": 9,
      "outputs": [
        {
          "output_type": "stream",
          "name": "stdout",
          "text": [
            "Epoch 1/100\n",
            "64/64 [==============================] - 6s 21ms/step - loss: 0.0550 - val_loss: 0.0492\n",
            "Epoch 2/100\n",
            "64/64 [==============================] - 1s 9ms/step - loss: 0.0492 - val_loss: 0.0514\n",
            "Epoch 3/100\n",
            "64/64 [==============================] - 1s 9ms/step - loss: 0.0490 - val_loss: 0.0513\n",
            "Epoch 4/100\n",
            "64/64 [==============================] - 1s 9ms/step - loss: 0.0492 - val_loss: 0.0498\n",
            "Epoch 5/100\n",
            "64/64 [==============================] - 1s 9ms/step - loss: 0.0497 - val_loss: 0.0512\n",
            "Epoch 6/100\n",
            "64/64 [==============================] - 1s 9ms/step - loss: 0.0490 - val_loss: 0.0492\n",
            "Epoch 7/100\n",
            "64/64 [==============================] - 1s 9ms/step - loss: 0.0490 - val_loss: 0.0502\n",
            "Epoch 8/100\n",
            "64/64 [==============================] - 1s 9ms/step - loss: 0.0489 - val_loss: 0.0514\n",
            "Epoch 9/100\n",
            "64/64 [==============================] - 1s 9ms/step - loss: 0.0496 - val_loss: 0.0548\n",
            "Epoch 10/100\n",
            "64/64 [==============================] - 1s 9ms/step - loss: 0.0490 - val_loss: 0.0490\n",
            "Epoch 11/100\n",
            "64/64 [==============================] - 1s 9ms/step - loss: 0.0491 - val_loss: 0.0495\n",
            "Epoch 12/100\n",
            "64/64 [==============================] - 1s 9ms/step - loss: 0.0488 - val_loss: 0.0511\n",
            "Epoch 13/100\n",
            "43/64 [===================>..........] - ETA: 0s - loss: 0.0504"
          ]
        },
        {
          "output_type": "error",
          "ename": "KeyboardInterrupt",
          "evalue": "ignored",
          "traceback": [
            "\u001b[0;31m---------------------------------------------------------------------------\u001b[0m",
            "\u001b[0;31mKeyboardInterrupt\u001b[0m                         Traceback (most recent call last)",
            "\u001b[0;32m<ipython-input-9-eb105af1eb4a>\u001b[0m in \u001b[0;36m<cell line: 4>\u001b[0;34m()\u001b[0m\n\u001b[1;32m      2\u001b[0m \u001b[0mX\u001b[0m \u001b[0;34m=\u001b[0m \u001b[0mnp\u001b[0m\u001b[0;34m.\u001b[0m\u001b[0marray\u001b[0m\u001b[0;34m(\u001b[0m\u001b[0mX\u001b[0m\u001b[0;34m)\u001b[0m\u001b[0;34m\u001b[0m\u001b[0;34m\u001b[0m\u001b[0m\n\u001b[1;32m      3\u001b[0m \u001b[0mY\u001b[0m \u001b[0;34m=\u001b[0m \u001b[0mnp\u001b[0m\u001b[0;34m.\u001b[0m\u001b[0marray\u001b[0m\u001b[0;34m(\u001b[0m\u001b[0mY\u001b[0m\u001b[0;34m)\u001b[0m\u001b[0;34m\u001b[0m\u001b[0;34m\u001b[0m\u001b[0m\n\u001b[0;32m----> 4\u001b[0;31m \u001b[0mhistory\u001b[0m \u001b[0;34m=\u001b[0m \u001b[0mmodel\u001b[0m\u001b[0;34m.\u001b[0m\u001b[0mfit\u001b[0m\u001b[0;34m(\u001b[0m\u001b[0mX\u001b[0m\u001b[0;34m[\u001b[0m\u001b[0;34m:\u001b[0m\u001b[0;36m2560\u001b[0m\u001b[0;34m]\u001b[0m\u001b[0;34m,\u001b[0m \u001b[0mY\u001b[0m\u001b[0;34m[\u001b[0m\u001b[0;34m:\u001b[0m\u001b[0;36m2560\u001b[0m\u001b[0;34m]\u001b[0m\u001b[0;34m,\u001b[0m \u001b[0mepochs\u001b[0m\u001b[0;34m=\u001b[0m\u001b[0;36m100\u001b[0m\u001b[0;34m,\u001b[0m \u001b[0mvalidation_split\u001b[0m\u001b[0;34m=\u001b[0m\u001b[0;36m0.2\u001b[0m\u001b[0;34m)\u001b[0m\u001b[0;34m\u001b[0m\u001b[0;34m\u001b[0m\u001b[0m\n\u001b[0m",
            "\u001b[0;32m/usr/local/lib/python3.10/dist-packages/keras/utils/traceback_utils.py\u001b[0m in \u001b[0;36merror_handler\u001b[0;34m(*args, **kwargs)\u001b[0m\n\u001b[1;32m     63\u001b[0m         \u001b[0mfiltered_tb\u001b[0m \u001b[0;34m=\u001b[0m \u001b[0;32mNone\u001b[0m\u001b[0;34m\u001b[0m\u001b[0;34m\u001b[0m\u001b[0m\n\u001b[1;32m     64\u001b[0m         \u001b[0;32mtry\u001b[0m\u001b[0;34m:\u001b[0m\u001b[0;34m\u001b[0m\u001b[0;34m\u001b[0m\u001b[0m\n\u001b[0;32m---> 65\u001b[0;31m             \u001b[0;32mreturn\u001b[0m \u001b[0mfn\u001b[0m\u001b[0;34m(\u001b[0m\u001b[0;34m*\u001b[0m\u001b[0margs\u001b[0m\u001b[0;34m,\u001b[0m \u001b[0;34m**\u001b[0m\u001b[0mkwargs\u001b[0m\u001b[0;34m)\u001b[0m\u001b[0;34m\u001b[0m\u001b[0;34m\u001b[0m\u001b[0m\n\u001b[0m\u001b[1;32m     66\u001b[0m         \u001b[0;32mexcept\u001b[0m \u001b[0mException\u001b[0m \u001b[0;32mas\u001b[0m \u001b[0me\u001b[0m\u001b[0;34m:\u001b[0m\u001b[0;34m\u001b[0m\u001b[0;34m\u001b[0m\u001b[0m\n\u001b[1;32m     67\u001b[0m             \u001b[0mfiltered_tb\u001b[0m \u001b[0;34m=\u001b[0m \u001b[0m_process_traceback_frames\u001b[0m\u001b[0;34m(\u001b[0m\u001b[0me\u001b[0m\u001b[0;34m.\u001b[0m\u001b[0m__traceback__\u001b[0m\u001b[0;34m)\u001b[0m\u001b[0;34m\u001b[0m\u001b[0;34m\u001b[0m\u001b[0m\n",
            "\u001b[0;32m/usr/local/lib/python3.10/dist-packages/keras/engine/training.py\u001b[0m in \u001b[0;36mfit\u001b[0;34m(self, x, y, batch_size, epochs, verbose, callbacks, validation_split, validation_data, shuffle, class_weight, sample_weight, initial_epoch, steps_per_epoch, validation_steps, validation_batch_size, validation_freq, max_queue_size, workers, use_multiprocessing)\u001b[0m\n\u001b[1;32m   1683\u001b[0m                         ):\n\u001b[1;32m   1684\u001b[0m                             \u001b[0mcallbacks\u001b[0m\u001b[0;34m.\u001b[0m\u001b[0mon_train_batch_begin\u001b[0m\u001b[0;34m(\u001b[0m\u001b[0mstep\u001b[0m\u001b[0;34m)\u001b[0m\u001b[0;34m\u001b[0m\u001b[0;34m\u001b[0m\u001b[0m\n\u001b[0;32m-> 1685\u001b[0;31m                             \u001b[0mtmp_logs\u001b[0m \u001b[0;34m=\u001b[0m \u001b[0mself\u001b[0m\u001b[0;34m.\u001b[0m\u001b[0mtrain_function\u001b[0m\u001b[0;34m(\u001b[0m\u001b[0miterator\u001b[0m\u001b[0;34m)\u001b[0m\u001b[0;34m\u001b[0m\u001b[0;34m\u001b[0m\u001b[0m\n\u001b[0m\u001b[1;32m   1686\u001b[0m                             \u001b[0;32mif\u001b[0m \u001b[0mdata_handler\u001b[0m\u001b[0;34m.\u001b[0m\u001b[0mshould_sync\u001b[0m\u001b[0;34m:\u001b[0m\u001b[0;34m\u001b[0m\u001b[0;34m\u001b[0m\u001b[0m\n\u001b[1;32m   1687\u001b[0m                                 \u001b[0mcontext\u001b[0m\u001b[0;34m.\u001b[0m\u001b[0masync_wait\u001b[0m\u001b[0;34m(\u001b[0m\u001b[0;34m)\u001b[0m\u001b[0;34m\u001b[0m\u001b[0;34m\u001b[0m\u001b[0m\n",
            "\u001b[0;32m/usr/local/lib/python3.10/dist-packages/tensorflow/python/util/traceback_utils.py\u001b[0m in \u001b[0;36merror_handler\u001b[0;34m(*args, **kwargs)\u001b[0m\n\u001b[1;32m    148\u001b[0m     \u001b[0mfiltered_tb\u001b[0m \u001b[0;34m=\u001b[0m \u001b[0;32mNone\u001b[0m\u001b[0;34m\u001b[0m\u001b[0;34m\u001b[0m\u001b[0m\n\u001b[1;32m    149\u001b[0m     \u001b[0;32mtry\u001b[0m\u001b[0;34m:\u001b[0m\u001b[0;34m\u001b[0m\u001b[0;34m\u001b[0m\u001b[0m\n\u001b[0;32m--> 150\u001b[0;31m       \u001b[0;32mreturn\u001b[0m \u001b[0mfn\u001b[0m\u001b[0;34m(\u001b[0m\u001b[0;34m*\u001b[0m\u001b[0margs\u001b[0m\u001b[0;34m,\u001b[0m \u001b[0;34m**\u001b[0m\u001b[0mkwargs\u001b[0m\u001b[0;34m)\u001b[0m\u001b[0;34m\u001b[0m\u001b[0;34m\u001b[0m\u001b[0m\n\u001b[0m\u001b[1;32m    151\u001b[0m     \u001b[0;32mexcept\u001b[0m \u001b[0mException\u001b[0m \u001b[0;32mas\u001b[0m \u001b[0me\u001b[0m\u001b[0;34m:\u001b[0m\u001b[0;34m\u001b[0m\u001b[0;34m\u001b[0m\u001b[0m\n\u001b[1;32m    152\u001b[0m       \u001b[0mfiltered_tb\u001b[0m \u001b[0;34m=\u001b[0m \u001b[0m_process_traceback_frames\u001b[0m\u001b[0;34m(\u001b[0m\u001b[0me\u001b[0m\u001b[0;34m.\u001b[0m\u001b[0m__traceback__\u001b[0m\u001b[0;34m)\u001b[0m\u001b[0;34m\u001b[0m\u001b[0;34m\u001b[0m\u001b[0m\n",
            "\u001b[0;32m/usr/local/lib/python3.10/dist-packages/tensorflow/python/eager/polymorphic_function/polymorphic_function.py\u001b[0m in \u001b[0;36m__call__\u001b[0;34m(self, *args, **kwds)\u001b[0m\n\u001b[1;32m    892\u001b[0m \u001b[0;34m\u001b[0m\u001b[0m\n\u001b[1;32m    893\u001b[0m       \u001b[0;32mwith\u001b[0m \u001b[0mOptionalXlaContext\u001b[0m\u001b[0;34m(\u001b[0m\u001b[0mself\u001b[0m\u001b[0;34m.\u001b[0m\u001b[0m_jit_compile\u001b[0m\u001b[0;34m)\u001b[0m\u001b[0;34m:\u001b[0m\u001b[0;34m\u001b[0m\u001b[0;34m\u001b[0m\u001b[0m\n\u001b[0;32m--> 894\u001b[0;31m         \u001b[0mresult\u001b[0m \u001b[0;34m=\u001b[0m \u001b[0mself\u001b[0m\u001b[0;34m.\u001b[0m\u001b[0m_call\u001b[0m\u001b[0;34m(\u001b[0m\u001b[0;34m*\u001b[0m\u001b[0margs\u001b[0m\u001b[0;34m,\u001b[0m \u001b[0;34m**\u001b[0m\u001b[0mkwds\u001b[0m\u001b[0;34m)\u001b[0m\u001b[0;34m\u001b[0m\u001b[0;34m\u001b[0m\u001b[0m\n\u001b[0m\u001b[1;32m    895\u001b[0m \u001b[0;34m\u001b[0m\u001b[0m\n\u001b[1;32m    896\u001b[0m       \u001b[0mnew_tracing_count\u001b[0m \u001b[0;34m=\u001b[0m \u001b[0mself\u001b[0m\u001b[0;34m.\u001b[0m\u001b[0mexperimental_get_tracing_count\u001b[0m\u001b[0;34m(\u001b[0m\u001b[0;34m)\u001b[0m\u001b[0;34m\u001b[0m\u001b[0;34m\u001b[0m\u001b[0m\n",
            "\u001b[0;32m/usr/local/lib/python3.10/dist-packages/tensorflow/python/eager/polymorphic_function/polymorphic_function.py\u001b[0m in \u001b[0;36m_call\u001b[0;34m(self, *args, **kwds)\u001b[0m\n\u001b[1;32m    924\u001b[0m       \u001b[0;31m# In this case we have created variables on the first call, so we run the\u001b[0m\u001b[0;34m\u001b[0m\u001b[0;34m\u001b[0m\u001b[0m\n\u001b[1;32m    925\u001b[0m       \u001b[0;31m# defunned version which is guaranteed to never create variables.\u001b[0m\u001b[0;34m\u001b[0m\u001b[0;34m\u001b[0m\u001b[0m\n\u001b[0;32m--> 926\u001b[0;31m       \u001b[0;32mreturn\u001b[0m \u001b[0mself\u001b[0m\u001b[0;34m.\u001b[0m\u001b[0m_no_variable_creation_fn\u001b[0m\u001b[0;34m(\u001b[0m\u001b[0;34m*\u001b[0m\u001b[0margs\u001b[0m\u001b[0;34m,\u001b[0m \u001b[0;34m**\u001b[0m\u001b[0mkwds\u001b[0m\u001b[0;34m)\u001b[0m  \u001b[0;31m# pylint: disable=not-callable\u001b[0m\u001b[0;34m\u001b[0m\u001b[0;34m\u001b[0m\u001b[0m\n\u001b[0m\u001b[1;32m    927\u001b[0m     \u001b[0;32melif\u001b[0m \u001b[0mself\u001b[0m\u001b[0;34m.\u001b[0m\u001b[0m_variable_creation_fn\u001b[0m \u001b[0;32mis\u001b[0m \u001b[0;32mnot\u001b[0m \u001b[0;32mNone\u001b[0m\u001b[0;34m:\u001b[0m\u001b[0;34m\u001b[0m\u001b[0;34m\u001b[0m\u001b[0m\n\u001b[1;32m    928\u001b[0m       \u001b[0;31m# Release the lock early so that multiple threads can perform the call\u001b[0m\u001b[0;34m\u001b[0m\u001b[0;34m\u001b[0m\u001b[0m\n",
            "\u001b[0;32m/usr/local/lib/python3.10/dist-packages/tensorflow/python/eager/polymorphic_function/tracing_compiler.py\u001b[0m in \u001b[0;36m__call__\u001b[0;34m(self, *args, **kwargs)\u001b[0m\n\u001b[1;32m    141\u001b[0m       (concrete_function,\n\u001b[1;32m    142\u001b[0m        filtered_flat_args) = self._maybe_define_function(args, kwargs)\n\u001b[0;32m--> 143\u001b[0;31m     return concrete_function._call_flat(\n\u001b[0m\u001b[1;32m    144\u001b[0m         filtered_flat_args, captured_inputs=concrete_function.captured_inputs)  # pylint: disable=protected-access\n\u001b[1;32m    145\u001b[0m \u001b[0;34m\u001b[0m\u001b[0m\n",
            "\u001b[0;32m/usr/local/lib/python3.10/dist-packages/tensorflow/python/eager/polymorphic_function/monomorphic_function.py\u001b[0m in \u001b[0;36m_call_flat\u001b[0;34m(self, args, captured_inputs, cancellation_manager)\u001b[0m\n\u001b[1;32m   1755\u001b[0m         and executing_eagerly):\n\u001b[1;32m   1756\u001b[0m       \u001b[0;31m# No tape is watching; skip to running the function.\u001b[0m\u001b[0;34m\u001b[0m\u001b[0;34m\u001b[0m\u001b[0m\n\u001b[0;32m-> 1757\u001b[0;31m       return self._build_call_outputs(self._inference_function.call(\n\u001b[0m\u001b[1;32m   1758\u001b[0m           ctx, args, cancellation_manager=cancellation_manager))\n\u001b[1;32m   1759\u001b[0m     forward_backward = self._select_forward_and_backward_functions(\n",
            "\u001b[0;32m/usr/local/lib/python3.10/dist-packages/tensorflow/python/eager/polymorphic_function/monomorphic_function.py\u001b[0m in \u001b[0;36mcall\u001b[0;34m(self, ctx, args, cancellation_manager)\u001b[0m\n\u001b[1;32m    379\u001b[0m       \u001b[0;32mwith\u001b[0m \u001b[0m_InterpolateFunctionError\u001b[0m\u001b[0;34m(\u001b[0m\u001b[0mself\u001b[0m\u001b[0;34m)\u001b[0m\u001b[0;34m:\u001b[0m\u001b[0;34m\u001b[0m\u001b[0;34m\u001b[0m\u001b[0m\n\u001b[1;32m    380\u001b[0m         \u001b[0;32mif\u001b[0m \u001b[0mcancellation_manager\u001b[0m \u001b[0;32mis\u001b[0m \u001b[0;32mNone\u001b[0m\u001b[0;34m:\u001b[0m\u001b[0;34m\u001b[0m\u001b[0;34m\u001b[0m\u001b[0m\n\u001b[0;32m--> 381\u001b[0;31m           outputs = execute.execute(\n\u001b[0m\u001b[1;32m    382\u001b[0m               \u001b[0mstr\u001b[0m\u001b[0;34m(\u001b[0m\u001b[0mself\u001b[0m\u001b[0;34m.\u001b[0m\u001b[0msignature\u001b[0m\u001b[0;34m.\u001b[0m\u001b[0mname\u001b[0m\u001b[0;34m)\u001b[0m\u001b[0;34m,\u001b[0m\u001b[0;34m\u001b[0m\u001b[0;34m\u001b[0m\u001b[0m\n\u001b[1;32m    383\u001b[0m               \u001b[0mnum_outputs\u001b[0m\u001b[0;34m=\u001b[0m\u001b[0mself\u001b[0m\u001b[0;34m.\u001b[0m\u001b[0m_num_outputs\u001b[0m\u001b[0;34m,\u001b[0m\u001b[0;34m\u001b[0m\u001b[0;34m\u001b[0m\u001b[0m\n",
            "\u001b[0;32m/usr/local/lib/python3.10/dist-packages/tensorflow/python/eager/execute.py\u001b[0m in \u001b[0;36mquick_execute\u001b[0;34m(op_name, num_outputs, inputs, attrs, ctx, name)\u001b[0m\n\u001b[1;32m     50\u001b[0m   \u001b[0;32mtry\u001b[0m\u001b[0;34m:\u001b[0m\u001b[0;34m\u001b[0m\u001b[0;34m\u001b[0m\u001b[0m\n\u001b[1;32m     51\u001b[0m     \u001b[0mctx\u001b[0m\u001b[0;34m.\u001b[0m\u001b[0mensure_initialized\u001b[0m\u001b[0;34m(\u001b[0m\u001b[0;34m)\u001b[0m\u001b[0;34m\u001b[0m\u001b[0;34m\u001b[0m\u001b[0m\n\u001b[0;32m---> 52\u001b[0;31m     tensors = pywrap_tfe.TFE_Py_Execute(ctx._handle, device_name, op_name,\n\u001b[0m\u001b[1;32m     53\u001b[0m                                         inputs, attrs, num_outputs)\n\u001b[1;32m     54\u001b[0m   \u001b[0;32mexcept\u001b[0m \u001b[0mcore\u001b[0m\u001b[0;34m.\u001b[0m\u001b[0m_NotOkStatusException\u001b[0m \u001b[0;32mas\u001b[0m \u001b[0me\u001b[0m\u001b[0;34m:\u001b[0m\u001b[0;34m\u001b[0m\u001b[0;34m\u001b[0m\u001b[0m\n",
            "\u001b[0;31mKeyboardInterrupt\u001b[0m: "
          ]
        }
      ]
    },
    {
      "cell_type": "code",
      "metadata": {
        "id": "NJSlA-z7NRHE",
        "outputId": "43734aca-c1f8-4e99-89c5-2158382104a1",
        "colab": {
          "base_uri": "https://localhost:8080/",
          "height": 279
        }
      },
      "source": [
        "# 7.13 LSTM 네트워크 학습 결과 확인\n",
        "import matplotlib.pyplot as plt\n",
        "plt.plot(history.history['loss'], 'b-', label='loss')\n",
        "plt.plot(history.history['val_loss'], 'r--', label='val_loss')\n",
        "plt.xlabel('Epoch')\n",
        "plt.legend()\n",
        "plt.show()"
      ],
      "execution_count": null,
      "outputs": [
        {
          "output_type": "display_data",
          "data": {
            "text/plain": [
              "<Figure size 432x288 with 1 Axes>"
            ],
            "image/png": "[encoded data removed]"
          },
          "metadata": {
            "needs_background": "light"
          }
        }
      ]
    },
    {
      "cell_type": "code",
      "metadata": {
        "id": "Ob1VbaYzJCWa",
        "outputId": "b0c4d7cc-5074-4d70-c0ef-5a1d585f8854",
        "colab": {
          "base_uri": "https://localhost:8080/"
        }
      },
      "source": [
        "# 7.14 Test 데이터에 대한 예측 정확도 확인\n",
        "model.evaluate(X[2560:], Y[2560:])\n",
        "prediction = model.predict(X[2560:2560+5])\n",
        "for i in range(5):\n",
        "    print(Y[2560+i], '\\t', prediction[i][0], '\\tdiff:', abs(prediction[i][0] - Y[2560+i]))\n",
        "    \n",
        "prediction = model.predict(X[2560:])\n",
        "cnt = 0\n",
        "for i in range(len(prediction)):\n",
        "    if abs(prediction[i][0] - Y[2560+i]) > 0.04:\n",
        "        cnt += 1\n",
        "print('correctness:', (440 - cnt) / 440 * 100, '%')"
      ],
      "execution_count": null,
      "outputs": [
        {
          "output_type": "stream",
          "name": "stdout",
          "text": [
            "14/14 [==============================] - 1s 21ms/step - loss: 3.6632e-04\n",
            "1/1 [==============================] - 1s 789ms/step\n",
            "0.1162097578656399 \t 0.14598909 \tdiff: 0.029779332338598988\n",
            "0.19848398653168728 \t 0.19867322 \tdiff: 0.00018923195700595863\n",
            "0.05628569993520576 \t 0.058790404 \tdiff: 0.0025047044143597444\n",
            "0.03480691558825324 \t 0.06369543 \tdiff: 0.028888515167361996\n",
            "0.022800598289235353 \t 0.029333517 \tdiff: 0.006532918666140319\n",
            "14/14 [==============================] - 0s 20ms/step\n",
            "correctness: 95.68181818181817 %\n"
          ]
        }
      ]
    },
    {
      "cell_type": "markdown",
      "metadata": {
        "id": "VxV7T14AvXkH"
      },
      "source": [
        "## 7.2.3 GRU 레이어"
      ]
    },
    {
      "cell_type": "code",
      "metadata": {
        "id": "8WjH-A0WvNAO",
        "outputId": "476f4a12-9f0a-498e-8ac9-16d547d4e086",
        "colab": {
          "base_uri": "https://localhost:8080/"
        }
      },
      "source": [
        "# 7.15 GRU 레이어를 사용한 곱셈 문제 모델 정의\n",
        "model = tf.keras.Sequential([\n",
        "    tf.keras.layers.GRU(units=30, return_sequences=True, input_shape=[100,2]),\n",
        "    tf.keras.layers.GRU(units=30),\n",
        "    tf.keras.layers.Dense(1)\n",
        "])\n",
        "\n",
        "model.compile(optimizer='adam', loss='mse')\n",
        "model.summary()"
      ],
      "execution_count": 2,
      "outputs": [
        {
          "output_type": "stream",
          "name": "stdout",
          "text": [
            "Model: \"sequential\"\n",
            "_________________________________________________________________\n",
            " Layer (type)                Output Shape              Param #   \n",
            "=================================================================\n",
            " gru (GRU)                   (None, 100, 30)           3060      \n",
            "                                                                 \n",
            " gru_1 (GRU)                 (None, 30)                5580      \n",
            "                                                                 \n",
            " dense (Dense)               (None, 1)                 31        \n",
            "                                                                 \n",
            "=================================================================\n",
            "Total params: 8,671\n",
            "Trainable params: 8,671\n",
            "Non-trainable params: 0\n",
            "_________________________________________________________________\n"
          ]
        }
      ]
    },
    {
      "cell_type": "code",
      "metadata": {
        "id": "vd6C4gvUvdQS",
        "outputId": "98747931-09af-4b24-dd1e-39ba6a7a3aea",
        "colab": {
          "base_uri": "https://localhost:8080/"
        }
      },
      "source": [
        "# 7.16 GRU 네트워크 학습\n",
        "X = np.array(X)\n",
        "Y = np.array(Y)\n",
        "history = model.fit(X[:2560], Y[:2560], epochs=100, validation_split=0.2)"
      ],
      "execution_count": null,
      "outputs": [
        {
          "output_type": "stream",
          "name": "stdout",
          "text": [
            "Epoch 1/100\n",
            "64/64 [==============================] - 7s 20ms/step - loss: 0.0492 - val_loss: 0.0533\n",
            "Epoch 2/100\n",
            "64/64 [==============================] - 1s 10ms/step - loss: 0.0480 - val_loss: 0.0529\n",
            "Epoch 3/100\n",
            "64/64 [==============================] - 1s 10ms/step - loss: 0.0469 - val_loss: 0.0530\n",
            "Epoch 4/100\n",
            "64/64 [==============================] - 1s 10ms/step - loss: 0.0470 - val_loss: 0.0523\n",
            "Epoch 5/100\n",
            "64/64 [==============================] - 1s 9ms/step - loss: 0.0478 - val_loss: 0.0522\n",
            "Epoch 6/100\n",
            "64/64 [==============================] - 1s 9ms/step - loss: 0.0467 - val_loss: 0.0522\n",
            "Epoch 7/100\n",
            "64/64 [==============================] - 1s 10ms/step - loss: 0.0469 - val_loss: 0.0524\n",
            "Epoch 8/100\n",
            "64/64 [==============================] - 1s 9ms/step - loss: 0.0472 - val_loss: 0.0520\n",
            "Epoch 9/100\n",
            "64/64 [==============================] - 1s 10ms/step - loss: 0.0466 - val_loss: 0.0517\n",
            "Epoch 10/100\n",
            "64/64 [==============================] - 1s 9ms/step - loss: 0.0467 - val_loss: 0.0531\n",
            "Epoch 11/100\n",
            "64/64 [==============================] - 1s 9ms/step - loss: 0.0471 - val_loss: 0.0516\n",
            "Epoch 12/100\n",
            "64/64 [==============================] - 1s 10ms/step - loss: 0.0463 - val_loss: 0.0534\n",
            "Epoch 13/100\n",
            "64/64 [==============================] - 1s 9ms/step - loss: 0.0465 - val_loss: 0.0520\n",
            "Epoch 14/100\n",
            "64/64 [==============================] - 1s 9ms/step - loss: 0.0465 - val_loss: 0.0536\n",
            "Epoch 15/100\n",
            "64/64 [==============================] - 1s 9ms/step - loss: 0.0471 - val_loss: 0.0512\n",
            "Epoch 16/100\n",
            "64/64 [==============================] - 1s 9ms/step - loss: 0.0460 - val_loss: 0.0511\n",
            "Epoch 17/100\n",
            "64/64 [==============================] - 1s 9ms/step - loss: 0.0454 - val_loss: 0.0501\n",
            "Epoch 18/100\n",
            "64/64 [==============================] - 1s 9ms/step - loss: 0.0451 - val_loss: 0.0497\n",
            "Epoch 19/100\n",
            "64/64 [==============================] - 1s 10ms/step - loss: 0.0416 - val_loss: 0.0418\n",
            "Epoch 20/100\n",
            "64/64 [==============================] - 1s 9ms/step - loss: 0.0234 - val_loss: 0.0104\n",
            "Epoch 21/100\n",
            "64/64 [==============================] - 1s 10ms/step - loss: 0.0040 - val_loss: 0.0035\n",
            "Epoch 22/100\n",
            "64/64 [==============================] - 1s 10ms/step - loss: 0.0023 - val_loss: 0.0027\n",
            "Epoch 23/100\n",
            "64/64 [==============================] - 1s 9ms/step - loss: 0.0019 - val_loss: 0.0028\n",
            "Epoch 24/100\n",
            "64/64 [==============================] - 1s 9ms/step - loss: 0.0016 - val_loss: 0.0018\n",
            "Epoch 25/100\n",
            "64/64 [==============================] - 1s 9ms/step - loss: 0.0012 - val_loss: 0.0018\n",
            "Epoch 26/100\n",
            "64/64 [==============================] - 1s 10ms/step - loss: 0.0016 - val_loss: 0.0020\n",
            "Epoch 27/100\n",
            "64/64 [==============================] - 1s 10ms/step - loss: 9.7754e-04 - val_loss: 0.0012\n",
            "Epoch 28/100\n",
            "64/64 [==============================] - 1s 9ms/step - loss: 8.4951e-04 - val_loss: 9.7690e-04\n",
            "Epoch 29/100\n",
            "64/64 [==============================] - 1s 9ms/step - loss: 7.3303e-04 - val_loss: 0.0011\n",
            "Epoch 30/100\n",
            "64/64 [==============================] - 1s 10ms/step - loss: 6.7622e-04 - val_loss: 7.9590e-04\n",
            "Epoch 31/100\n",
            "64/64 [==============================] - 1s 10ms/step - loss: 6.7664e-04 - val_loss: 8.1843e-04\n",
            "Epoch 32/100\n",
            "64/64 [==============================] - 1s 10ms/step - loss: 6.2517e-04 - val_loss: 9.7953e-04\n",
            "Epoch 33/100\n",
            "64/64 [==============================] - 1s 9ms/step - loss: 5.6076e-04 - val_loss: 7.3944e-04\n",
            "Epoch 34/100\n",
            "64/64 [==============================] - 1s 10ms/step - loss: 5.5561e-04 - val_loss: 7.4110e-04\n",
            "Epoch 35/100\n",
            "64/64 [==============================] - 1s 10ms/step - loss: 5.1623e-04 - val_loss: 6.8004e-04\n",
            "Epoch 36/100\n",
            "64/64 [==============================] - 1s 9ms/step - loss: 4.8041e-04 - val_loss: 7.5484e-04\n",
            "Epoch 37/100\n",
            "64/64 [==============================] - 1s 9ms/step - loss: 4.9334e-04 - val_loss: 8.2303e-04\n",
            "Epoch 38/100\n",
            "64/64 [==============================] - 1s 9ms/step - loss: 5.0223e-04 - val_loss: 5.8346e-04\n",
            "Epoch 39/100\n",
            "64/64 [==============================] - 1s 9ms/step - loss: 4.6021e-04 - val_loss: 7.7287e-04\n",
            "Epoch 40/100\n",
            "64/64 [==============================] - 1s 9ms/step - loss: 4.0575e-04 - val_loss: 7.2112e-04\n",
            "Epoch 41/100\n",
            "64/64 [==============================] - 1s 9ms/step - loss: 4.1880e-04 - val_loss: 6.2198e-04\n",
            "Epoch 42/100\n",
            "64/64 [==============================] - 1s 10ms/step - loss: 4.0310e-04 - val_loss: 7.5133e-04\n",
            "Epoch 43/100\n",
            "64/64 [==============================] - 1s 9ms/step - loss: 3.6562e-04 - val_loss: 6.0479e-04\n",
            "Epoch 44/100\n",
            "64/64 [==============================] - 1s 10ms/step - loss: 4.2675e-04 - val_loss: 5.1552e-04\n",
            "Epoch 45/100\n",
            "64/64 [==============================] - 1s 10ms/step - loss: 3.6101e-04 - val_loss: 5.3273e-04\n",
            "Epoch 46/100\n",
            "64/64 [==============================] - 1s 9ms/step - loss: 4.4938e-04 - val_loss: 5.3302e-04\n",
            "Epoch 47/100\n",
            "64/64 [==============================] - 1s 9ms/step - loss: 3.2276e-04 - val_loss: 5.1039e-04\n",
            "Epoch 48/100\n",
            "64/64 [==============================] - 1s 9ms/step - loss: 3.2190e-04 - val_loss: 4.5103e-04\n",
            "Epoch 49/100\n",
            "64/64 [==============================] - 1s 10ms/step - loss: 3.1438e-04 - val_loss: 4.6253e-04\n",
            "Epoch 50/100\n",
            "64/64 [==============================] - 1s 9ms/step - loss: 2.8947e-04 - val_loss: 5.4149e-04\n",
            "Epoch 51/100\n",
            "64/64 [==============================] - 1s 9ms/step - loss: 2.8179e-04 - val_loss: 5.0983e-04\n",
            "Epoch 52/100\n",
            "64/64 [==============================] - 1s 9ms/step - loss: 2.8581e-04 - val_loss: 4.0339e-04\n",
            "Epoch 53/100\n",
            "64/64 [==============================] - 1s 9ms/step - loss: 2.9107e-04 - val_loss: 4.2242e-04\n",
            "Epoch 54/100\n",
            "64/64 [==============================] - 1s 9ms/step - loss: 2.9419e-04 - val_loss: 4.1271e-04\n",
            "Epoch 55/100\n",
            "64/64 [==============================] - 1s 9ms/step - loss: 3.1065e-04 - val_loss: 4.2995e-04\n",
            "Epoch 56/100\n",
            "64/64 [==============================] - 1s 9ms/step - loss: 2.8222e-04 - val_loss: 3.8426e-04\n",
            "Epoch 57/100\n",
            "64/64 [==============================] - 1s 9ms/step - loss: 3.3566e-04 - val_loss: 9.6252e-04\n",
            "Epoch 58/100\n",
            "64/64 [==============================] - 1s 9ms/step - loss: 3.4257e-04 - val_loss: 4.8930e-04\n",
            "Epoch 59/100\n",
            "64/64 [==============================] - 1s 9ms/step - loss: 3.9137e-04 - val_loss: 4.2346e-04\n",
            "Epoch 60/100\n",
            "64/64 [==============================] - 1s 9ms/step - loss: 2.4983e-04 - val_loss: 5.6752e-04\n",
            "Epoch 61/100\n",
            "64/64 [==============================] - 1s 10ms/step - loss: 2.4345e-04 - val_loss: 5.0651e-04\n",
            "Epoch 62/100\n",
            "64/64 [==============================] - 1s 9ms/step - loss: 2.1702e-04 - val_loss: 3.5207e-04\n",
            "Epoch 63/100\n",
            "64/64 [==============================] - 1s 9ms/step - loss: 3.3638e-04 - val_loss: 3.3667e-04\n",
            "Epoch 64/100\n",
            "64/64 [==============================] - 1s 9ms/step - loss: 2.0957e-04 - val_loss: 3.2251e-04\n",
            "Epoch 65/100\n",
            "64/64 [==============================] - 1s 9ms/step - loss: 1.9615e-04 - val_loss: 3.5446e-04\n",
            "Epoch 66/100\n",
            "64/64 [==============================] - 1s 9ms/step - loss: 1.9275e-04 - val_loss: 3.0840e-04\n",
            "Epoch 67/100\n",
            "64/64 [==============================] - 1s 10ms/step - loss: 2.1840e-04 - val_loss: 4.0037e-04\n",
            "Epoch 68/100\n",
            "64/64 [==============================] - 1s 9ms/step - loss: 2.2091e-04 - val_loss: 3.3924e-04\n",
            "Epoch 69/100\n",
            "64/64 [==============================] - 1s 9ms/step - loss: 3.1950e-04 - val_loss: 3.8999e-04\n",
            "Epoch 70/100\n",
            "64/64 [==============================] - 1s 10ms/step - loss: 1.9285e-04 - val_loss: 2.8326e-04\n",
            "Epoch 71/100\n",
            "64/64 [==============================] - 1s 9ms/step - loss: 1.6125e-04 - val_loss: 2.8625e-04\n",
            "Epoch 72/100\n",
            "64/64 [==============================] - 1s 9ms/step - loss: 2.2374e-04 - val_loss: 2.9073e-04\n",
            "Epoch 73/100\n",
            "64/64 [==============================] - 1s 9ms/step - loss: 1.6777e-04 - val_loss: 3.3914e-04\n",
            "Epoch 74/100\n",
            "64/64 [==============================] - 1s 9ms/step - loss: 1.6482e-04 - val_loss: 4.1503e-04\n",
            "Epoch 75/100\n",
            "64/64 [==============================] - 1s 9ms/step - loss: 2.1213e-04 - val_loss: 2.4565e-04\n",
            "Epoch 76/100\n",
            "64/64 [==============================] - 1s 9ms/step - loss: 1.7567e-04 - val_loss: 2.6883e-04\n",
            "Epoch 77/100\n",
            "64/64 [==============================] - 1s 9ms/step - loss: 1.5044e-04 - val_loss: 4.8813e-04\n",
            "Epoch 78/100\n",
            "64/64 [==============================] - 1s 9ms/step - loss: 1.6641e-04 - val_loss: 2.7252e-04\n",
            "Epoch 79/100\n",
            "64/64 [==============================] - 1s 9ms/step - loss: 1.6975e-04 - val_loss: 2.4746e-04\n",
            "Epoch 80/100\n",
            "64/64 [==============================] - 1s 10ms/step - loss: 2.6127e-04 - val_loss: 2.4375e-04\n",
            "Epoch 81/100\n",
            "64/64 [==============================] - 1s 9ms/step - loss: 1.7803e-04 - val_loss: 3.9416e-04\n",
            "Epoch 82/100\n",
            "64/64 [==============================] - 1s 9ms/step - loss: 1.5486e-04 - val_loss: 2.8125e-04\n",
            "Epoch 83/100\n",
            "64/64 [==============================] - 1s 9ms/step - loss: 1.3751e-04 - val_loss: 2.3177e-04\n",
            "Epoch 84/100\n",
            "64/64 [==============================] - 1s 9ms/step - loss: 1.5262e-04 - val_loss: 2.7185e-04\n",
            "Epoch 85/100\n",
            "64/64 [==============================] - 1s 9ms/step - loss: 1.6215e-04 - val_loss: 2.0682e-04\n",
            "Epoch 86/100\n",
            "64/64 [==============================] - 1s 10ms/step - loss: 1.6942e-04 - val_loss: 4.3432e-04\n",
            "Epoch 87/100\n",
            "64/64 [==============================] - 1s 9ms/step - loss: 1.7960e-04 - val_loss: 2.8696e-04\n",
            "Epoch 88/100\n",
            "64/64 [==============================] - 1s 9ms/step - loss: 1.2145e-04 - val_loss: 2.2121e-04\n",
            "Epoch 89/100\n",
            "64/64 [==============================] - 1s 9ms/step - loss: 1.1303e-04 - val_loss: 1.7678e-04\n",
            "Epoch 90/100\n",
            "64/64 [==============================] - 1s 9ms/step - loss: 1.1046e-04 - val_loss: 2.0574e-04\n",
            "Epoch 91/100\n",
            "64/64 [==============================] - 1s 9ms/step - loss: 1.2636e-04 - val_loss: 1.7036e-04\n",
            "Epoch 92/100\n",
            "64/64 [==============================] - 1s 9ms/step - loss: 1.2278e-04 - val_loss: 1.6500e-04\n",
            "Epoch 93/100\n",
            "64/64 [==============================] - 1s 9ms/step - loss: 1.4692e-04 - val_loss: 2.1487e-04\n",
            "Epoch 94/100\n",
            "64/64 [==============================] - 1s 9ms/step - loss: 1.1934e-04 - val_loss: 1.9713e-04\n",
            "Epoch 95/100\n",
            "64/64 [==============================] - 1s 9ms/step - loss: 1.6613e-04 - val_loss: 2.4924e-04\n",
            "Epoch 96/100\n",
            "64/64 [==============================] - 1s 9ms/step - loss: 1.1935e-04 - val_loss: 1.8541e-04\n",
            "Epoch 97/100\n",
            "64/64 [==============================] - 1s 10ms/step - loss: 9.3419e-05 - val_loss: 2.0881e-04\n",
            "Epoch 98/100\n",
            "64/64 [==============================] - 1s 9ms/step - loss: 8.8197e-05 - val_loss: 1.5200e-04\n",
            "Epoch 99/100\n",
            "64/64 [==============================] - 1s 9ms/step - loss: 1.1816e-04 - val_loss: 1.8969e-04\n",
            "Epoch 100/100\n",
            "64/64 [==============================] - 1s 10ms/step - loss: 1.2431e-04 - val_loss: 1.7673e-04\n"
          ]
        }
      ]
    },
    {
      "cell_type": "code",
      "metadata": {
        "id": "-SHz_LHExkH3",
        "outputId": "a7dab3cf-b3bc-40c0-c860-5552d1cc7c82",
        "colab": {
          "base_uri": "https://localhost:8080/",
          "height": 279
        }
      },
      "source": [
        "# 7.17 GRU 네트워크 학습 결과 확인\n",
        "import matplotlib.pyplot as plt\n",
        "plt.plot(history.history['loss'], 'b-', label='loss')\n",
        "plt.plot(history.history['val_loss'], 'r--', label='val_loss')\n",
        "plt.xlabel('Epoch')\n",
        "plt.legend()\n",
        "plt.show()"
      ],
      "execution_count": null,
      "outputs": [
        {
          "output_type": "display_data",
          "data": {
            "text/plain": [
              "<Figure size 432x288 with 1 Axes>"
            ],
            "image/png": "[encoded data removed]"
          },
          "metadata": {
            "needs_background": "light"
          }
        }
      ]
    },
    {
      "cell_type": "code",
      "metadata": {
        "id": "JdecdSb0xkDj",
        "outputId": "7cda9cf0-d76a-4b2c-b8ea-95e3b39d8413",
        "colab": {
          "base_uri": "https://localhost:8080/"
        }
      },
      "source": [
        "# 7.18 Test 데이터에 대한 예측 정확도 확인\n",
        "model.evaluate(X[2560:], Y[2560:])\n",
        "prediction = model.predict(X[2560:2560+5])\n",
        "for i in range(5):\n",
        "    print(Y[2560+i], '\\t', prediction[i][0], '\\tdiff:', abs(prediction[i][0] - Y[2560+i]))\n",
        "    \n",
        "prediction = model.predict(X[2560:])\n",
        "cnt = 0\n",
        "for i in range(len(prediction)):\n",
        "    if abs(prediction[i][0] - Y[2560+i]) > 0.04:\n",
        "        cnt += 1\n",
        "print('correctness:', (440 - cnt) / 440 * 100, '%')"
      ],
      "execution_count": null,
      "outputs": [
        {
          "output_type": "stream",
          "name": "stdout",
          "text": [
            "14/14 [==============================] - 1s 9ms/step - loss: 1.3471e-04\n",
            "0.38300888141964545 \t 0.38484603 \tdiff: 0.0018371502461565492\n",
            "0.23104388718279487 \t 0.2346411 \tdiff: 0.0035972177538048655\n",
            "0.09707748182332913 \t 0.10267833 \tdiff: 0.005600846929188566\n",
            "0.48207583355785905 \t 0.47980088 \tdiff: 0.002274953602567298\n",
            "0.4072524087138894 \t 0.41243958 \tdiff: 0.005187176018166262\n",
            "correctness: 98.18181818181819 %\n"
          ]
        }
      ]
    },
    {
      "cell_type": "markdown",
      "metadata": {
        "id": "b4rFl018T7Py"
      },
      "source": [
        "# 7.3 긍정, 부정 감성 분석"
      ]
    },
    {
      "cell_type": "code",
      "metadata": {
        "id": "srjpifEqUAx3",
        "outputId": "969e8e2e-c3a6-479a-a609-ea2c3ce21a57",
        "colab": {
          "base_uri": "https://localhost:8080/"
        }
      },
      "source": [
        "# 7.19 Naver Sentiment Movie Corpus v1.0 다운로드\n",
        "path_to_train_file = tf.keras.utils.get_file('train.txt', 'https://raw.githubusercontent.com/e9t/nsmc/master/ratings_train.txt')\n",
        "path_to_test_file = tf.keras.utils.get_file('test.txt', 'https://raw.githubusercontent.com/e9t/nsmc/master/ratings_test.txt')"
      ],
      "execution_count": 10,
      "outputs": [
        {
          "output_type": "stream",
          "name": "stdout",
          "text": [
            "Downloading data from https://raw.githubusercontent.com/e9t/nsmc/master/ratings_train.txt\n",
            "14628807/14628807 [==============================] - 0s 0us/step\n",
            "Downloading data from https://raw.githubusercontent.com/e9t/nsmc/master/ratings_test.txt\n",
            "4893335/4893335 [==============================] - 0s 0us/step\n"
          ]
        }
      ]
    },
    {
      "cell_type": "code",
      "metadata": {
        "id": "8e3_cWrjcZ8X",
        "outputId": "6e88b27d-ba0b-4f50-9bdd-d929aa84da0e",
        "colab": {
          "base_uri": "https://localhost:8080/"
        }
      },
      "source": [
        "# 7.20 데이터 로드 및 확인\n",
        "# 데이터를 메모리에 불러옵니다. encoding 형식으로 utf-8 을 지정해야합니다.\n",
        "train_text = open(path_to_train_file, 'rb').read().decode(encoding='utf-8')\n",
        "test_text = open(path_to_test_file, 'rb').read().decode(encoding='utf-8')\n",
        "\n",
        "# 텍스트가 총 몇 자인지 확인합니다.\n",
        "print('Length of text: {} characters'.format(len(train_text)))\n",
        "print('Length of text: {} characters'.format(len(test_text)))\n",
        "print()\n",
        "\n",
        "# 처음 300 자를 확인해봅니다.\n",
        "print(train_text[:300])\n",
        "print(test_text[:300])"
      ],
      "execution_count": 11,
      "outputs": [
        {
          "output_type": "stream",
          "name": "stdout",
          "text": [
            "Length of text: 6937271 characters\n",
            "Length of text: 2318260 characters\n",
            "\n",
            "id\tdocument\tlabel\n",
            "9976970\t아 더빙.. 진짜 짜증나네요 목소리\t0\n",
            "3819312\t흠...포스터보고 초딩영화줄....오버연기조차 가볍지 않구나\t1\n",
            "10265843\t너무재밓었다그래서보는것을추천한다\t0\n",
            "9045019\t교도소 이야기구먼 ..솔직히 재미는 없다..평점 조정\t0\n",
            "6483659\t사이몬페그의 익살스런 연기가 돋보였던 영화!스파이더맨에서 늙어보이기만 했던 커스틴 던스트가 너무나도 이뻐보였다\t1\n",
            "5403919\t막 걸음마 뗀 3세부터 초등학교 1학년생인 8살용영화.ㅋㅋㅋ...별반개도 아까움.\t0\n",
            "7797314\t원작의\n",
            "id\tdocument\tlabel\n",
            "6270596\t굳 ㅋ\t1\n",
            "9274899\tGDNTOPCLASSINTHECLUB\t0\n",
            "8544678\t뭐야 이 평점들은.... 나쁘진 않지만 10점 짜리는 더더욱 아니잖아\t0\n",
            "6825595\t지루하지는 않은데 완전 막장임... 돈주고 보기에는....\t0\n",
            "6723715\t3D만 아니었어도 별 다섯 개 줬을텐데.. 왜 3D로 나와서 제 심기를 불편하게 하죠??\t0\n",
            "7898805\t음악이 주가 된, 최고의 음악영화\t1\n",
            "6315043\t진정한 쓰레기\t0\n",
            "6097171\t마치 미국애니에서 튀어나온듯한 창의력없는 로봇디자인부터\n"
          ]
        }
      ]
    },
    {
      "cell_type": "code",
      "metadata": {
        "id": "3R4G9NAekYsE",
        "outputId": "7847b571-4bfb-4be9-860b-f3bfb0ac4946",
        "colab": {
          "base_uri": "https://localhost:8080/"
        }
      },
      "source": [
        "# 7.21 학습을 위한 정답 데이터(Y) 만들기\n",
        "train_Y = np.array([[int(row.split('\\t')[2])] for row in train_text.split('\\n')[1:] if row.count('\\t') > 0])\n",
        "test_Y = np.array([[int(row.split('\\t')[2])] for row in test_text.split('\\n')[1:] if row.count('\\t') > 0])\n",
        "print(train_Y.shape, test_Y.shape)\n",
        "print(train_Y[:5])"
      ],
      "execution_count": 12,
      "outputs": [
        {
          "output_type": "stream",
          "name": "stdout",
          "text": [
            "(150000, 1) (50000, 1)\n",
            "[[0]\n",
            " [1]\n",
            " [0]\n",
            " [0]\n",
            " [1]]\n"
          ]
        }
      ]
    },
    {
      "cell_type": "code",
      "metadata": {
        "id": "IlrwaPyJ06V5",
        "outputId": "b805263b-03d4-4f03-bd74-45d08d24c20b",
        "colab": {
          "base_uri": "https://localhost:8080/"
        }
      },
      "source": [
        "# 7.22 train 데이터의 입력(X)에 대한 정제(Cleaning)\n",
        "import re\n",
        "# From https://github.com/yoonkim/CNN_sentence/blob/master/process_data.py\n",
        "def clean_str(string):    \n",
        "    string = re.sub(r\"[^가-힣A-Za-z0-9(),!?\\'\\`]\", \" \", string)\n",
        "    string = re.sub(r\"\\'s\", \" \\'s\", string)\n",
        "    string = re.sub(r\"\\'ve\", \" \\'ve\", string)\n",
        "    string = re.sub(r\"n\\'t\", \" n\\'t\", string)\n",
        "    string = re.sub(r\"\\'re\", \" \\'re\", string)\n",
        "    string = re.sub(r\"\\'d\", \" \\'d\", string)\n",
        "    string = re.sub(r\"\\'ll\", \" \\'ll\", string)\n",
        "    string = re.sub(r\",\", \" , \", string)\n",
        "    string = re.sub(r\"!\", \" ! \", string)\n",
        "    string = re.sub(r\"\\(\", \" \\( \", string)\n",
        "    string = re.sub(r\"\\)\", \" \\) \", string)\n",
        "    string = re.sub(r\"\\?\", \" \\? \", string)\n",
        "    string = re.sub(r\"\\s{2,}\", \" \", string)\n",
        "    string = re.sub(r\"\\'{2,}\", \"\\'\", string)\n",
        "    string = re.sub(r\"\\'\", \"\", string)\n",
        "\n",
        "    return string.lower()\n",
        "\n",
        "\n",
        "train_text_X = [row.split('\\t')[1] for row in train_text.split('\\n')[1:] if row.count('\\t') > 0]\n",
        "train_text_X = [clean_str(sentence) for sentence in train_text_X]\n",
        "# 문장을 띄어쓰기 단위로 단어 분리\n",
        "sentences = [sentence.split(' ') for sentence in train_text_X]\n",
        "for i in range(5):\n",
        "    print(sentences[i])"
      ],
      "execution_count": 13,
      "outputs": [
        {
          "output_type": "stream",
          "name": "stdout",
          "text": [
            "['아', '더빙', '진짜', '짜증나네요', '목소리']\n",
            "['흠', '포스터보고', '초딩영화줄', '오버연기조차', '가볍지', '않구나']\n",
            "['너무재밓었다그래서보는것을추천한다']\n",
            "['교도소', '이야기구먼', '솔직히', '재미는', '없다', '평점', '조정']\n",
            "['사이몬페그의', '익살스런', '연기가', '돋보였던', '영화', '!', '스파이더맨에서', '늙어보이기만', '했던', '커스틴', '던스트가', '너무나도', '이뻐보였다']\n"
          ]
        }
      ]
    },
    {
      "cell_type": "code",
      "metadata": {
        "id": "zwtf77CE0xPi",
        "outputId": "c36c77c2-dbdf-4f57-b58f-97a5df911cd8",
        "colab": {
          "base_uri": "https://localhost:8080/",
          "height": 861
        }
      },
      "source": [
        "# 7.23 각 문장의 단어 길이 확인\n",
        "import matplotlib.pyplot as plt\n",
        "sentence_len = [len(sentence) for sentence in sentences]\n",
        "sentence_len.sort()\n",
        "#print(sentence_len)\n",
        "plt.plot(sentence_len)\n",
        "plt.show()\n",
        "\n",
        "print(sum([int(l<=25) for l in sentence_len]))\n",
        "plt.plot([0,1,2,2,2,3,3,3,3,4,5,6]) # y축으로 문장 단어수\n",
        "plt.show()"
      ],
      "execution_count": 15,
      "outputs": [
        {
          "output_type": "display_data",
          "data": {
            "text/plain": [
              "<Figure size 640x480 with 1 Axes>"
            ],
            "image/png": "[encoded data removed]"
          },
          "metadata": {}
        },
        {
          "output_type": "stream",
          "name": "stdout",
          "text": [
            "142587\n"
          ]
        },
        {
          "output_type": "display_data",
          "data": {
            "text/plain": [
              "<Figure size 640x480 with 1 Axes>"
            ],
            "image/png": "[encoded data removed]"
          },
          "metadata": {}
        }
      ]
    },
    {
      "cell_type": "code",
      "metadata": {
        "id": "c9F0OQSB71Az",
        "outputId": "c211be94-4b84-4890-e2bd-0ed6d9f77755",
        "colab": {
          "base_uri": "https://localhost:8080/"
        }
      },
      "source": [
        "# 7.24 단어 정제 및 문장 길이 줄임\n",
        "sentences_new = []\n",
        "for sentence in sentences:\n",
        "    sentences_new.append([word[:5] for word in sentence][:25]) # 단어 최대길이 5, 문장 최대 25 단어\n",
        "sentences = sentences_new\n",
        "for i in range(5):\n",
        "    print(sentences[i])"
      ],
      "execution_count": 16,
      "outputs": [
        {
          "output_type": "stream",
          "name": "stdout",
          "text": [
            "['아', '더빙', '진짜', '짜증나네요', '목소리']\n",
            "['흠', '포스터보고', '초딩영화줄', '오버연기조', '가볍지', '않구나']\n",
            "['너무재밓었']\n",
            "['교도소', '이야기구먼', '솔직히', '재미는', '없다', '평점', '조정']\n",
            "['사이몬페그', '익살스런', '연기가', '돋보였던', '영화', '!', '스파이더맨', '늙어보이기', '했던', '커스틴', '던스트가', '너무나도', '이뻐보였다']\n"
          ]
        }
      ]
    },
    {
      "cell_type": "code",
      "metadata": {
        "id": "9iHRApH_SxJz",
        "outputId": "599a2bd2-048d-4305-9371-a5f0ea458e43",
        "colab": {
          "base_uri": "https://localhost:8080/"
        }
      },
      "source": [
        "# 7.25 Tokenizer와 pad_sequences를 사용한 문장 전처리\n",
        "# 같은 문장 길이로 바꾸기 위함.\n",
        "from tensorflow.keras.preprocessing.text import Tokenizer \n",
        "from tensorflow.keras.preprocessing.sequence import pad_sequences \n",
        "# 헤더 제외 \n",
        "tokenizer = Tokenizer(num_words=20000) # 토크나이저 => 출연 빈도 많은 이만개 단어 넘버링\n",
        "tokenizer.fit_on_texts(sentences) # 토크나이저에 실제 데이터 센텐스 입력\n",
        "train_X = tokenizer.texts_to_sequences(sentences) # 실제 문장을 입력밥아 숫자로 리턴\n",
        "train_X = pad_sequences(train_X, padding='post') # 리턴된 숫자에 패딩. 포스트는 뒷 부분에 0을 패딩\n",
        "# 3행이 0이 된 이유는 잘 사용되지 않는 단어이므로 / 빈도가 적음.\n",
        "print(train_X[:5])"
      ],
      "execution_count": 19,
      "outputs": [
        {
          "output_type": "stream",
          "name": "stdout",
          "text": [
            "[[   25   884     8  5795  1111     0     0     0     0     0     0     0\n",
            "      0     0     0     0     0     0     0     0     0     0     0     0\n",
            "      0]\n",
            " [  588  5796  6697     0     0     0     0     0     0     0     0     0\n",
            "      0     0     0     0     0     0     0     0     0     0     0     0\n",
            "      0]\n",
            " [    0     0     0     0     0     0     0     0     0     0     0     0\n",
            "      0     0     0     0     0     0     0     0     0     0     0     0\n",
            "      0]\n",
            " [   71   346    31    35 10468     0     0     0     0     0     0     0\n",
            "      0     0     0     0     0     0     0     0     0     0     0     0\n",
            "      0]\n",
            " [  106  5338     4     2  2169   869   573     0     0     0     0     0\n",
            "      0     0     0     0     0     0     0     0     0     0     0     0\n",
            "      0]]\n"
          ]
        }
      ]
    },
    {
      "cell_type": "code",
      "metadata": {
        "id": "Id3SzN7350CB",
        "outputId": "dca93eda-3884-4adc-bfb2-ba16cd6c76e6",
        "colab": {
          "base_uri": "https://localhost:8080/"
        }
      },
      "source": [
        "# 7.26 Tokenizer의 동작 확인- texts_to_sequences()이 하는 일을실행으로 확인\n",
        "print(tokenizer.index_word[106])\n",
        "print(tokenizer.index_word[19999])\n",
        "print(tokenizer.index_word[20000])\n",
        "temp = tokenizer.texts_to_sequences(['#$#$#', '경우는', '잊혀질', '연기가'])\n",
        "print(temp)\n",
        "temp = pad_sequences(temp, padding='post') # 공백은 0으로 변환\n",
        "print(temp)"
      ],
      "execution_count": 20,
      "outputs": [
        {
          "output_type": "stream",
          "name": "stdout",
          "text": [
            "연기가\n",
            "경우는\n",
            "잊혀질\n",
            "[[], [19999], [], [106]]\n",
            "[[    0]\n",
            " [19999]\n",
            " [    0]\n",
            " [  106]]\n"
          ]
        }
      ]
    },
    {
      "cell_type": "code",
      "metadata": {
        "id": "qHkCAL4QpVAF",
        "outputId": "caf8d2f3-836f-4856-cc67-72fd6eb16945",
        "colab": {
          "base_uri": "https://localhost:8080/"
        }
      },
      "source": [
        "# 7.27 감성 분석을 위한 모델 정의\n",
        "model = tf.keras.Sequential([\n",
        "    tf.keras.layers.Embedding(20000, 300, input_length=25),# 25개의 단어를 300개의 임베이 벡터로 변환\n",
        "    tf.keras.layers.LSTM(units=50),\n",
        "    tf.keras.layers.Dense(2, activation='softmax') # 2 -> 아웃풋이 2개라는 말.\n",
        "])\n",
        "# 여러개의 정답 중 하나는 맞추는 분류 문제 > sparse_categorical-crosentropy\n",
        "model.compile(optimizer='adam', loss='sparse_categorical_crossentropy', metrics=['accuracy'])\n",
        "model.summary()"
      ],
      "execution_count": 21,
      "outputs": [
        {
          "output_type": "stream",
          "name": "stdout",
          "text": [
            "Model: \"sequential_3\"\n",
            "_________________________________________________________________\n",
            " Layer (type)                Output Shape              Param #   \n",
            "=================================================================\n",
            " embedding (Embedding)       (None, 25, 300)           6000000   \n",
            "                                                                 \n",
            " lstm_2 (LSTM)               (None, 50)                70200     \n",
            "                                                                 \n",
            " dense_3 (Dense)             (None, 2)                 102       \n",
            "                                                                 \n",
            "=================================================================\n",
            "Total params: 6,070,302\n",
            "Trainable params: 6,070,302\n",
            "Non-trainable params: 0\n",
            "_________________________________________________________________\n"
          ]
        }
      ]
    },
    {
      "cell_type": "code",
      "metadata": {
        "id": "DG5bZtehpU8O",
        "outputId": "0d978771-30d4-4ef6-b473-8bbbe3a200df",
        "colab": {
          "base_uri": "https://localhost:8080/"
        }
      },
      "source": [
        "# 7.28 감성 분석 모델 학습\n",
        "history = model.fit(train_X, train_Y, epochs=5, batch_size=128, validation_split=0.2)"
      ],
      "execution_count": 24,
      "outputs": [
        {
          "output_type": "stream",
          "name": "stdout",
          "text": [
            "Epoch 1/5\n",
            "938/938 [==============================] - 9s 9ms/step - loss: 0.1694 - accuracy: 0.9154 - val_loss: 0.6507 - val_accuracy: 0.8053\n",
            "Epoch 2/5\n",
            "938/938 [==============================] - 7s 7ms/step - loss: 0.1477 - accuracy: 0.9246 - val_loss: 0.6994 - val_accuracy: 0.8061\n",
            "Epoch 3/5\n",
            "938/938 [==============================] - 6s 7ms/step - loss: 0.1331 - accuracy: 0.9320 - val_loss: 0.7491 - val_accuracy: 0.8039\n",
            "Epoch 4/5\n",
            "938/938 [==============================] - 6s 7ms/step - loss: 0.1227 - accuracy: 0.9345 - val_loss: 0.7996 - val_accuracy: 0.8025\n",
            "Epoch 5/5\n",
            "938/938 [==============================] - 7s 7ms/step - loss: 0.1148 - accuracy: 0.9388 - val_loss: 0.8733 - val_accuracy: 0.8013\n"
          ]
        }
      ]
    },
    {
      "cell_type": "code",
      "metadata": {
        "id": "-N83MOKFpU4a",
        "outputId": "b999a2dd-1b45-44b1-c12c-b67f0f981415",
        "colab": {
          "base_uri": "https://localhost:8080/",
          "height": 393
        }
      },
      "source": [
        "# 7.29 감성 분석 모델 학습 결과 확인\n",
        "import matplotlib.pyplot as plt\n",
        "plt.figure(figsize=(12, 4))\n",
        "\n",
        "plt.subplot(1, 2, 1)\n",
        "plt.plot(history.history['loss'], 'b-', label='loss')\n",
        "plt.plot(history.history['val_loss'], 'r--', label='val_loss')\n",
        "plt.xlabel('Epoch')\n",
        "plt.legend()\n",
        "\n",
        "plt.subplot(1, 2, 2)\n",
        "plt.plot(history.history['accuracy'], 'g-', label='accuracy')\n",
        "plt.plot(history.history['val_accuracy'], 'k--', label='val_accuracy')\n",
        "plt.xlabel('Epoch')\n",
        "plt.ylim(0.7, 1)\n",
        "plt.legend()\n",
        "\n",
        "plt.show() # 네트워크가 과적합 이유는 임베딩 레이어가 랜덤값부터 시작해서 학습 > 벡터 품질이 좋지 않다.\n",
        "# 개선 - 임베딩 레이어를 별도로 학습. rnn이 아닌 cnn을 사용 ?"
      ],
      "execution_count": 28,
      "outputs": [
        {
          "output_type": "display_data",
          "data": {
            "text/plain": [
              "<Figure size 1200x400 with 2 Axes>"
            ],
            "image/png": "[encoded data removed]"
          },
          "metadata": {}
        }
      ]
    },
    {
      "cell_type": "code",
      "metadata": {
        "id": "dS4Bw55e1HQa"
      },
      "source": [
        "# 7.30 테스트 데이터 평가\n",
        "test_text_X = [row.split('\\t')[1] for row in test_text.split('\\n')[1:] if row.count('\\t') > 0]\n",
        "test_text_X = [clean_str(sentence) for sentence in test_text_X]\n",
        "sentences = [sentence.split(' ') for sentence in test_text_X]\n",
        "sentences_new = []\n",
        "for sentence in sentences:\n",
        "    sentences_new.append([word[:5] for word in sentence][:25])\n",
        "sentences = sentences_new\n",
        "\n",
        "test_X = tokenizer.texts_to_sequences(sentences)\n",
        "test_X = pad_sequences(test_X, padding='post')\n",
        "print(test_X[:5])\n",
        "model.evaluate(test_X, test_Y, verbose=0) # 테스트 데이터의 정확도 80% [손실, 정확도]"
      ],
      "execution_count": null,
      "outputs": []
    },
    {
      "cell_type": "markdown",
      "source": [
        "test_sentence 문자열을 단어 단위로 분할하고, 이 단어들을 now_sentence 리스트에 하나씩 추가한 후, test_sentences 리스트에 now_sentence의 현재 상태를 복사하여 저장\n",
        "\n",
        "예 : \"I love coding\"이라는 문자열이 test_sentence로 입력되었다면, 이 문자열은 공백을 기준으로 \"I\", \"love\", \"coding\" 세 개의 단어로 분할. 그 다음, now_sentence 리스트에 \"I\"가 추가되고, 이어서 \"love\", \"coding\"이 차례로 추가됩니다. 그러면 now_sentence의 현재 상태는 [\"I\", \"love\", \"coding\"]이 됩니다. 마지막으로, now_sentence의 현재 상태를 슬라이싱하여 새로운 리스트로 만들고, 이를 test_sentences 리스트에 추가.\n",
        "\n",
        "따라서 test_sentences 리스트에는 [\"I\"], [\"I\", \"love\"], [\"I\", \"love\", \"coding\"]이 순서대로 저장.\n",
        "\n",
        "-> 입력된 문자열을 단어 단위로 분할하고, 각 단어가 추가될 때마다 test_sentences 리스트에 현재 상태를 저장하여, 이후에 이 리스트를 활용하여 다양한 분석 작업을 수행."
      ],
      "metadata": {
        "id": "TWnmRa8kTyob"
      }
    },
    {
      "cell_type": "code",
      "metadata": {
        "id": "S_gWAXeb1HM0",
        "outputId": "2d4fef17-2b02-4f4a-9965-df8f60982620",
        "colab": {
          "base_uri": "https://localhost:8080/"
        }
      },
      "source": [
        "# 7.31 임의의 문장 감성 분석 결과 확인\n",
        "test_sentence = '재미있을 줄 알았는데 완전 실망했다. 너무 졸리고 돈이 아까웠다.'\n",
        "test_sentence = test_sentence.split(' ')\n",
        "test_sentences = []\n",
        "now_sentence = []\n",
        "for word in test_sentence:\n",
        "    now_sentence.append(word)\n",
        "    test_sentences.append(now_sentence[:])\n",
        "    \n",
        "test_X_1 = tokenizer.texts_to_sequences(test_sentences)\n",
        "test_X_1 = pad_sequences(test_X_1, padding='post', maxlen=25)\n",
        "print(test_X_1[:5])\n",
        "prediction = model.predict(test_X_1) # -> 숫자상태로 집어 넣어줘야함(배열) 변환과 전처리가 중요!!! \n",
        " # 결과를 텐서플로가 가지고 있다 \n",
        "for idx, sentence in enumerate(test_sentences): # for문 중요!\n",
        "    print(sentence)\n",
        "    print(prediction[idx])\n",
        "    # 처음에는 긍정 분석, 나중에는 부정 분석"
      ],
      "execution_count": 27,
      "outputs": [
        {
          "output_type": "stream",
          "name": "stdout",
          "text": [
            "[[4696    0    0    0    0    0    0    0    0    0    0    0    0    0\n",
            "     0    0    0    0    0    0    0    0    0    0    0]\n",
            " [4696  194    0    0    0    0    0    0    0    0    0    0    0    0\n",
            "     0    0    0    0    0    0    0    0    0    0    0]\n",
            " [4696  194  523    0    0    0    0    0    0    0    0    0    0    0\n",
            "     0    0    0    0    0    0    0    0    0    0    0]\n",
            " [4696  194  523   32    0    0    0    0    0    0    0    0    0    0\n",
            "     0    0    0    0    0    0    0    0    0    0    0]\n",
            " [4696  194  523   32    0    0    0    0    0    0    0    0    0    0\n",
            "     0    0    0    0    0    0    0    0    0    0    0]]\n",
            "1/1 [==============================] - 0s 19ms/step\n",
            "['재미있을']\n",
            "[0.12895757 0.87104243]\n",
            "['재미있을', '줄']\n",
            "[0.0750682 0.9249318]\n",
            "['재미있을', '줄', '알았는데']\n",
            "[0.70328254 0.29671746]\n",
            "['재미있을', '줄', '알았는데', '완전']\n",
            "[0.664411   0.33558902]\n",
            "['재미있을', '줄', '알았는데', '완전', '실망했다.']\n",
            "[0.664411   0.33558902]\n",
            "['재미있을', '줄', '알았는데', '완전', '실망했다.', '너무']\n",
            "[0.4611552 0.5388448]\n",
            "['재미있을', '줄', '알았는데', '완전', '실망했다.', '너무', '졸리고']\n",
            "[9.997929e-01 2.071668e-04]\n",
            "['재미있을', '줄', '알았는데', '완전', '실망했다.', '너무', '졸리고', '돈이']\n",
            "[9.99885201e-01 1.14789014e-04]\n",
            "['재미있을', '줄', '알았는데', '완전', '실망했다.', '너무', '졸리고', '돈이', '아까웠다.']\n",
            "[9.99885201e-01 1.14789014e-04]\n"
          ]
        }
      ]
    },
    {
      "cell_type": "markdown",
      "metadata": {
        "id": "GbJuXY19T-vd"
      },
      "source": [
        "# 7.4 자연어 생성"
      ]
    },
    {
      "cell_type": "markdown",
      "metadata": {
        "id": "f3eau9dNxOgR"
      },
      "source": [
        "## 7.4.1 단어 단위 생성"
      ]
    },
    {
      "cell_type": "code",
      "metadata": {
        "id": "HWbhqXUTUBJj"
      },
      "source": [
        "# 7.32 조선왕조실록 데이터 파일 다운로드\n",
        "path_to_file = tf.keras.utils.get_file('input.txt', 'http://bit.ly/2Mc3SOV')"
      ],
      "execution_count": 34,
      "outputs": []
    },
    {
      "cell_type": "code",
      "metadata": {
        "id": "8uFbN0cwulLE",
        "outputId": "5d71a471-fd13-45da-a2e5-c7e62f205d04",
        "colab": {
          "base_uri": "https://localhost:8080/"
        }
      },
      "source": [
        "# 7.33 데이터 로드 및 확인\n",
        "# 데이터를 메모리에 불러옵니다. encoding 형식으로 utf-8 을 지정해야합니다.\n",
        "train_text = open(path_to_file, 'rb').read().decode(encoding='utf-8')\n",
        "\n",
        "# 텍스트가 총 몇 자인지 확인합니다.\n",
        "print('Length of text: {} characters'.format(len(train_text)))\n",
        "print()\n",
        "\n",
        "# 처음 100 자를 확인해봅니다.\n",
        "print(train_text[:500])"
      ],
      "execution_count": 35,
      "outputs": [
        {
          "output_type": "stream",
          "name": "stdout",
          "text": [
            "Length of text: 26265493 characters\n",
            "\n",
            "﻿태조 이성계 선대의 가계. 목조 이안사가 전주에서 삼척·의주를 거쳐 알동에 정착하다 \n",
            "태조 강헌 지인 계운 성문 신무 대왕(太祖康獻至仁啓運聖文神武大王)의 성은 이씨(李氏)요, 휘(諱)는 단(旦)이요, 자(字)는 군진(君晉)이다. 그전의 휘(諱)는 이성계(李成桂)요, 호(號)는 송헌(松軒)이다. 전주(全州)의 대성(大姓)이다. 사공(司空) 휘(諱) 이한(李翰)이 신라(新羅)에 벼슬하여 태종왕(太宗王)001) 의 10대(代) 손자인 군윤(軍尹) 김은의(金殷義)의 딸에게 장가들어 시중(侍中) 휘(諱) 이자연(李自延)을 낳았다. 시중이 복야(僕射) 휘(諱) 이천상(李天祥)을 낳고, 복야가 아간(阿干) 휘(諱) 광희(光禧)를 낳고, 아간이 사도(司徒) 삼중 대광(三重大匡) 휘(諱) 입전(立全)을 낳고, 사도가 휘(諱) 이긍휴(李兢休)를 낳고, 이긍휴가 휘(諱) 염순(廉順)을 낳고, 염순이 휘(諱) 이승삭(李承朔)을 낳고, 이승삭이 휘(諱) 충경(充慶)을 낳고, 충경이 휘(諱) 경영(景英)을\n"
          ]
        }
      ]
    },
    {
      "cell_type": "code",
      "metadata": {
        "id": "qYpvgEtfulIe",
        "outputId": "35235352-15fc-4fbc-e1df-27d4c2986c2a",
        "colab": {
          "base_uri": "https://localhost:8080/"
        }
      },
      "source": [
        "# 7.34 훈련 데이터 입력 정제 > 한자도\n",
        "import re\n",
        "# From https://github.com/yoonkim/CNN_sentence/blob/master/process_data.py\n",
        "def clean_str(string):    \n",
        "    string = re.sub(r\"[^가-힣A-Za-z0-9(),!?\\'\\`]\", \" \", string)\n",
        "    string = re.sub(r\"\\'ll\", \" \\'ll\", string)\n",
        "    string = re.sub(r\",\", \" , \", string)\n",
        "    string = re.sub(r\"!\", \" ! \", string)\n",
        "    string = re.sub(r\"\\(\", \"\", string) # 괄호도 제거\n",
        "    string = re.sub(r\"\\)\", \"\", string) # 괄호도 제거\n",
        "    string = re.sub(r\"\\?\", \" \\? \", string)\n",
        "    string = re.sub(r\"\\s{2,}\", \" \", string)\n",
        "    string = re.sub(r\"\\'{2,}\", \"\\'\", string)\n",
        "    string = re.sub(r\"\\'\", \"\", string)\n",
        "# 영어는 삭제 처리\n",
        "    return string\n",
        "\n",
        "\n",
        "train_text = train_text.split('\\n') # \\n 으로 분리\n",
        "train_text = [clean_str(sentence) for sentence in train_text]\n",
        "train_text_X = []\n",
        "for sentence in train_text:\n",
        "    train_text_X.extend(sentence.split(' '))\n",
        "    train_text_X.append('\\n') # \\n 추가\n",
        "    \n",
        "train_text_X = [word for word in train_text_X if word != '']\n",
        "\n",
        "print(train_text_X[:20]) # 정제 후 한자, 괄호 제거됨."
      ],
      "execution_count": 36,
      "outputs": [
        {
          "output_type": "stream",
          "name": "stdout",
          "text": [
            "['태조', '이성계', '선대의', '가계', '목조', '이안사가', '전주에서', '삼척', '의주를', '거쳐', '알동에', '정착하다', '\\n', '태조', '강헌', '지인', '계운', '성문', '신무', '대왕']\n"
          ]
        }
      ]
    },
    {
      "cell_type": "code",
      "metadata": {
        "id": "DWMq4C-qulCn",
        "outputId": "6647e0b2-73c1-426e-fa72-70b2364e8ed6",
        "colab": {
          "base_uri": "https://localhost:8080/"
        }
      },
      "source": [
        "# 7.35 단어 토큰화 - tokenizer()를 사용하지 않음\n",
        "# 단어의 set을 만듭니다.\n",
        "vocab = sorted(set(train_text_X)) # 중복되지 않는 리스트\n",
        "vocab.append('UNK') # text에  존재하지 않는 터큰\n",
        "print ('{} unique words'.format(len(vocab))) # 총 단어수 332640\n",
        "\n",
        "# vocab list를 숫자로 맵핑하고, 반대도 실행합니다.\n",
        "word2idx = {u:i for i, u in enumerate(vocab)}\n",
        "idx2word = np.array(vocab)\n",
        "\n",
        "text_as_int = np.array([word2idx[c] for c in train_text_X]) # 단어에 대한 숫자 코드 부여\n",
        "#print(word[:5])\n",
        "# word2idx 의 일부를 알아보기 쉽게 print 해봅니다.\n",
        "print('{')\n",
        "for word,_ in zip(word2idx, range(10)):\n",
        "    #print(idx2word[:5])\n",
        "    print('  {:4s}: {:3d},'.format(repr(word), word2idx[word]))\n",
        "print('  ...\\n}')\n",
        "print('index of UNK: {}'.format(word2idx['UNK']))\n",
        "print(idx2word) # 단어 벨류 ndarray"
      ],
      "execution_count": 39,
      "outputs": [
        {
          "output_type": "stream",
          "name": "stdout",
          "text": [
            "332640 unique words\n",
            "{\n",
            "  '\\n':   0,\n",
            "  '!' :   1,\n",
            "  ',' :   2,\n",
            "  '000명으로':   3,\n",
            "  '001':   4,\n",
            "  '002':   5,\n",
            "  '003':   6,\n",
            "  '004':   7,\n",
            "  '005':   8,\n",
            "  '006':   9,\n",
            "  ...\n",
            "}\n",
            "index of UNK: 332639\n",
            "['\\n' '!' ',' ... '힘차지' '힙입어' 'UNK']\n"
          ]
        }
      ]
    },
    {
      "cell_type": "markdown",
      "source": [
        "이 코드는 Python으로 작성된 것으로 보입니다. 이 코드는 입력된 vocab 리스트의 각 단어를 고유한 정수로 매핑하는 word2idx 딕셔너리와, 이와 반대로 고유한 정수를 해당하는 단어로 매핑하는 idx2word 배열을 생성합니다.\n",
        "\n",
        "먼저 word2idx 딕셔너리는 리스트 컴프리헨션을 사용하여 생성됩니다. enumerate(vocab)은 vocab 리스트의 각 단어에 대해 인덱스와 함께 순회하는 이터레이터를 생성합니다. 이터레이터의 결과로 나오는 (i, u) 튜플은 i가 해당 단어의 정수 인덱스가 되고, u가 해당 단어가 됩니다. 이렇게 생성된 튜플들을 {u:i for i, u in enumerate(vocab)} 딕셔너리 컴프리헨션으로 간단히 매핑하면, 각 단어에 대한 정수 인덱스를 가지는 word2idx 딕셔너리가 생성됩니다.\n",
        "\n",
        "다음으로, idx2word 배열은 NumPy의 array() 함수를 사용하여 생성됩니다. 이 함수는 입력된 리스트를 배열로 변환합니다. 여기서는 입력된 vocab 리스트를 배열로 변환하고, 이 배열을 idx2word 변수에 할당합니다. 이제 idx2word 배열은 인덱스가 해당하는 단어를 찾는 데 사용할 수 있습니다.\n",
        "\n",
        "이 코드를 활용하면, 입력된 단어 리스트를 고유한 정수 인덱스 리스트로 변환하고, 이후에 학습 및 분석 작업에서 이를 활용할 수 있습니다. 예를 들어, 자연어 처리 모델에서는 입력 문장의 각 단어를 정수로 인코딩하여 처리하므로, 이를 위해 이 코드를 사용할 수 있습니다."
      ],
      "metadata": {
        "id": "dV1E6i3RWY-D"
      }
    },
    {
      "cell_type": "code",
      "metadata": {
        "id": "dIOkvMpd_7Wd",
        "outputId": "399d1247-7d45-437d-e4dc-3365ef242900",
        "colab": {
          "base_uri": "https://localhost:8080/"
        }
      },
      "source": [
        "# 7.36 토큰 데이터 확인\n",
        "print(train_text_X[:20])\n",
        "print(text_as_int[:20])"
      ],
      "execution_count": 40,
      "outputs": [
        {
          "output_type": "stream",
          "name": "stdout",
          "text": [
            "['태조', '이성계', '선대의', '가계', '목조', '이안사가', '전주에서', '삼척', '의주를', '거쳐', '알동에', '정착하다', '\\n', '태조', '강헌', '지인', '계운', '성문', '신무', '대왕']\n",
            "[299305 229634 161443  17430 111029 230292 251081 155087 225462  29027\n",
            " 190295 256129      0 299305  25624 273553  36147 163996 180466  84413]\n"
          ]
        }
      ]
    },
    {
      "cell_type": "code",
      "metadata": {
        "id": "hKeZRJsM_7Tx",
        "outputId": "93c3315a-19fc-418f-bf23-6d3f145e4603",
        "colab": {
          "base_uri": "https://localhost:8080/"
        }
      },
      "source": [
        "# 7.37 기본 데이터셋 만들기\n",
        "seq_length = 25 # 입력으로 25개의 단어가 주어졌을 때 다음 단어를 예측\n",
        "examples_per_epoch = len(text_as_int) // seq_length\n",
        "sentence_dataset = tf.data.Dataset.from_tensor_slices(text_as_int) # Dataset의 장점.\n",
        "# seq_length +1 : 주어진 단어 25개 + 그 뒤에 오는정답 1개 단어\n",
        "#dataset.batch() : 데이터 배치의 크기를 정한다.\n",
        "sentence_dataset = sentence_dataset.batch(seq_length+1, drop_remainder=True)\n",
        "for item in sentence_dataset.take(1):\n",
        "  # dataset.take() > 해당 배치를 몇번 불러올지를 정한다.\n",
        "    print(idx2word[item.numpy()])\n",
        "    print(item.numpy())"
      ],
      "execution_count": 41,
      "outputs": [
        {
          "output_type": "stream",
          "name": "stdout",
          "text": [
            "['태조' '이성계' '선대의' '가계' '목조' '이안사가' '전주에서' '삼척' '의주를' '거쳐' '알동에' '정착하다'\n",
            " '\\n' '태조' '강헌' '지인' '계운' '성문' '신무' '대왕' '의' '성은' '이씨' '요' ',' '휘']\n",
            "[299305 229634 161443  17430 111029 230292 251081 155087 225462  29027\n",
            " 190295 256129      0 299305  25624 273553  36147 163996 180466  84413\n",
            " 224182 164549 230248 210912      2 330313]\n"
          ]
        }
      ]
    },
    {
      "cell_type": "code",
      "metadata": {
        "id": "WCgSGJTQ_7QH",
        "outputId": "d41120bd-7f61-4c99-d394-1d3bcc7082c5",
        "colab": {
          "base_uri": "https://localhost:8080/"
        }
      },
      "source": [
        "# 7.38 학습 데이터셋 만들기\n",
        "def split_input_target(chunk):\n",
        "    return [chunk[:-1], chunk[-1]] # 26개 단어를 25단어, 1단어로 잘라주는 함수\n",
        "\n",
        "train_dataset = sentence_dataset.map(split_input_target) # 데이터세트에 대한 map(f) 함수 변환\n",
        "for x,y in train_dataset.take(1):\n",
        "    print(idx2word[x.numpy()])\n",
        "    print(x.numpy())\n",
        "    print(idx2word[y.numpy()])\n",
        "    print(y.numpy())"
      ],
      "execution_count": 43,
      "outputs": [
        {
          "output_type": "stream",
          "name": "stdout",
          "text": [
            "['태조' '이성계' '선대의' '가계' '목조' '이안사가' '전주에서' '삼척' '의주를' '거쳐' '알동에' '정착하다'\n",
            " '\\n' '태조' '강헌' '지인' '계운' '성문' '신무' '대왕' '의' '성은' '이씨' '요' ',']\n",
            "[299305 229634 161443  17430 111029 230292 251081 155087 225462  29027\n",
            " 190295 256129      0 299305  25624 273553  36147 163996 180466  84413\n",
            " 224182 164549 230248 210912      2]\n",
            "휘\n",
            "330313\n"
          ]
        }
      ]
    },
    {
      "cell_type": "code",
      "metadata": {
        "id": "X6LSzyUgS72O"
      },
      "source": [
        "# 7.39 데이터셋 shuffle, batch 설정\n",
        "BATCH_SIZE = 512\n",
        "steps_per_epoch = examples_per_epoch // BATCH_SIZE\n",
        "BUFFER_SIZE = 10000\n",
        "\n",
        "train_dataset = train_dataset.shuffle(BUFFER_SIZE).batch(BATCH_SIZE, drop_remainder=True)"
      ],
      "execution_count": 44,
      "outputs": []
    },
    {
      "cell_type": "code",
      "metadata": {
        "id": "bGDQMKzZRz9k",
        "outputId": "6467f9d9-fd55-49f3-aade-81b54e9d1558",
        "colab": {
          "base_uri": "https://localhost:8080/"
        }
      },
      "source": [
        "# 7.40 단어 단위 생성 모델 정의\n",
        "total_words = len(vocab)\n",
        "model = tf.keras.Sequential([\n",
        "    tf.keras.layers.Embedding(total_words, 100, input_length=seq_length),\n",
        "    tf.keras.layers.LSTM(units=100, return_sequences=True),\n",
        "    tf.keras.layers.Dropout(0.2),\n",
        "    tf.keras.layers.LSTM(units=100),\n",
        "    tf.keras.layers.Dense(total_words, activation='softmax')\n",
        "])\n",
        "\n",
        "model.compile(optimizer='adam', loss='sparse_categorical_crossentropy', metrics=['accuracy'])\n",
        "model.summary()"
      ],
      "execution_count": 45,
      "outputs": [
        {
          "output_type": "stream",
          "name": "stdout",
          "text": [
            "Model: \"sequential_4\"\n",
            "_________________________________________________________________\n",
            " Layer (type)                Output Shape              Param #   \n",
            "=================================================================\n",
            " embedding_1 (Embedding)     (None, 25, 100)           33264000  \n",
            "                                                                 \n",
            " lstm_3 (LSTM)               (None, 25, 100)           80400     \n",
            "                                                                 \n",
            " dropout (Dropout)           (None, 25, 100)           0         \n",
            "                                                                 \n",
            " lstm_4 (LSTM)               (None, 100)               80400     \n",
            "                                                                 \n",
            " dense_4 (Dense)             (None, 332640)            33596640  \n",
            "                                                                 \n",
            "=================================================================\n",
            "Total params: 67,021,440\n",
            "Trainable params: 67,021,440\n",
            "Non-trainable params: 0\n",
            "_________________________________________________________________\n"
          ]
        }
      ]
    },
    {
      "cell_type": "code",
      "metadata": {
        "id": "xCF1_hcARz6g",
        "outputId": "61ea1335-47bc-4824-95fe-f209606760a7",
        "colab": {
          "base_uri": "https://localhost:8080/",
          "height": 1000
        }
      },
      "source": [
        "# 7.41 단어 단위 생성 모델 학습\n",
        "from tensorflow.keras.preprocessing.sequence import pad_sequences\n",
        "\n",
        "def testmodel(epoch, logs):\n",
        "    if epoch % 5 != 0 and epoch != 49:\n",
        "        return\n",
        "    test_sentence = train_text[0]\n",
        "\n",
        "    next_words = 100\n",
        "    for _ in range(next_words):\n",
        "        test_text_X = test_sentence.split(' ')[-seq_length:]\n",
        "        test_text_X = np.array([word2idx[c] if c in word2idx else word2idx['UNK'] for c in test_text_X])\n",
        "        test_text_X = pad_sequences([test_text_X], maxlen=seq_length, padding='pre', value=word2idx['UNK'])\n",
        "\n",
        "        #output_idx = model.predict_classes(test_text_X)\n",
        "        output_yidx = model.predict(test_text_X)\n",
        "        output_idx = output_yidx.argmax(axis=-1)\n",
        "        test_sentence += ' ' + idx2word[output_idx[0]]\n",
        "    \n",
        "    print()\n",
        "    print(test_sentence)\n",
        "    print()\n",
        "\n",
        "testmodelcb = tf.keras.callbacks.LambdaCallback(on_epoch_end=testmodel)\n",
        "\n",
        "history = model.fit(train_dataset.repeat(), epochs=50, steps_per_epoch=steps_per_epoch, callbacks=[testmodelcb], verbose=2)"
      ],
      "execution_count": 46,
      "outputs": [
        {
          "output_type": "stream",
          "name": "stdout",
          "text": [
            "Epoch 1/50\n",
            "1/1 [==============================] - 1s 622ms/step\n",
            "1/1 [==============================] - 0s 21ms/step\n",
            "1/1 [==============================] - 0s 18ms/step\n",
            "1/1 [==============================] - 0s 18ms/step\n",
            "1/1 [==============================] - 0s 19ms/step\n",
            "1/1 [==============================] - 0s 19ms/step\n",
            "1/1 [==============================] - 0s 20ms/step\n",
            "1/1 [==============================] - 0s 21ms/step\n",
            "1/1 [==============================] - 0s 17ms/step\n",
            "1/1 [==============================] - 0s 19ms/step\n",
            "1/1 [==============================] - 0s 19ms/step\n",
            "1/1 [==============================] - 0s 17ms/step\n",
            "1/1 [==============================] - 0s 19ms/step\n",
            "1/1 [==============================] - 0s 19ms/step\n",
            "1/1 [==============================] - 0s 19ms/step\n",
            "1/1 [==============================] - 0s 19ms/step\n",
            "1/1 [==============================] - 0s 19ms/step\n",
            "1/1 [==============================] - 0s 20ms/step\n",
            "1/1 [==============================] - 0s 20ms/step\n",
            "1/1 [==============================] - 0s 18ms/step\n",
            "1/1 [==============================] - 0s 18ms/step\n",
            "1/1 [==============================] - 0s 20ms/step\n",
            "1/1 [==============================] - 0s 24ms/step\n",
            "1/1 [==============================] - 0s 18ms/step\n",
            "1/1 [==============================] - 0s 18ms/step\n",
            "1/1 [==============================] - 0s 21ms/step\n",
            "1/1 [==============================] - 0s 19ms/step\n",
            "1/1 [==============================] - 0s 18ms/step\n",
            "1/1 [==============================] - 0s 19ms/step\n",
            "1/1 [==============================] - 0s 24ms/step\n",
            "1/1 [==============================] - 0s 22ms/step\n",
            "1/1 [==============================] - 0s 19ms/step\n",
            "1/1 [==============================] - 0s 20ms/step\n",
            "1/1 [==============================] - 0s 24ms/step\n",
            "1/1 [==============================] - 0s 24ms/step\n",
            "1/1 [==============================] - 0s 18ms/step\n",
            "1/1 [==============================] - 0s 18ms/step\n",
            "1/1 [==============================] - 0s 20ms/step\n",
            "1/1 [==============================] - 0s 18ms/step\n",
            "1/1 [==============================] - 0s 22ms/step\n",
            "1/1 [==============================] - 0s 19ms/step\n",
            "1/1 [==============================] - 0s 19ms/step\n",
            "1/1 [==============================] - 0s 18ms/step\n",
            "1/1 [==============================] - 0s 19ms/step\n",
            "1/1 [==============================] - 0s 20ms/step\n",
            "1/1 [==============================] - 0s 19ms/step\n",
            "1/1 [==============================] - 0s 21ms/step\n",
            "1/1 [==============================] - 0s 19ms/step\n",
            "1/1 [==============================] - 0s 23ms/step\n",
            "1/1 [==============================] - 0s 21ms/step\n",
            "1/1 [==============================] - 0s 20ms/step\n",
            "1/1 [==============================] - 0s 25ms/step\n",
            "1/1 [==============================] - 0s 18ms/step\n",
            "1/1 [==============================] - 0s 19ms/step\n",
            "1/1 [==============================] - 0s 20ms/step\n",
            "1/1 [==============================] - 0s 20ms/step\n",
            "1/1 [==============================] - 0s 19ms/step\n",
            "1/1 [==============================] - 0s 19ms/step\n",
            "1/1 [==============================] - 0s 20ms/step\n",
            "1/1 [==============================] - 0s 20ms/step\n",
            "1/1 [==============================] - 0s 19ms/step\n",
            "1/1 [==============================] - 0s 19ms/step\n",
            "1/1 [==============================] - 0s 18ms/step\n",
            "1/1 [==============================] - 0s 20ms/step\n",
            "1/1 [==============================] - 0s 20ms/step\n",
            "1/1 [==============================] - 0s 24ms/step\n",
            "1/1 [==============================] - 0s 20ms/step\n",
            "1/1 [==============================] - 0s 22ms/step\n",
            "1/1 [==============================] - 0s 22ms/step\n",
            "1/1 [==============================] - 0s 24ms/step\n",
            "1/1 [==============================] - 0s 24ms/step\n",
            "1/1 [==============================] - 0s 22ms/step\n",
            "1/1 [==============================] - 0s 21ms/step\n",
            "1/1 [==============================] - 0s 19ms/step\n",
            "1/1 [==============================] - 0s 18ms/step\n",
            "1/1 [==============================] - 0s 18ms/step\n",
            "1/1 [==============================] - 0s 25ms/step\n",
            "1/1 [==============================] - 0s 21ms/step\n",
            "1/1 [==============================] - 0s 20ms/step\n",
            "1/1 [==============================] - 0s 19ms/step\n",
            "1/1 [==============================] - 0s 19ms/step\n",
            "1/1 [==============================] - 0s 19ms/step\n",
            "1/1 [==============================] - 0s 22ms/step\n",
            "1/1 [==============================] - 0s 19ms/step\n",
            "1/1 [==============================] - 0s 21ms/step\n",
            "1/1 [==============================] - 0s 19ms/step\n",
            "1/1 [==============================] - 0s 21ms/step\n",
            "1/1 [==============================] - 0s 21ms/step\n",
            "1/1 [==============================] - 0s 21ms/step\n",
            "1/1 [==============================] - 0s 18ms/step\n",
            "1/1 [==============================] - 0s 19ms/step\n",
            "1/1 [==============================] - 0s 19ms/step\n",
            "1/1 [==============================] - 0s 18ms/step\n",
            "1/1 [==============================] - 0s 19ms/step\n",
            "1/1 [==============================] - 0s 20ms/step\n",
            "1/1 [==============================] - 0s 22ms/step\n",
            "1/1 [==============================] - 0s 19ms/step\n",
            "1/1 [==============================] - 0s 20ms/step\n",
            "1/1 [==============================] - 0s 22ms/step\n",
            "1/1 [==============================] - 0s 22ms/step\n",
            "\n",
            " 태조 이성계 선대의 가계 목조 이안사가 전주에서 삼척 의주를 거쳐 알동에 정착하다  , , , , , , , , , , , , , , , , , , , , , , , , , , , , , , , , , , , , , , , , , , , , , , , , , , , , , , , , , , , , , , , , , , , , , , , , , , , , , , , , , , , , , , , , , , , , , , , , , , , ,\n",
            "\n",
            "533/533 - 240s - loss: 9.3676 - accuracy: 0.0722 - 240s/epoch - 450ms/step\n",
            "Epoch 2/50\n",
            "533/533 - 162s - loss: 8.3654 - accuracy: 0.0742 - 162s/epoch - 303ms/step\n",
            "Epoch 3/50\n",
            "533/533 - 152s - loss: 8.0580 - accuracy: 0.0817 - 152s/epoch - 285ms/step\n",
            "Epoch 4/50\n"
          ]
        },
        {
          "output_type": "error",
          "ename": "KeyboardInterrupt",
          "evalue": "ignored",
          "traceback": [
            "\u001b[0;31m---------------------------------------------------------------------------\u001b[0m",
            "\u001b[0;31mKeyboardInterrupt\u001b[0m                         Traceback (most recent call last)",
            "\u001b[0;32m<ipython-input-46-bd962f47c4c0>\u001b[0m in \u001b[0;36m<cell line: 26>\u001b[0;34m()\u001b[0m\n\u001b[1;32m     24\u001b[0m \u001b[0mtestmodelcb\u001b[0m \u001b[0;34m=\u001b[0m \u001b[0mtf\u001b[0m\u001b[0;34m.\u001b[0m\u001b[0mkeras\u001b[0m\u001b[0;34m.\u001b[0m\u001b[0mcallbacks\u001b[0m\u001b[0;34m.\u001b[0m\u001b[0mLambdaCallback\u001b[0m\u001b[0;34m(\u001b[0m\u001b[0mon_epoch_end\u001b[0m\u001b[0;34m=\u001b[0m\u001b[0mtestmodel\u001b[0m\u001b[0;34m)\u001b[0m\u001b[0;34m\u001b[0m\u001b[0;34m\u001b[0m\u001b[0m\n\u001b[1;32m     25\u001b[0m \u001b[0;34m\u001b[0m\u001b[0m\n\u001b[0;32m---> 26\u001b[0;31m \u001b[0mhistory\u001b[0m \u001b[0;34m=\u001b[0m \u001b[0mmodel\u001b[0m\u001b[0;34m.\u001b[0m\u001b[0mfit\u001b[0m\u001b[0;34m(\u001b[0m\u001b[0mtrain_dataset\u001b[0m\u001b[0;34m.\u001b[0m\u001b[0mrepeat\u001b[0m\u001b[0;34m(\u001b[0m\u001b[0;34m)\u001b[0m\u001b[0;34m,\u001b[0m \u001b[0mepochs\u001b[0m\u001b[0;34m=\u001b[0m\u001b[0;36m50\u001b[0m\u001b[0;34m,\u001b[0m \u001b[0msteps_per_epoch\u001b[0m\u001b[0;34m=\u001b[0m\u001b[0msteps_per_epoch\u001b[0m\u001b[0;34m,\u001b[0m \u001b[0mcallbacks\u001b[0m\u001b[0;34m=\u001b[0m\u001b[0;34m[\u001b[0m\u001b[0mtestmodelcb\u001b[0m\u001b[0;34m]\u001b[0m\u001b[0;34m,\u001b[0m \u001b[0mverbose\u001b[0m\u001b[0;34m=\u001b[0m\u001b[0;36m2\u001b[0m\u001b[0;34m)\u001b[0m\u001b[0;34m\u001b[0m\u001b[0;34m\u001b[0m\u001b[0m\n\u001b[0m",
            "\u001b[0;32m/usr/local/lib/python3.10/dist-packages/keras/utils/traceback_utils.py\u001b[0m in \u001b[0;36merror_handler\u001b[0;34m(*args, **kwargs)\u001b[0m\n\u001b[1;32m     63\u001b[0m         \u001b[0mfiltered_tb\u001b[0m \u001b[0;34m=\u001b[0m \u001b[0;32mNone\u001b[0m\u001b[0;34m\u001b[0m\u001b[0;34m\u001b[0m\u001b[0m\n\u001b[1;32m     64\u001b[0m         \u001b[0;32mtry\u001b[0m\u001b[0;34m:\u001b[0m\u001b[0;34m\u001b[0m\u001b[0;34m\u001b[0m\u001b[0m\n\u001b[0;32m---> 65\u001b[0;31m             \u001b[0;32mreturn\u001b[0m \u001b[0mfn\u001b[0m\u001b[0;34m(\u001b[0m\u001b[0;34m*\u001b[0m\u001b[0margs\u001b[0m\u001b[0;34m,\u001b[0m \u001b[0;34m**\u001b[0m\u001b[0mkwargs\u001b[0m\u001b[0;34m)\u001b[0m\u001b[0;34m\u001b[0m\u001b[0;34m\u001b[0m\u001b[0m\n\u001b[0m\u001b[1;32m     66\u001b[0m         \u001b[0;32mexcept\u001b[0m \u001b[0mException\u001b[0m \u001b[0;32mas\u001b[0m \u001b[0me\u001b[0m\u001b[0;34m:\u001b[0m\u001b[0;34m\u001b[0m\u001b[0;34m\u001b[0m\u001b[0m\n\u001b[1;32m     67\u001b[0m             \u001b[0mfiltered_tb\u001b[0m \u001b[0;34m=\u001b[0m \u001b[0m_process_traceback_frames\u001b[0m\u001b[0;34m(\u001b[0m\u001b[0me\u001b[0m\u001b[0;34m.\u001b[0m\u001b[0m__traceback__\u001b[0m\u001b[0;34m)\u001b[0m\u001b[0;34m\u001b[0m\u001b[0;34m\u001b[0m\u001b[0m\n",
            "\u001b[0;32m/usr/local/lib/python3.10/dist-packages/keras/engine/training.py\u001b[0m in \u001b[0;36mfit\u001b[0;34m(self, x, y, batch_size, epochs, verbose, callbacks, validation_split, validation_data, shuffle, class_weight, sample_weight, initial_epoch, steps_per_epoch, validation_steps, validation_batch_size, validation_freq, max_queue_size, workers, use_multiprocessing)\u001b[0m\n\u001b[1;32m   1683\u001b[0m                         ):\n\u001b[1;32m   1684\u001b[0m                             \u001b[0mcallbacks\u001b[0m\u001b[0;34m.\u001b[0m\u001b[0mon_train_batch_begin\u001b[0m\u001b[0;34m(\u001b[0m\u001b[0mstep\u001b[0m\u001b[0;34m)\u001b[0m\u001b[0;34m\u001b[0m\u001b[0;34m\u001b[0m\u001b[0m\n\u001b[0;32m-> 1685\u001b[0;31m                             \u001b[0mtmp_logs\u001b[0m \u001b[0;34m=\u001b[0m \u001b[0mself\u001b[0m\u001b[0;34m.\u001b[0m\u001b[0mtrain_function\u001b[0m\u001b[0;34m(\u001b[0m\u001b[0miterator\u001b[0m\u001b[0;34m)\u001b[0m\u001b[0;34m\u001b[0m\u001b[0;34m\u001b[0m\u001b[0m\n\u001b[0m\u001b[1;32m   1686\u001b[0m                             \u001b[0;32mif\u001b[0m \u001b[0mdata_handler\u001b[0m\u001b[0;34m.\u001b[0m\u001b[0mshould_sync\u001b[0m\u001b[0;34m:\u001b[0m\u001b[0;34m\u001b[0m\u001b[0;34m\u001b[0m\u001b[0m\n\u001b[1;32m   1687\u001b[0m                                 \u001b[0mcontext\u001b[0m\u001b[0;34m.\u001b[0m\u001b[0masync_wait\u001b[0m\u001b[0;34m(\u001b[0m\u001b[0;34m)\u001b[0m\u001b[0;34m\u001b[0m\u001b[0;34m\u001b[0m\u001b[0m\n",
            "\u001b[0;32m/usr/local/lib/python3.10/dist-packages/tensorflow/python/util/traceback_utils.py\u001b[0m in \u001b[0;36merror_handler\u001b[0;34m(*args, **kwargs)\u001b[0m\n\u001b[1;32m    148\u001b[0m     \u001b[0mfiltered_tb\u001b[0m \u001b[0;34m=\u001b[0m \u001b[0;32mNone\u001b[0m\u001b[0;34m\u001b[0m\u001b[0;34m\u001b[0m\u001b[0m\n\u001b[1;32m    149\u001b[0m     \u001b[0;32mtry\u001b[0m\u001b[0;34m:\u001b[0m\u001b[0;34m\u001b[0m\u001b[0;34m\u001b[0m\u001b[0m\n\u001b[0;32m--> 150\u001b[0;31m       \u001b[0;32mreturn\u001b[0m \u001b[0mfn\u001b[0m\u001b[0;34m(\u001b[0m\u001b[0;34m*\u001b[0m\u001b[0margs\u001b[0m\u001b[0;34m,\u001b[0m \u001b[0;34m**\u001b[0m\u001b[0mkwargs\u001b[0m\u001b[0;34m)\u001b[0m\u001b[0;34m\u001b[0m\u001b[0;34m\u001b[0m\u001b[0m\n\u001b[0m\u001b[1;32m    151\u001b[0m     \u001b[0;32mexcept\u001b[0m \u001b[0mException\u001b[0m \u001b[0;32mas\u001b[0m \u001b[0me\u001b[0m\u001b[0;34m:\u001b[0m\u001b[0;34m\u001b[0m\u001b[0;34m\u001b[0m\u001b[0m\n\u001b[1;32m    152\u001b[0m       \u001b[0mfiltered_tb\u001b[0m \u001b[0;34m=\u001b[0m \u001b[0m_process_traceback_frames\u001b[0m\u001b[0;34m(\u001b[0m\u001b[0me\u001b[0m\u001b[0;34m.\u001b[0m\u001b[0m__traceback__\u001b[0m\u001b[0;34m)\u001b[0m\u001b[0;34m\u001b[0m\u001b[0;34m\u001b[0m\u001b[0m\n",
            "\u001b[0;32m/usr/local/lib/python3.10/dist-packages/tensorflow/python/eager/polymorphic_function/polymorphic_function.py\u001b[0m in \u001b[0;36m__call__\u001b[0;34m(self, *args, **kwds)\u001b[0m\n\u001b[1;32m    892\u001b[0m \u001b[0;34m\u001b[0m\u001b[0m\n\u001b[1;32m    893\u001b[0m       \u001b[0;32mwith\u001b[0m \u001b[0mOptionalXlaContext\u001b[0m\u001b[0;34m(\u001b[0m\u001b[0mself\u001b[0m\u001b[0;34m.\u001b[0m\u001b[0m_jit_compile\u001b[0m\u001b[0;34m)\u001b[0m\u001b[0;34m:\u001b[0m\u001b[0;34m\u001b[0m\u001b[0;34m\u001b[0m\u001b[0m\n\u001b[0;32m--> 894\u001b[0;31m         \u001b[0mresult\u001b[0m \u001b[0;34m=\u001b[0m \u001b[0mself\u001b[0m\u001b[0;34m.\u001b[0m\u001b[0m_call\u001b[0m\u001b[0;34m(\u001b[0m\u001b[0;34m*\u001b[0m\u001b[0margs\u001b[0m\u001b[0;34m,\u001b[0m \u001b[0;34m**\u001b[0m\u001b[0mkwds\u001b[0m\u001b[0;34m)\u001b[0m\u001b[0;34m\u001b[0m\u001b[0;34m\u001b[0m\u001b[0m\n\u001b[0m\u001b[1;32m    895\u001b[0m \u001b[0;34m\u001b[0m\u001b[0m\n\u001b[1;32m    896\u001b[0m       \u001b[0mnew_tracing_count\u001b[0m \u001b[0;34m=\u001b[0m \u001b[0mself\u001b[0m\u001b[0;34m.\u001b[0m\u001b[0mexperimental_get_tracing_count\u001b[0m\u001b[0;34m(\u001b[0m\u001b[0;34m)\u001b[0m\u001b[0;34m\u001b[0m\u001b[0;34m\u001b[0m\u001b[0m\n",
            "\u001b[0;32m/usr/local/lib/python3.10/dist-packages/tensorflow/python/eager/polymorphic_function/polymorphic_function.py\u001b[0m in \u001b[0;36m_call\u001b[0;34m(self, *args, **kwds)\u001b[0m\n\u001b[1;32m    924\u001b[0m       \u001b[0;31m# In this case we have created variables on the first call, so we run the\u001b[0m\u001b[0;34m\u001b[0m\u001b[0;34m\u001b[0m\u001b[0m\n\u001b[1;32m    925\u001b[0m       \u001b[0;31m# defunned version which is guaranteed to never create variables.\u001b[0m\u001b[0;34m\u001b[0m\u001b[0;34m\u001b[0m\u001b[0m\n\u001b[0;32m--> 926\u001b[0;31m       \u001b[0;32mreturn\u001b[0m \u001b[0mself\u001b[0m\u001b[0;34m.\u001b[0m\u001b[0m_no_variable_creation_fn\u001b[0m\u001b[0;34m(\u001b[0m\u001b[0;34m*\u001b[0m\u001b[0margs\u001b[0m\u001b[0;34m,\u001b[0m \u001b[0;34m**\u001b[0m\u001b[0mkwds\u001b[0m\u001b[0;34m)\u001b[0m  \u001b[0;31m# pylint: disable=not-callable\u001b[0m\u001b[0;34m\u001b[0m\u001b[0;34m\u001b[0m\u001b[0m\n\u001b[0m\u001b[1;32m    927\u001b[0m     \u001b[0;32melif\u001b[0m \u001b[0mself\u001b[0m\u001b[0;34m.\u001b[0m\u001b[0m_variable_creation_fn\u001b[0m \u001b[0;32mis\u001b[0m \u001b[0;32mnot\u001b[0m \u001b[0;32mNone\u001b[0m\u001b[0;34m:\u001b[0m\u001b[0;34m\u001b[0m\u001b[0;34m\u001b[0m\u001b[0m\n\u001b[1;32m    928\u001b[0m       \u001b[0;31m# Release the lock early so that multiple threads can perform the call\u001b[0m\u001b[0;34m\u001b[0m\u001b[0;34m\u001b[0m\u001b[0m\n",
            "\u001b[0;32m/usr/local/lib/python3.10/dist-packages/tensorflow/python/eager/polymorphic_function/tracing_compiler.py\u001b[0m in \u001b[0;36m__call__\u001b[0;34m(self, *args, **kwargs)\u001b[0m\n\u001b[1;32m    141\u001b[0m       (concrete_function,\n\u001b[1;32m    142\u001b[0m        filtered_flat_args) = self._maybe_define_function(args, kwargs)\n\u001b[0;32m--> 143\u001b[0;31m     return concrete_function._call_flat(\n\u001b[0m\u001b[1;32m    144\u001b[0m         filtered_flat_args, captured_inputs=concrete_function.captured_inputs)  # pylint: disable=protected-access\n\u001b[1;32m    145\u001b[0m \u001b[0;34m\u001b[0m\u001b[0m\n",
            "\u001b[0;32m/usr/local/lib/python3.10/dist-packages/tensorflow/python/eager/polymorphic_function/monomorphic_function.py\u001b[0m in \u001b[0;36m_call_flat\u001b[0;34m(self, args, captured_inputs, cancellation_manager)\u001b[0m\n\u001b[1;32m   1755\u001b[0m         and executing_eagerly):\n\u001b[1;32m   1756\u001b[0m       \u001b[0;31m# No tape is watching; skip to running the function.\u001b[0m\u001b[0;34m\u001b[0m\u001b[0;34m\u001b[0m\u001b[0m\n\u001b[0;32m-> 1757\u001b[0;31m       return self._build_call_outputs(self._inference_function.call(\n\u001b[0m\u001b[1;32m   1758\u001b[0m           ctx, args, cancellation_manager=cancellation_manager))\n\u001b[1;32m   1759\u001b[0m     forward_backward = self._select_forward_and_backward_functions(\n",
            "\u001b[0;32m/usr/local/lib/python3.10/dist-packages/tensorflow/python/eager/polymorphic_function/monomorphic_function.py\u001b[0m in \u001b[0;36mcall\u001b[0;34m(self, ctx, args, cancellation_manager)\u001b[0m\n\u001b[1;32m    379\u001b[0m       \u001b[0;32mwith\u001b[0m \u001b[0m_InterpolateFunctionError\u001b[0m\u001b[0;34m(\u001b[0m\u001b[0mself\u001b[0m\u001b[0;34m)\u001b[0m\u001b[0;34m:\u001b[0m\u001b[0;34m\u001b[0m\u001b[0;34m\u001b[0m\u001b[0m\n\u001b[1;32m    380\u001b[0m         \u001b[0;32mif\u001b[0m \u001b[0mcancellation_manager\u001b[0m \u001b[0;32mis\u001b[0m \u001b[0;32mNone\u001b[0m\u001b[0;34m:\u001b[0m\u001b[0;34m\u001b[0m\u001b[0;34m\u001b[0m\u001b[0m\n\u001b[0;32m--> 381\u001b[0;31m           outputs = execute.execute(\n\u001b[0m\u001b[1;32m    382\u001b[0m               \u001b[0mstr\u001b[0m\u001b[0;34m(\u001b[0m\u001b[0mself\u001b[0m\u001b[0;34m.\u001b[0m\u001b[0msignature\u001b[0m\u001b[0;34m.\u001b[0m\u001b[0mname\u001b[0m\u001b[0;34m)\u001b[0m\u001b[0;34m,\u001b[0m\u001b[0;34m\u001b[0m\u001b[0;34m\u001b[0m\u001b[0m\n\u001b[1;32m    383\u001b[0m               \u001b[0mnum_outputs\u001b[0m\u001b[0;34m=\u001b[0m\u001b[0mself\u001b[0m\u001b[0;34m.\u001b[0m\u001b[0m_num_outputs\u001b[0m\u001b[0;34m,\u001b[0m\u001b[0;34m\u001b[0m\u001b[0;34m\u001b[0m\u001b[0m\n",
            "\u001b[0;32m/usr/local/lib/python3.10/dist-packages/tensorflow/python/eager/execute.py\u001b[0m in \u001b[0;36mquick_execute\u001b[0;34m(op_name, num_outputs, inputs, attrs, ctx, name)\u001b[0m\n\u001b[1;32m     50\u001b[0m   \u001b[0;32mtry\u001b[0m\u001b[0;34m:\u001b[0m\u001b[0;34m\u001b[0m\u001b[0;34m\u001b[0m\u001b[0m\n\u001b[1;32m     51\u001b[0m     \u001b[0mctx\u001b[0m\u001b[0;34m.\u001b[0m\u001b[0mensure_initialized\u001b[0m\u001b[0;34m(\u001b[0m\u001b[0;34m)\u001b[0m\u001b[0;34m\u001b[0m\u001b[0;34m\u001b[0m\u001b[0m\n\u001b[0;32m---> 52\u001b[0;31m     tensors = pywrap_tfe.TFE_Py_Execute(ctx._handle, device_name, op_name,\n\u001b[0m\u001b[1;32m     53\u001b[0m                                         inputs, attrs, num_outputs)\n\u001b[1;32m     54\u001b[0m   \u001b[0;32mexcept\u001b[0m \u001b[0mcore\u001b[0m\u001b[0;34m.\u001b[0m\u001b[0m_NotOkStatusException\u001b[0m \u001b[0;32mas\u001b[0m \u001b[0me\u001b[0m\u001b[0;34m:\u001b[0m\u001b[0;34m\u001b[0m\u001b[0;34m\u001b[0m\u001b[0m\n",
            "\u001b[0;31mKeyboardInterrupt\u001b[0m: "
          ]
        }
      ]
    },
    {
      "cell_type": "code",
      "metadata": {
        "id": "Zz6UCaidRz2b",
        "outputId": "ce8672b4-f20c-45a0-d75a-a8c36be0cff0",
        "colab": {
          "base_uri": "https://localhost:8080/",
          "height": 248
        }
      },
      "source": [
        "# 7.42 임의의 문장을 사용한 생성 결과 확인\n",
        "from tensorflow.keras.preprocessing.sequence import pad_sequences\n",
        "test_sentence = '동헌에 나가 공무를 본 후 활 십오 순을 쏘았다'\n",
        "\n",
        "next_words = 100\n",
        "for _ in range(next_words):\n",
        "    test_text_X = test_sentence.split(' ')[-seq_length:]\n",
        "    test_text_X = np.array([word2idx[c] if c in word2idx else word2idx['UNK'] for c in test_text_X])\n",
        "    test_text_X = pad_sequences([test_text_X], maxlen=seq_length, padding='pre', value=word2idx['UNK'])\n",
        "    \n",
        "    output_idx = model.predict_classes(test_text_X)\n",
        "    test_sentence += ' ' + idx2word[output_idx[0]]\n",
        "\n",
        "print(test_sentence)"
      ],
      "execution_count": 47,
      "outputs": [
        {
          "output_type": "error",
          "ename": "AttributeError",
          "evalue": "ignored",
          "traceback": [
            "\u001b[0;31m---------------------------------------------------------------------------\u001b[0m",
            "\u001b[0;31mAttributeError\u001b[0m                            Traceback (most recent call last)",
            "\u001b[0;32m<ipython-input-47-f40b3c56f61d>\u001b[0m in \u001b[0;36m<cell line: 6>\u001b[0;34m()\u001b[0m\n\u001b[1;32m      9\u001b[0m     \u001b[0mtest_text_X\u001b[0m \u001b[0;34m=\u001b[0m \u001b[0mpad_sequences\u001b[0m\u001b[0;34m(\u001b[0m\u001b[0;34m[\u001b[0m\u001b[0mtest_text_X\u001b[0m\u001b[0;34m]\u001b[0m\u001b[0;34m,\u001b[0m \u001b[0mmaxlen\u001b[0m\u001b[0;34m=\u001b[0m\u001b[0mseq_length\u001b[0m\u001b[0;34m,\u001b[0m \u001b[0mpadding\u001b[0m\u001b[0;34m=\u001b[0m\u001b[0;34m'pre'\u001b[0m\u001b[0;34m,\u001b[0m \u001b[0mvalue\u001b[0m\u001b[0;34m=\u001b[0m\u001b[0mword2idx\u001b[0m\u001b[0;34m[\u001b[0m\u001b[0;34m'UNK'\u001b[0m\u001b[0;34m]\u001b[0m\u001b[0;34m)\u001b[0m\u001b[0;34m\u001b[0m\u001b[0;34m\u001b[0m\u001b[0m\n\u001b[1;32m     10\u001b[0m \u001b[0;34m\u001b[0m\u001b[0m\n\u001b[0;32m---> 11\u001b[0;31m     \u001b[0moutput_idx\u001b[0m \u001b[0;34m=\u001b[0m \u001b[0mmodel\u001b[0m\u001b[0;34m.\u001b[0m\u001b[0mpredict_classes\u001b[0m\u001b[0;34m(\u001b[0m\u001b[0mtest_text_X\u001b[0m\u001b[0;34m)\u001b[0m\u001b[0;34m\u001b[0m\u001b[0;34m\u001b[0m\u001b[0m\n\u001b[0m\u001b[1;32m     12\u001b[0m     \u001b[0mtest_sentence\u001b[0m \u001b[0;34m+=\u001b[0m \u001b[0;34m' '\u001b[0m \u001b[0;34m+\u001b[0m \u001b[0midx2word\u001b[0m\u001b[0;34m[\u001b[0m\u001b[0moutput_idx\u001b[0m\u001b[0;34m[\u001b[0m\u001b[0;36m0\u001b[0m\u001b[0;34m]\u001b[0m\u001b[0;34m]\u001b[0m\u001b[0;34m\u001b[0m\u001b[0;34m\u001b[0m\u001b[0m\n\u001b[1;32m     13\u001b[0m \u001b[0;34m\u001b[0m\u001b[0m\n",
            "\u001b[0;31mAttributeError\u001b[0m: 'Sequential' object has no attribute 'predict_classes'"
          ]
        }
      ]
    },
    {
      "cell_type": "markdown",
      "metadata": {
        "id": "9Hzr8inp0Go4"
      },
      "source": [
        "## 7.4.2 자소 단위 생성"
      ]
    },
    {
      "cell_type": "code",
      "metadata": {
        "id": "pPw8MxlxvE66",
        "outputId": "00536e8e-860c-4650-b717-8d4580f51b2c",
        "colab": {
          "base_uri": "https://localhost:8080/"
        }
      },
      "source": [
        "# 7.43 jamotools 설치\n",
        "!pip install jamotools"
      ],
      "execution_count": null,
      "outputs": [
        {
          "output_type": "stream",
          "name": "stdout",
          "text": [
            "Looking in indexes: https://pypi.org/simple, https://us-python.pkg.dev/colab-wheels/public/simple/\n",
            "Requirement already satisfied: jamotools in /usr/local/lib/python3.7/dist-packages (0.1.10)\n",
            "Requirement already satisfied: numpy in /usr/local/lib/python3.7/dist-packages (from jamotools) (1.21.6)\n",
            "Requirement already satisfied: future in /usr/local/lib/python3.7/dist-packages (from jamotools) (0.16.0)\n",
            "Requirement already satisfied: six in /usr/local/lib/python3.7/dist-packages (from jamotools) (1.15.0)\n"
          ]
        }
      ]
    },
    {
      "cell_type": "code",
      "metadata": {
        "id": "Xq6XfbRpvEz5",
        "outputId": "07ea78a7-f869-48ea-f818-8620a27ba846",
        "colab": {
          "base_uri": "https://localhost:8080/"
        }
      },
      "source": [
        "# 7.44 자모 분리 테스트\n",
        "import jamotools\n",
        "\n",
        "train_text = open(path_to_file, 'rb').read().decode(encoding='utf-8')\n",
        "s = train_text[:100]\n",
        "print(s)\n",
        "\n",
        "# 한글 텍스트를 자모 단위로 분리해줍니다. 한자 등에는 영향이 없습니다.\n",
        "s_split = jamotools.split_syllables(s)\n",
        "print(s_split)"
      ],
      "execution_count": null,
      "outputs": [
        {
          "output_type": "stream",
          "name": "stdout",
          "text": [
            "﻿태조 이성계 선대의 가계. 목조 이안사가 전주에서 삼척·의주를 거쳐 알동에 정착하다 \n",
            "태조 강헌 지인 계운 성문 신무 대왕(太祖康獻至仁啓運聖文神武大王)의 성은 이씨(李氏)요, 휘\n",
            "﻿ㅌㅐㅈㅗ ㅇㅣㅅㅓㅇㄱㅖ ㅅㅓㄴㄷㅐㅇㅢ ㄱㅏㄱㅖ. ㅁㅗㄱㅈㅗ ㅇㅣㅇㅏㄴㅅㅏㄱㅏ ㅈㅓㄴㅈㅜㅇㅔㅅㅓ ㅅㅏㅁㅊㅓㄱ·ㅇㅢㅈㅜㄹㅡㄹ ㄱㅓㅊㅕ ㅇㅏㄹㄷㅗㅇㅇㅔ ㅈㅓㅇㅊㅏㄱㅎㅏㄷㅏ \n",
            "ㅌㅐㅈㅗ ㄱㅏㅇㅎㅓㄴ ㅈㅣㅇㅣㄴ ㄱㅖㅇㅜㄴ ㅅㅓㅇㅁㅜㄴ ㅅㅣㄴㅁㅜ ㄷㅐㅇㅘㅇ(太祖康獻至仁啓運聖文神武大王)ㅇㅢ ㅅㅓㅇㅇㅡㄴ ㅇㅣㅆㅣ(李氏)ㅇㅛ, ㅎㅟ\n"
          ]
        }
      ]
    },
    {
      "cell_type": "code",
      "metadata": {
        "id": "-Ivfd0G5RRLJ",
        "outputId": "8e46fbe5-3fb9-49ff-9529-04f39f4a9b12",
        "colab": {
          "base_uri": "https://localhost:8080/"
        }
      },
      "source": [
        "# 7.45 자모 결합 테스트\n",
        "s2 = jamotools.join_jamos(s_split)\n",
        "print(s2)\n",
        "print(s == s2)"
      ],
      "execution_count": null,
      "outputs": [
        {
          "output_type": "stream",
          "name": "stdout",
          "text": [
            "﻿태조 이성계 선대의 가계. 목조 이안사가 전주에서 삼척·의주를 거쳐 알동에 정착하다 \n",
            "태조 강헌 지인 계운 성문 신무 대왕(太祖康獻至仁啓運聖文神武大王)의 성은 이씨(李氏)요, 휘\n",
            "True\n"
          ]
        }
      ]
    },
    {
      "cell_type": "code",
      "metadata": {
        "id": "wtl5EkcrRRIV",
        "outputId": "8a2564d8-e258-4282-d51a-fa96cc3f9d2a",
        "colab": {
          "base_uri": "https://localhost:8080/"
        }
      },
      "source": [
        "# 7.46 자모 토큰화\n",
        "# 텍스트를 자모 단위로 나눕니다. 데이터가 크기 때문에 약간 시간이 걸립니다.\n",
        "train_text_X = jamotools.split_syllables(train_text)\n",
        "vocab = sorted(set(train_text_X))\n",
        "vocab.append('UNK')\n",
        "print ('{} unique characters'.format(len(vocab)))\n",
        "\n",
        "# vocab list를 숫자로 맵핑하고, 반대도 실행합니다.\n",
        "char2idx = {u:i for i, u in enumerate(vocab)}\n",
        "idx2char = np.array(vocab)\n",
        "\n",
        "text_as_int = np.array([char2idx[c] for c in train_text_X])\n",
        "\n",
        "# word2idx 의 일부를 알아보기 쉽게 print 해봅니다.\n",
        "print('{')\n",
        "for char,_ in zip(char2idx, range(10)):\n",
        "    print('  {:4s}: {:3d},'.format(repr(char), char2idx[char]))\n",
        "print('  ...\\n}')\n",
        "\n",
        "print('index of UNK: {}'.format(char2idx['UNK']))"
      ],
      "execution_count": null,
      "outputs": [
        {
          "output_type": "stream",
          "name": "stdout",
          "text": [
            "6198 unique characters\n",
            "{\n",
            "  '\\n':   0,\n",
            "  ' ' :   1,\n",
            "  '!' :   2,\n",
            "  '\"' :   3,\n",
            "  \"'\" :   4,\n",
            "  '(' :   5,\n",
            "  ')' :   6,\n",
            "  '+' :   7,\n",
            "  ',' :   8,\n",
            "  '-' :   9,\n",
            "  ...\n",
            "}\n",
            "index of UNK: 6197\n"
          ]
        }
      ]
    },
    {
      "cell_type": "code",
      "metadata": {
        "id": "opyAlE-ZR4-o",
        "outputId": "a3b92078-bb3b-41b0-9c92-9901a08f4625",
        "colab": {
          "base_uri": "https://localhost:8080/"
        }
      },
      "source": [
        "# 7.47 토큰 데이터 확인\n",
        "print(train_text_X[:20])\n",
        "print(text_as_int[:20])"
      ],
      "execution_count": null,
      "outputs": [
        {
          "output_type": "stream",
          "name": "stdout",
          "text": [
            "﻿ㅌㅐㅈㅗ ㅇㅣㅅㅓㅇㄱㅖ ㅅㅓㄴㄷㅐㅇ\n",
            "[6158   83   87   79   94    1   78  106   76   90   78   56   93    1\n",
            "   76   90   59   62   87   78]\n"
          ]
        }
      ]
    },
    {
      "cell_type": "code",
      "metadata": {
        "id": "MP0hfUCVRsp7",
        "outputId": "a2d797a2-66a4-4266-d307-d8c2fb73c503",
        "colab": {
          "base_uri": "https://localhost:8080/",
          "height": 248
        }
      },
      "source": [
        "# 7.48 학습 데이터세트 생성\n",
        "seq_length = 80\n",
        "examples_per_epoch = len(text_as_int) // seq_length\n",
        "char_dataset = tf.data.Dataset.from_tensor_slices(text_as_int)\n",
        "\n",
        "char_dataset = char_dataset.batch(seq_length+1, drop_remainder=True)\n",
        "for item in char_dataset.take(1):\n",
        "    print(idx2char[item.numpy()])\n",
        "    print(item.numpy())\n",
        "    \n",
        "def split_input_target(chunk):\n",
        "    return [chunk[:-1], chunk[-1]]\n",
        "\n",
        "train_dataset = char_dataset.map(split_input_target)\n",
        "for x,y in train_dataset.take(1):\n",
        "    print(idx2char[x.numpy()])\n",
        "    print(x.numpy())\n",
        "    print(idx2char[y.numpy()])\n",
        "    print(y.numpy())\n",
        "    \n",
        "BATCH_SIZE = 256\n",
        "steps_per_epoch = examples_per_epoch // BATCH_SIZE\n",
        "BUFFER_SIZE = 10000\n",
        "\n",
        "train_dataset = train_dataset.shuffle(BUFFER_SIZE).batch(BATCH_SIZE, drop_remainder=True)"
      ],
      "execution_count": 48,
      "outputs": [
        {
          "output_type": "error",
          "ename": "NameError",
          "evalue": "ignored",
          "traceback": [
            "\u001b[0;31m---------------------------------------------------------------------------\u001b[0m",
            "\u001b[0;31mNameError\u001b[0m                                 Traceback (most recent call last)",
            "\u001b[0;32m<ipython-input-48-cb096f1b2270>\u001b[0m in \u001b[0;36m<cell line: 7>\u001b[0;34m()\u001b[0m\n\u001b[1;32m      6\u001b[0m \u001b[0mchar_dataset\u001b[0m \u001b[0;34m=\u001b[0m \u001b[0mchar_dataset\u001b[0m\u001b[0;34m.\u001b[0m\u001b[0mbatch\u001b[0m\u001b[0;34m(\u001b[0m\u001b[0mseq_length\u001b[0m\u001b[0;34m+\u001b[0m\u001b[0;36m1\u001b[0m\u001b[0;34m,\u001b[0m \u001b[0mdrop_remainder\u001b[0m\u001b[0;34m=\u001b[0m\u001b[0;32mTrue\u001b[0m\u001b[0;34m)\u001b[0m\u001b[0;34m\u001b[0m\u001b[0;34m\u001b[0m\u001b[0m\n\u001b[1;32m      7\u001b[0m \u001b[0;32mfor\u001b[0m \u001b[0mitem\u001b[0m \u001b[0;32min\u001b[0m \u001b[0mchar_dataset\u001b[0m\u001b[0;34m.\u001b[0m\u001b[0mtake\u001b[0m\u001b[0;34m(\u001b[0m\u001b[0;36m1\u001b[0m\u001b[0;34m)\u001b[0m\u001b[0;34m:\u001b[0m\u001b[0;34m\u001b[0m\u001b[0;34m\u001b[0m\u001b[0m\n\u001b[0;32m----> 8\u001b[0;31m     \u001b[0mprint\u001b[0m\u001b[0;34m(\u001b[0m\u001b[0midx2char\u001b[0m\u001b[0;34m[\u001b[0m\u001b[0mitem\u001b[0m\u001b[0;34m.\u001b[0m\u001b[0mnumpy\u001b[0m\u001b[0;34m(\u001b[0m\u001b[0;34m)\u001b[0m\u001b[0;34m]\u001b[0m\u001b[0;34m)\u001b[0m\u001b[0;34m\u001b[0m\u001b[0;34m\u001b[0m\u001b[0m\n\u001b[0m\u001b[1;32m      9\u001b[0m     \u001b[0mprint\u001b[0m\u001b[0;34m(\u001b[0m\u001b[0mitem\u001b[0m\u001b[0;34m.\u001b[0m\u001b[0mnumpy\u001b[0m\u001b[0;34m(\u001b[0m\u001b[0;34m)\u001b[0m\u001b[0;34m)\u001b[0m\u001b[0;34m\u001b[0m\u001b[0;34m\u001b[0m\u001b[0m\n\u001b[1;32m     10\u001b[0m \u001b[0;34m\u001b[0m\u001b[0m\n",
            "\u001b[0;31mNameError\u001b[0m: name 'idx2char' is not defined"
          ]
        }
      ]
    },
    {
      "cell_type": "code",
      "metadata": {
        "id": "TazYgfrsRsly",
        "outputId": "1ac1bde9-151e-4b17-d754-3b095ed448d9",
        "colab": {
          "base_uri": "https://localhost:8080/"
        }
      },
      "source": [
        "# 7.49 자소 단위 생성 모델 정의\n",
        "total_chars = len(vocab)\n",
        "model = tf.keras.Sequential([\n",
        "    tf.keras.layers.Embedding(total_chars, 100, input_length=seq_length),\n",
        "    tf.keras.layers.LSTM(units=400),\n",
        "    tf.keras.layers.Dense(total_chars, activation='softmax')\n",
        "])\n",
        "\n",
        "model.compile(optimizer='adam', loss='sparse_categorical_crossentropy', metrics=['accuracy'])\n",
        "model.summary()"
      ],
      "execution_count": 49,
      "outputs": [
        {
          "output_type": "stream",
          "name": "stdout",
          "text": [
            "Model: \"sequential_5\"\n",
            "_________________________________________________________________\n",
            " Layer (type)                Output Shape              Param #   \n",
            "=================================================================\n",
            " embedding_2 (Embedding)     (None, 80, 100)           33264000  \n",
            "                                                                 \n",
            " lstm_5 (LSTM)               (None, 400)               801600    \n",
            "                                                                 \n",
            " dense_5 (Dense)             (None, 332640)            133388640 \n",
            "                                                                 \n",
            "=================================================================\n",
            "Total params: 167,454,240\n",
            "Trainable params: 167,454,240\n",
            "Non-trainable params: 0\n",
            "_________________________________________________________________\n"
          ]
        }
      ]
    },
    {
      "cell_type": "code",
      "metadata": {
        "id": "Xjv4zsxFRRF9",
        "outputId": "ce0af86b-2865-4973-9eac-f27bd8816496",
        "colab": {
          "base_uri": "https://localhost:8080/",
          "height": 657
        }
      },
      "source": [
        "# 7.50 자소 단위 생성 모델 학습\n",
        "from tensorflow.keras.preprocessing.sequence import pad_sequences\n",
        "\n",
        "def testmodel(epoch, logs):\n",
        "    if epoch % 5 != 0 and epoch != 99:\n",
        "        return\n",
        "    \n",
        "    test_sentence = train_text[:48]\n",
        "    test_sentence = jamotools.split_syllables(test_sentence)\n",
        "\n",
        "    next_chars = 300\n",
        "    for _ in range(next_chars):\n",
        "        test_text_X = test_sentence[-seq_length:]\n",
        "        test_text_X = np.array([char2idx[c] if c in char2idx else char2idx['UNK'] for c in test_text_X])\n",
        "        test_text_X = pad_sequences([test_text_X], maxlen=seq_length, padding='pre', value=char2idx['UNK'])\n",
        "\n",
        "        output_idx = model.predict_classes(test_text_X)\n",
        "        test_sentence += idx2char[output_idx[0]]\n",
        "    \n",
        "    print()\n",
        "    print(jamotools.join_jamos(test_sentence))\n",
        "    print()\n",
        "\n",
        "testmodelcb = tf.keras.callbacks.LambdaCallback(on_epoch_end=testmodel)\n",
        "\n",
        "history = model.fit(train_dataset.repeat(), epochs=100, steps_per_epoch=steps_per_epoch, callbacks=[testmodelcb], verbose=2)"
      ],
      "execution_count": 51,
      "outputs": [
        {
          "output_type": "stream",
          "name": "stdout",
          "text": [
            "Epoch 1/100\n"
          ]
        },
        {
          "output_type": "error",
          "ename": "ValueError",
          "evalue": "ignored",
          "traceback": [
            "\u001b[0;31m---------------------------------------------------------------------------\u001b[0m",
            "\u001b[0;31mValueError\u001b[0m                                Traceback (most recent call last)",
            "\u001b[0;32m<ipython-input-51-c842ef4688f7>\u001b[0m in \u001b[0;36m<cell line: 26>\u001b[0;34m()\u001b[0m\n\u001b[1;32m     24\u001b[0m \u001b[0mtestmodelcb\u001b[0m \u001b[0;34m=\u001b[0m \u001b[0mtf\u001b[0m\u001b[0;34m.\u001b[0m\u001b[0mkeras\u001b[0m\u001b[0;34m.\u001b[0m\u001b[0mcallbacks\u001b[0m\u001b[0;34m.\u001b[0m\u001b[0mLambdaCallback\u001b[0m\u001b[0;34m(\u001b[0m\u001b[0mon_epoch_end\u001b[0m\u001b[0;34m=\u001b[0m\u001b[0mtestmodel\u001b[0m\u001b[0;34m)\u001b[0m\u001b[0;34m\u001b[0m\u001b[0;34m\u001b[0m\u001b[0m\n\u001b[1;32m     25\u001b[0m \u001b[0;34m\u001b[0m\u001b[0m\n\u001b[0;32m---> 26\u001b[0;31m \u001b[0mhistory\u001b[0m \u001b[0;34m=\u001b[0m \u001b[0mmodel\u001b[0m\u001b[0;34m.\u001b[0m\u001b[0mfit\u001b[0m\u001b[0;34m(\u001b[0m\u001b[0mtrain_dataset\u001b[0m\u001b[0;34m.\u001b[0m\u001b[0mrepeat\u001b[0m\u001b[0;34m(\u001b[0m\u001b[0;34m)\u001b[0m\u001b[0;34m,\u001b[0m \u001b[0mepochs\u001b[0m\u001b[0;34m=\u001b[0m\u001b[0;36m100\u001b[0m\u001b[0;34m,\u001b[0m \u001b[0msteps_per_epoch\u001b[0m\u001b[0;34m=\u001b[0m\u001b[0msteps_per_epoch\u001b[0m\u001b[0;34m,\u001b[0m \u001b[0mcallbacks\u001b[0m\u001b[0;34m=\u001b[0m\u001b[0;34m[\u001b[0m\u001b[0mtestmodelcb\u001b[0m\u001b[0;34m]\u001b[0m\u001b[0;34m,\u001b[0m \u001b[0mverbose\u001b[0m\u001b[0;34m=\u001b[0m\u001b[0;36m2\u001b[0m\u001b[0;34m)\u001b[0m\u001b[0;34m\u001b[0m\u001b[0;34m\u001b[0m\u001b[0m\n\u001b[0m",
            "\u001b[0;32m/usr/local/lib/python3.10/dist-packages/keras/utils/traceback_utils.py\u001b[0m in \u001b[0;36merror_handler\u001b[0;34m(*args, **kwargs)\u001b[0m\n\u001b[1;32m     68\u001b[0m             \u001b[0;31m# To get the full stack trace, call:\u001b[0m\u001b[0;34m\u001b[0m\u001b[0;34m\u001b[0m\u001b[0m\n\u001b[1;32m     69\u001b[0m             \u001b[0;31m# `tf.debugging.disable_traceback_filtering()`\u001b[0m\u001b[0;34m\u001b[0m\u001b[0;34m\u001b[0m\u001b[0m\n\u001b[0;32m---> 70\u001b[0;31m             \u001b[0;32mraise\u001b[0m \u001b[0me\u001b[0m\u001b[0;34m.\u001b[0m\u001b[0mwith_traceback\u001b[0m\u001b[0;34m(\u001b[0m\u001b[0mfiltered_tb\u001b[0m\u001b[0;34m)\u001b[0m \u001b[0;32mfrom\u001b[0m \u001b[0;32mNone\u001b[0m\u001b[0;34m\u001b[0m\u001b[0;34m\u001b[0m\u001b[0m\n\u001b[0m\u001b[1;32m     71\u001b[0m         \u001b[0;32mfinally\u001b[0m\u001b[0;34m:\u001b[0m\u001b[0;34m\u001b[0m\u001b[0;34m\u001b[0m\u001b[0m\n\u001b[1;32m     72\u001b[0m             \u001b[0;32mdel\u001b[0m \u001b[0mfiltered_tb\u001b[0m\u001b[0;34m\u001b[0m\u001b[0;34m\u001b[0m\u001b[0m\n",
            "\u001b[0;32m/usr/local/lib/python3.10/dist-packages/keras/engine/training.py\u001b[0m in \u001b[0;36mtf__train_function\u001b[0;34m(iterator)\u001b[0m\n\u001b[1;32m     13\u001b[0m                 \u001b[0;32mtry\u001b[0m\u001b[0;34m:\u001b[0m\u001b[0;34m\u001b[0m\u001b[0;34m\u001b[0m\u001b[0m\n\u001b[1;32m     14\u001b[0m                     \u001b[0mdo_return\u001b[0m \u001b[0;34m=\u001b[0m \u001b[0;32mTrue\u001b[0m\u001b[0;34m\u001b[0m\u001b[0;34m\u001b[0m\u001b[0m\n\u001b[0;32m---> 15\u001b[0;31m                     \u001b[0mretval_\u001b[0m \u001b[0;34m=\u001b[0m \u001b[0mag__\u001b[0m\u001b[0;34m.\u001b[0m\u001b[0mconverted_call\u001b[0m\u001b[0;34m(\u001b[0m\u001b[0mag__\u001b[0m\u001b[0;34m.\u001b[0m\u001b[0mld\u001b[0m\u001b[0;34m(\u001b[0m\u001b[0mstep_function\u001b[0m\u001b[0;34m)\u001b[0m\u001b[0;34m,\u001b[0m \u001b[0;34m(\u001b[0m\u001b[0mag__\u001b[0m\u001b[0;34m.\u001b[0m\u001b[0mld\u001b[0m\u001b[0;34m(\u001b[0m\u001b[0mself\u001b[0m\u001b[0;34m)\u001b[0m\u001b[0;34m,\u001b[0m \u001b[0mag__\u001b[0m\u001b[0;34m.\u001b[0m\u001b[0mld\u001b[0m\u001b[0;34m(\u001b[0m\u001b[0miterator\u001b[0m\u001b[0;34m)\u001b[0m\u001b[0;34m)\u001b[0m\u001b[0;34m,\u001b[0m \u001b[0;32mNone\u001b[0m\u001b[0;34m,\u001b[0m \u001b[0mfscope\u001b[0m\u001b[0;34m)\u001b[0m\u001b[0;34m\u001b[0m\u001b[0;34m\u001b[0m\u001b[0m\n\u001b[0m\u001b[1;32m     16\u001b[0m                 \u001b[0;32mexcept\u001b[0m\u001b[0;34m:\u001b[0m\u001b[0;34m\u001b[0m\u001b[0;34m\u001b[0m\u001b[0m\n\u001b[1;32m     17\u001b[0m                     \u001b[0mdo_return\u001b[0m \u001b[0;34m=\u001b[0m \u001b[0;32mFalse\u001b[0m\u001b[0;34m\u001b[0m\u001b[0;34m\u001b[0m\u001b[0m\n",
            "\u001b[0;31mValueError\u001b[0m: in user code:\n\n    File \"/usr/local/lib/python3.10/dist-packages/keras/engine/training.py\", line 1284, in train_function  *\n        return step_function(self, iterator)\n    File \"/usr/local/lib/python3.10/dist-packages/keras/engine/training.py\", line 1268, in step_function  **\n        outputs = model.distribute_strategy.run(run_step, args=(data,))\n    File \"/usr/local/lib/python3.10/dist-packages/keras/engine/training.py\", line 1249, in run_step  **\n        outputs = model.train_step(data)\n    File \"/usr/local/lib/python3.10/dist-packages/keras/engine/training.py\", line 1050, in train_step\n        y_pred = self(x, training=True)\n    File \"/usr/local/lib/python3.10/dist-packages/keras/utils/traceback_utils.py\", line 70, in error_handler\n        raise e.with_traceback(filtered_tb) from None\n    File \"/usr/local/lib/python3.10/dist-packages/keras/engine/input_spec.py\", line 298, in assert_input_compatibility\n        raise ValueError(\n\n    ValueError: Input 0 of layer \"sequential_5\" is incompatible with the layer: expected shape=(None, 80), found shape=(512, 25)\n"
          ]
        }
      ]
    },
    {
      "cell_type": "code",
      "metadata": {
        "id": "i2PIJeXRvEw-",
        "outputId": "21df404c-7425-4731-cefd-8cc208d3bfb6",
        "colab": {
          "base_uri": "https://localhost:8080/",
          "height": 248
        }
      },
      "source": [
        "# 7.51 임의의 문장을 사용한 생성 결과 확인\n",
        "from tensorflow.keras.preprocessing.sequence import pad_sequences\n",
        "test_sentence = '동헌에 나가 공무를 본 후 활 십오 순을 쏘았다'\n",
        "test_sentence = jamotools.split_syllables(test_sentence)\n",
        "\n",
        "next_chars = 300\n",
        "for _ in range(next_chars):\n",
        "    test_text_X = test_sentence[-seq_length:]\n",
        "    test_text_X = np.array([char2idx[c] if c in char2idx else char2idx['UNK'] for c in test_text_X])\n",
        "    test_text_X = pad_sequences([test_text_X], maxlen=seq_length, padding='pre', value=char2idx['UNK'])\n",
        "    \n",
        "    output_idx = model.predict_classes(test_text_X)\n",
        "    test_sentence += idx2char[output_idx[0]]\n",
        "    \n",
        "\n",
        "print(jamotools.join_jamos(test_sentence))"
      ],
      "execution_count": 52,
      "outputs": [
        {
          "output_type": "error",
          "ename": "NameError",
          "evalue": "ignored",
          "traceback": [
            "\u001b[0;31m---------------------------------------------------------------------------\u001b[0m",
            "\u001b[0;31mNameError\u001b[0m                                 Traceback (most recent call last)",
            "\u001b[0;32m<ipython-input-52-f9e10fb0d7b6>\u001b[0m in \u001b[0;36m<cell line: 4>\u001b[0;34m()\u001b[0m\n\u001b[1;32m      2\u001b[0m \u001b[0;32mfrom\u001b[0m \u001b[0mtensorflow\u001b[0m\u001b[0;34m.\u001b[0m\u001b[0mkeras\u001b[0m\u001b[0;34m.\u001b[0m\u001b[0mpreprocessing\u001b[0m\u001b[0;34m.\u001b[0m\u001b[0msequence\u001b[0m \u001b[0;32mimport\u001b[0m \u001b[0mpad_sequences\u001b[0m\u001b[0;34m\u001b[0m\u001b[0;34m\u001b[0m\u001b[0m\n\u001b[1;32m      3\u001b[0m \u001b[0mtest_sentence\u001b[0m \u001b[0;34m=\u001b[0m \u001b[0;34m'동헌에 나가 공무를 본 후 활 십오 순을 쏘았다'\u001b[0m\u001b[0;34m\u001b[0m\u001b[0;34m\u001b[0m\u001b[0m\n\u001b[0;32m----> 4\u001b[0;31m \u001b[0mtest_sentence\u001b[0m \u001b[0;34m=\u001b[0m \u001b[0mjamotools\u001b[0m\u001b[0;34m.\u001b[0m\u001b[0msplit_syllables\u001b[0m\u001b[0;34m(\u001b[0m\u001b[0mtest_sentence\u001b[0m\u001b[0;34m)\u001b[0m\u001b[0;34m\u001b[0m\u001b[0;34m\u001b[0m\u001b[0m\n\u001b[0m\u001b[1;32m      5\u001b[0m \u001b[0;34m\u001b[0m\u001b[0m\n\u001b[1;32m      6\u001b[0m \u001b[0mnext_chars\u001b[0m \u001b[0;34m=\u001b[0m \u001b[0;36m300\u001b[0m\u001b[0;34m\u001b[0m\u001b[0;34m\u001b[0m\u001b[0m\n",
            "\u001b[0;31mNameError\u001b[0m: name 'jamotools' is not defined"
          ]
        }
      ]
    }
  ]
}