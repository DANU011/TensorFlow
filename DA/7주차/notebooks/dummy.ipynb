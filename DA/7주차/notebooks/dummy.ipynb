{
 "cells": [
  {
   "cell_type": "code",
   "execution_count": 1,
   "metadata": {
    "collapsed": true,
    "ExecuteTime": {
     "end_time": "2023-06-15T05:48:22.715121700Z",
     "start_time": "2023-06-15T05:48:21.615193400Z"
    }
   },
   "outputs": [],
   "source": [
    "import pandas as pd"
   ]
  },
  {
   "cell_type": "code",
   "execution_count": 2,
   "outputs": [],
   "source": [
    "data = pd.read_csv('../data/final_userCode2.csv')"
   ],
   "metadata": {
    "collapsed": false,
    "ExecuteTime": {
     "end_time": "2023-06-15T05:49:14.323990600Z",
     "start_time": "2023-06-15T05:49:14.284136500Z"
    }
   }
  },
  {
   "cell_type": "code",
   "execution_count": 3,
   "outputs": [
    {
     "name": "stdout",
     "output_type": "stream",
     "text": [
      "       userCode        gx         gy        gz    label  time  heartbeat  temp\n",
      "0             2  0.976562  -9.582520  4.211426  walking   NaN         85  36.5\n",
      "1             2 -2.990723 -12.451172  3.540039  walking   NaN         85  36.5\n",
      "2             2  0.183105   1.342773 -1.037598  walking   NaN         85  36.5\n",
      "3             2 -1.525879   2.197266 -4.943848  walking   NaN         85  36.5\n",
      "4             2  5.004883 -17.272949 -4.638672  walking   NaN         85  36.5\n",
      "...         ...       ...        ...       ...      ...   ...        ...   ...\n",
      "21395         2  3.662109   0.488281 -0.549316     fall   NaN         86  36.7\n",
      "21396         2  2.868652   0.671387 -0.488281     fall   NaN         86  36.7\n",
      "21397         2  1.770020   0.427246 -0.671387     fall   NaN         86  36.7\n",
      "21398         2  1.647949   1.525879 -0.793457     fall   NaN         86  36.7\n",
      "21399         2  0.854492   1.770020 -0.915527     fall   NaN         86  36.7\n",
      "\n",
      "[21400 rows x 8 columns]\n"
     ]
    }
   ],
   "source": [
    "print(data)"
   ],
   "metadata": {
    "collapsed": false,
    "ExecuteTime": {
     "end_time": "2023-06-15T05:49:21.791723700Z",
     "start_time": "2023-06-15T05:49:21.769156800Z"
    }
   }
  },
  {
   "cell_type": "code",
   "execution_count": 4,
   "outputs": [
    {
     "name": "stdout",
     "output_type": "stream",
     "text": [
      "Updated data:\n",
      "       userCode        gx         gy        gz    label   \n",
      "0             2  0.976562  -9.582520  4.211426  walking  \\\n",
      "1             2 -2.990723 -12.451172  3.540039  walking   \n",
      "2             2  0.183105   1.342773 -1.037598  walking   \n",
      "3             2 -1.525879   2.197266 -4.943848  walking   \n",
      "4             2  5.004883 -17.272949 -4.638672  walking   \n",
      "...         ...       ...        ...       ...      ...   \n",
      "21395         2  3.662109   0.488281 -0.549316     fall   \n",
      "21396         2  2.868652   0.671387 -0.488281     fall   \n",
      "21397         2  1.770020   0.427246 -0.671387     fall   \n",
      "21398         2  1.647949   1.525879 -0.793457     fall   \n",
      "21399         2  0.854492   1.770020 -0.915527     fall   \n",
      "\n",
      "                         time  heartbeat  temp  \n",
      "0     1900-01-01 00:00:00.000         85  36.5  \n",
      "1     1900-01-01 00:00:00.100         85  36.5  \n",
      "2     1900-01-01 00:00:00.200         85  36.5  \n",
      "3     1900-01-01 00:00:00.300         85  36.5  \n",
      "4     1900-01-01 00:00:00.400         85  36.5  \n",
      "...                       ...        ...   ...  \n",
      "21395 1900-01-01 00:35:39.500         86  36.7  \n",
      "21396 1900-01-01 00:35:39.600         86  36.7  \n",
      "21397 1900-01-01 00:35:39.700         86  36.7  \n",
      "21398 1900-01-01 00:35:39.800         86  36.7  \n",
      "21399 1900-01-01 00:35:39.900         86  36.7  \n",
      "\n",
      "[21400 rows x 8 columns]\n"
     ]
    }
   ],
   "source": [
    "import datetime\n",
    "\n",
    "# 시작 시간 설정\n",
    "start_time = datetime.datetime.strptime('00:00:00.000', '%H:%M:%S.%f')\n",
    "\n",
    "# 시간 간격 설정\n",
    "time_delta = datetime.timedelta(milliseconds=100)\n",
    "\n",
    "# 'time' 필드 업데이트\n",
    "data['time'] = [start_time + i * time_delta for i in range(len(data))]\n",
    "\n",
    "# 업데이트된 데이터 프레임 확인\n",
    "print(\"Updated data:\")\n",
    "print(data)"
   ],
   "metadata": {
    "collapsed": false,
    "ExecuteTime": {
     "end_time": "2023-06-15T05:52:51.156094100Z",
     "start_time": "2023-06-15T05:52:51.109228700Z"
    }
   }
  },
  {
   "cell_type": "code",
   "execution_count": 5,
   "outputs": [
    {
     "name": "stdout",
     "output_type": "stream",
     "text": [
      "Updated data:\n",
      "       userCode        gx         gy        gz    label   \n",
      "0             2  0.976562  -9.582520  4.211426  walking  \\\n",
      "1             2 -2.990723 -12.451172  3.540039  walking   \n",
      "2             2  0.183105   1.342773 -1.037598  walking   \n",
      "3             2 -1.525879   2.197266 -4.943848  walking   \n",
      "4             2  5.004883 -17.272949 -4.638672  walking   \n",
      "...         ...       ...        ...       ...      ...   \n",
      "21395         2  3.662109   0.488281 -0.549316     fall   \n",
      "21396         2  2.868652   0.671387 -0.488281     fall   \n",
      "21397         2  1.770020   0.427246 -0.671387     fall   \n",
      "21398         2  1.647949   1.525879 -0.793457     fall   \n",
      "21399         2  0.854492   1.770020 -0.915527     fall   \n",
      "\n",
      "                         time  heartbeat  temp     no  \n",
      "0     1900-01-01 00:00:00.000         85  36.5      1  \n",
      "1     1900-01-01 00:00:00.100         85  36.5      2  \n",
      "2     1900-01-01 00:00:00.200         85  36.5      3  \n",
      "3     1900-01-01 00:00:00.300         85  36.5      4  \n",
      "4     1900-01-01 00:00:00.400         85  36.5      5  \n",
      "...                       ...        ...   ...    ...  \n",
      "21395 1900-01-01 00:35:39.500         86  36.7  21396  \n",
      "21396 1900-01-01 00:35:39.600         86  36.7  21397  \n",
      "21397 1900-01-01 00:35:39.700         86  36.7  21398  \n",
      "21398 1900-01-01 00:35:39.800         86  36.7  21399  \n",
      "21399 1900-01-01 00:35:39.900         86  36.7  21400  \n",
      "\n",
      "[21400 rows x 9 columns]\n"
     ]
    }
   ],
   "source": [
    "data['no'] = range(1, len(data) + 1)\n",
    "# 업데이트된 데이터 프레임 확인\n",
    "print(\"Updated data:\")\n",
    "print(data)"
   ],
   "metadata": {
    "collapsed": false,
    "ExecuteTime": {
     "end_time": "2023-06-15T05:55:25.103571500Z",
     "start_time": "2023-06-15T05:55:25.087952900Z"
    }
   }
  },
  {
   "cell_type": "code",
   "execution_count": 6,
   "outputs": [
    {
     "name": "stdout",
     "output_type": "stream",
     "text": [
      "<class 'pandas.core.frame.DataFrame'>\n",
      "RangeIndex: 21400 entries, 0 to 21399\n",
      "Data columns (total 9 columns):\n",
      " #   Column     Non-Null Count  Dtype         \n",
      "---  ------     --------------  -----         \n",
      " 0   userCode   21400 non-null  int64         \n",
      " 1   gx         21400 non-null  float64       \n",
      " 2   gy         21400 non-null  float64       \n",
      " 3   gz         21400 non-null  float64       \n",
      " 4   label      21400 non-null  object        \n",
      " 5   time       21400 non-null  datetime64[ns]\n",
      " 6   heartbeat  21400 non-null  int64         \n",
      " 7   temp       21400 non-null  float64       \n",
      " 8   no         21400 non-null  int64         \n",
      "dtypes: datetime64[ns](1), float64(4), int64(3), object(1)\n",
      "memory usage: 1.5+ MB\n"
     ]
    }
   ],
   "source": [
    "data.info()"
   ],
   "metadata": {
    "collapsed": false,
    "ExecuteTime": {
     "end_time": "2023-06-15T05:55:43.455281600Z",
     "start_time": "2023-06-15T05:55:43.392690600Z"
    }
   }
  },
  {
   "cell_type": "code",
   "execution_count": 7,
   "outputs": [
    {
     "name": "stdout",
     "output_type": "stream",
     "text": [
      "Updated data:\n",
      "       userCode        gx         gy        gz                    time   \n",
      "0             2  0.976562  -9.582520  4.211426 1900-01-01 00:00:00.000  \\\n",
      "1             2 -2.990723 -12.451172  3.540039 1900-01-01 00:00:00.100   \n",
      "2             2  0.183105   1.342773 -1.037598 1900-01-01 00:00:00.200   \n",
      "3             2 -1.525879   2.197266 -4.943848 1900-01-01 00:00:00.300   \n",
      "4             2  5.004883 -17.272949 -4.638672 1900-01-01 00:00:00.400   \n",
      "...         ...       ...        ...       ...                     ...   \n",
      "21395         2  3.662109   0.488281 -0.549316 1900-01-01 00:35:39.500   \n",
      "21396         2  2.868652   0.671387 -0.488281 1900-01-01 00:35:39.600   \n",
      "21397         2  1.770020   0.427246 -0.671387 1900-01-01 00:35:39.700   \n",
      "21398         2  1.647949   1.525879 -0.793457 1900-01-01 00:35:39.800   \n",
      "21399         2  0.854492   1.770020 -0.915527 1900-01-01 00:35:39.900   \n",
      "\n",
      "       heartbeat  temp     no  \n",
      "0             85  36.5      1  \n",
      "1             85  36.5      2  \n",
      "2             85  36.5      3  \n",
      "3             85  36.5      4  \n",
      "4             85  36.5      5  \n",
      "...          ...   ...    ...  \n",
      "21395         86  36.7  21396  \n",
      "21396         86  36.7  21397  \n",
      "21397         86  36.7  21398  \n",
      "21398         86  36.7  21399  \n",
      "21399         86  36.7  21400  \n",
      "\n",
      "[21400 rows x 8 columns]\n"
     ]
    }
   ],
   "source": [
    "data.drop('label', axis=1, inplace=True)\n",
    "# 업데이트된 데이터 프레임 확인\n",
    "print(\"Updated data:\")\n",
    "print(data)"
   ],
   "metadata": {
    "collapsed": false,
    "ExecuteTime": {
     "end_time": "2023-06-15T05:57:03.462926900Z",
     "start_time": "2023-06-15T05:57:03.447293700Z"
    }
   }
  },
  {
   "cell_type": "code",
   "execution_count": 8,
   "outputs": [
    {
     "name": "stdout",
     "output_type": "stream",
     "text": [
      "<class 'pandas.core.frame.DataFrame'>\n",
      "RangeIndex: 21400 entries, 0 to 21399\n",
      "Data columns (total 8 columns):\n",
      " #   Column     Non-Null Count  Dtype         \n",
      "---  ------     --------------  -----         \n",
      " 0   userCode   21400 non-null  int64         \n",
      " 1   gx         21400 non-null  float64       \n",
      " 2   gy         21400 non-null  float64       \n",
      " 3   gz         21400 non-null  float64       \n",
      " 4   time       21400 non-null  datetime64[ns]\n",
      " 5   heartbeat  21400 non-null  int64         \n",
      " 6   temp       21400 non-null  float64       \n",
      " 7   no         21400 non-null  int64         \n",
      "dtypes: datetime64[ns](1), float64(4), int64(3)\n",
      "memory usage: 1.3 MB\n"
     ]
    }
   ],
   "source": [
    "data.info()"
   ],
   "metadata": {
    "collapsed": false,
    "ExecuteTime": {
     "end_time": "2023-06-15T05:57:47.725787300Z",
     "start_time": "2023-06-15T05:57:47.708088800Z"
    }
   }
  },
  {
   "cell_type": "code",
   "execution_count": 11,
   "outputs": [],
   "source": [
    "data.to_csv('../data/final_userCode2time.csv', index=False)"
   ],
   "metadata": {
    "collapsed": false,
    "ExecuteTime": {
     "end_time": "2023-06-15T05:59:30.862785600Z",
     "start_time": "2023-06-15T05:59:30.737536600Z"
    }
   }
  },
  {
   "cell_type": "code",
   "execution_count": null,
   "outputs": [],
   "source": [],
   "metadata": {
    "collapsed": false
   }
  }
 ],
 "metadata": {
  "kernelspec": {
   "display_name": "Python 3",
   "language": "python",
   "name": "python3"
  },
  "language_info": {
   "codemirror_mode": {
    "name": "ipython",
    "version": 2
   },
   "file_extension": ".py",
   "mimetype": "text/x-python",
   "name": "python",
   "nbconvert_exporter": "python",
   "pygments_lexer": "ipython2",
   "version": "2.7.6"
  }
 },
 "nbformat": 4,
 "nbformat_minor": 0
}
