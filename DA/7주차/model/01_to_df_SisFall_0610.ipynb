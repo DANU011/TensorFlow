{
 "cells": [
  {
   "cell_type": "code",
   "execution_count": 1,
   "outputs": [
    {
     "name": "stdout",
     "output_type": "stream",
     "text": [
      "       user_ID trial_ID task_ID         gx         gy         gz   \n",
      "0         SA01      R01     D01  -1.098633 -30.761719 -21.484375  \\\n",
      "1         SA01      R01     D01 -10.864258 -46.752930  -3.173828   \n",
      "2         SA01      R01     D01  31.860352 -22.216797   8.056641   \n",
      "3         SA01      R01     D01   2.624512 -11.352539  29.052734   \n",
      "4         SA01      R01     D01   7.263184  15.869141  26.184082   \n",
      "...        ...      ...     ...        ...        ...        ...   \n",
      "225397    SE14      R06     D07  -3.479004   2.563477  -0.061035   \n",
      "225398    SE14      R06     D07  -2.197266   3.234863   0.488281   \n",
      "225399    SE14      R06     D07  -4.394531   2.990723   0.549316   \n",
      "225400    SE14      R06     D07  -2.746582   2.563477   0.000000   \n",
      "225401    SE14      R06     D07  -4.028320   2.258301   0.122070   \n",
      "\n",
      "                   label  \n",
      "0                walking  \n",
      "1                walking  \n",
      "2                walking  \n",
      "3                walking  \n",
      "4                walking  \n",
      "...                  ...  \n",
      "225397  standing-sitting  \n",
      "225398  standing-sitting  \n",
      "225399  standing-sitting  \n",
      "225400  standing-sitting  \n",
      "225401  standing-sitting  \n",
      "\n",
      "[225402 rows x 7 columns]\n"
     ]
    }
   ],
   "source": [
    "import os\n",
    "import pandas as pd\n",
    "\n",
    "# DataFrame 초기화\n",
    "df = pd.DataFrame(columns=['user_ID', 'trial_ID', 'task_ID', 'gx', 'gy', 'gz', 'label'])\n",
    "\n",
    "# task_id와 매핑되는 label 정보 생성\n",
    "label_mapping = {\n",
    "    'D01': 'walking',\n",
    "    'D04': 'jogging',\n",
    "    'D05': 'stairs_walking',\n",
    "    'D07': 'standing-sitting',\n",
    "    'F06': 'fall'\n",
    "}\n",
    "\n",
    "# 데이터 폴더 경로\n",
    "data_folder = '../data/SisFall_dataset'\n",
    "\n",
    "# 폴더 내의 파일들을 확인하고 처리\n",
    "record_count = 0  # 전체 파일에서의 레코드 개수\n",
    "for root, dirs, files in os.walk(data_folder):\n",
    "    for dir_name in dirs:\n",
    "        dir_path = os.path.join(root, dir_name)\n",
    "        user_ID = dir_name\n",
    "\n",
    "        # user_ID가 'SA' 또는 'SE'로 시작하고 뒤에 오는 숫자가 5의 배수인 경우 건너뛰기\n",
    "        if user_ID.startswith('SA') or user_ID.startswith('SE'):\n",
    "            numeric_part = user_ID[2:]\n",
    "            if numeric_part.isdigit() and int(numeric_part) % 3 == 0:\n",
    "                continue\n",
    "\n",
    "        for file_name in os.listdir(dir_path):\n",
    "            if file_name.endswith('.txt'):\n",
    "                # 파일 경로\n",
    "                file_path = os.path.join(dir_path, file_name)\n",
    "\n",
    "                # 파일 이름에 대한 정보\n",
    "                activity, _, trial_ID_with_extension = file_name.split('_')\n",
    "                trial_ID = trial_ID_with_extension[:-4]  # .txt 제거\n",
    "\n",
    "                # task_id가 D01, D04, D05, D07, F05, F06인 경우에만 처리\n",
    "                if activity in ['D01', 'D04', 'D05', 'D07', 'F06']:\n",
    "                    # task_id에 해당하는 label 정보\n",
    "                    task_ID = activity\n",
    "                    label = label_mapping[task_ID]\n",
    "\n",
    "                    #Angular velocity 변환을 위한 공식에 사용되는 값들\n",
    "                    Range = 2000  # 예시 값을 사용\n",
    "                    Resolution = 16  # 예시 값을 사용\n",
    "\n",
    "                    # 파일에서 데이터를 읽어와서 처리\n",
    "                    with open(file_path, 'r', encoding='utf-8') as file:\n",
    "                        lines = file.readlines()\n",
    "\n",
    "                    # 데이터 파싱 및 계산\n",
    "                    gx_values = []\n",
    "                    gy_values = []\n",
    "                    gz_values = []\n",
    "\n",
    "                    # 데이터 파싱 및 DataFrame에 추가\n",
    "                    for i, line in enumerate(lines):\n",
    "                        if i % 10 == 0:  # 10의 배수인 행만 처리\n",
    "                            # 쉼표를 기준으로 줄을 분리하여 필드의 값을 가져오기\n",
    "                            fields = line.strip().split(',')\n",
    "\n",
    "                            if len(fields) >= 6:  # 필드 수 확인\n",
    "                                # gx, gy, gz 값 얻기 및 변환 계산\n",
    "                                gx_value = (2 * Range / (2 ** Resolution)) * float(fields[3])\n",
    "                                gy_value = (2 * Range / (2 ** Resolution)) * float(fields[4])\n",
    "                                gz_value = (2 * Range / (2 ** Resolution)) * float(fields[5])\n",
    "\n",
    "                                gx_values.append(gx_value)\n",
    "                                gy_values.append(gy_value)\n",
    "                                gz_values.append(gz_value)\n",
    "\n",
    "                                if len(gx_values) == 1:\n",
    "                                    # 한 줄의 레코드 처리가 완료되었으므로 DataFrame에 추가\n",
    "                                    df.loc[len(df)] = {\n",
    "                                        'user_ID': user_ID,\n",
    "                                        'trial_ID': trial_ID,\n",
    "                                        'task_ID': task_ID,\n",
    "                                        'gx': gx_values[0],\n",
    "                                        'gy': gy_values[0],\n",
    "                                        'gz': gz_values[0],\n",
    "                                        'label': label\n",
    "                                    }\n",
    "                                    record_count += 1\n",
    "                                    gx_values = []\n",
    "                                    gy_values = []\n",
    "                                    gz_values = []\n",
    "\n",
    "print(df)"
   ],
   "metadata": {
    "collapsed": false,
    "ExecuteTime": {
     "end_time": "2023-06-11T03:09:32.950640500Z",
     "start_time": "2023-06-11T02:47:41.912164600Z"
    }
   }
  },
  {
   "cell_type": "code",
   "execution_count": 2,
   "outputs": [
    {
     "name": "stdout",
     "output_type": "stream",
     "text": [
      "['SA01' 'SA02' 'SA04' 'SA05' 'SA07' 'SA08' 'SA10' 'SA11' 'SA13' 'SA14'\n",
      " 'SA16' 'SA17' 'SA19' 'SA20' 'SA22' 'SA23' 'SE01' 'SE02' 'SE04' 'SE05'\n",
      " 'SE07' 'SE08' 'SE10' 'SE11' 'SE13' 'SE14']\n"
     ]
    }
   ],
   "source": [
    "print(df['user_ID'].unique())"
   ],
   "metadata": {
    "collapsed": false,
    "ExecuteTime": {
     "end_time": "2023-06-11T03:25:10.184010Z",
     "start_time": "2023-06-11T03:25:10.169050500Z"
    }
   }
  },
  {
   "cell_type": "code",
   "execution_count": 13,
   "outputs": [
    {
     "name": "stdout",
     "output_type": "stream",
     "text": [
      "  user_ID trial_ID task_ID         gx         gy         gz    label   \n",
      "0    SA01      R01     D01  -1.098633 -30.761719 -21.484375  walking  \\\n",
      "1    SA01      R01     D01 -10.864258 -46.752930  -3.173828  walking   \n",
      "2    SA01      R01     D01  31.860352 -22.216797   8.056641  walking   \n",
      "3    SA01      R01     D01   2.624512 -11.352539  29.052734  walking   \n",
      "4    SA01      R01     D01   7.263184  15.869141  26.184082  walking   \n",
      "\n",
      "   scaled_gx  scaled_gy  scaled_gz  \n",
      "0   0.090285   0.010843   0.042287  \n",
      "1   0.077513  -0.010123   0.066825  \n",
      "2   0.133392   0.022046   0.081875  \n",
      "3   0.095154   0.036290   0.110011  \n",
      "4   0.101221   0.071980   0.106167  \n"
     ]
    }
   ],
   "source": [
    "# from sklearn.preprocessing import MinMaxScaler\n",
    "#\n",
    "# # MinMaxScaler 인스턴스 생성\n",
    "# scaler = MinMaxScaler(feature_range=(-1, 1))\n",
    "#\n",
    "# # 'gx', 'gy', 'gz' 열의 데이터 추출\n",
    "# data = df[['gx', 'gy', 'gz']].values\n",
    "#\n",
    "# # 데이터 스케일링\n",
    "# scaled_data = scaler.fit_transform(data)\n",
    "#\n",
    "# # 스케일링된 값을 새로운 열에 저장\n",
    "# df['scaled_gx'] = scaled_data[:, 0]\n",
    "# df['scaled_gy'] = scaled_data[:, 1]\n",
    "# df['scaled_gz'] = scaled_data[:, 2]\n",
    "#\n",
    "# print(df.head())"
   ],
   "metadata": {
    "collapsed": false,
    "ExecuteTime": {
     "end_time": "2023-06-10T05:53:38.439023400Z",
     "start_time": "2023-06-10T05:53:38.410084200Z"
    }
   }
  },
  {
   "cell_type": "code",
   "execution_count": 3,
   "outputs": [
    {
     "name": "stdout",
     "output_type": "stream",
     "text": [
      "CSV 파일이 저장되었습니다: ../data/SisFall_train.csv\n"
     ]
    }
   ],
   "source": [
    "# CSV 파일로 저장\n",
    "csv_path = '../data/SisFall_train.csv'\n",
    "df.to_csv(csv_path, index=False)\n",
    "print('CSV 파일이 저장되었습니다:', csv_path)"
   ],
   "metadata": {
    "collapsed": false,
    "ExecuteTime": {
     "end_time": "2023-06-11T03:25:18.076723300Z",
     "start_time": "2023-06-11T03:25:17.025445400Z"
    }
   }
  },
  {
   "cell_type": "code",
   "execution_count": 4,
   "outputs": [
    {
     "name": "stdout",
     "output_type": "stream",
     "text": [
      "      user_ID trial_ID task_ID        gx         gy        gz   \n",
      "0        SA05      R01     D01  0.183105 -25.634766 -7.934570  \\\n",
      "1        SA05      R01     D01 -1.831055 -17.944336 -8.178711   \n",
      "2        SA05      R01     D01 -5.065918 -12.817383 -5.981445   \n",
      "3        SA05      R01     D01 -2.624512  -8.361816 -6.103516   \n",
      "4        SA05      R01     D01 -3.601074  -9.399414 -1.586914   \n",
      "...       ...      ...     ...       ...        ...       ...   \n",
      "57896    SE15      R05     D07 -1.281738   3.601074 -0.366211   \n",
      "57897    SE15      R05     D07 -1.586914   3.295898 -0.610352   \n",
      "57898    SE15      R05     D07 -1.586914   3.173828 -0.915527   \n",
      "57899    SE15      R05     D07 -1.525879   2.868652 -0.976562   \n",
      "57900    SE15      R05     D07 -1.281738   3.051758 -0.915527   \n",
      "\n",
      "                  label  \n",
      "0               walking  \n",
      "1               walking  \n",
      "2               walking  \n",
      "3               walking  \n",
      "4               walking  \n",
      "...                 ...  \n",
      "57896  standing-sitting  \n",
      "57897  standing-sitting  \n",
      "57898  standing-sitting  \n",
      "57899  standing-sitting  \n",
      "57900  standing-sitting  \n",
      "\n",
      "[57901 rows x 7 columns]\n"
     ]
    }
   ],
   "source": [
    "import os\n",
    "import pandas as pd\n",
    "\n",
    "# DataFrame 초기화\n",
    "df = pd.DataFrame(columns=['user_ID', 'trial_ID', 'task_ID', 'gx', 'gy', 'gz', 'label'])\n",
    "\n",
    "# task_id와 매핑되는 label 정보 생성\n",
    "label_mapping = {\n",
    "    'D01': 'walking',\n",
    "    'D04': 'jogging',\n",
    "    'D05': 'stairs_walking',\n",
    "    'D07': 'standing-sitting',\n",
    "    'F06': 'fall'\n",
    "}\n",
    "\n",
    "# 데이터 폴더 경로\n",
    "data_folder = '../data/SisFall_dataset'\n",
    "\n",
    "# 폴더 내의 파일들을 확인하고 처리\n",
    "record_count = 0  # 전체 파일에서의 레코드 개수\n",
    "for root, dirs, files in os.walk(data_folder):\n",
    "    for dir_name in dirs:\n",
    "        dir_path = os.path.join(root, dir_name)\n",
    "        user_ID = dir_name\n",
    "\n",
    "        # user_ID가 'SA' 또는 'SE'로 시작하고 뒤에 오는 숫자가 5의 배수인 경우에만 처리\n",
    "        if (user_ID.startswith('SA') or user_ID.startswith('SE')) and user_ID[2:].isdigit() and int(user_ID[2:]) % 5 == 0:\n",
    "            for file_name in os.listdir(dir_path):\n",
    "                if file_name.endswith('.txt'):\n",
    "                    # 파일 경로\n",
    "                    file_path = os.path.join(dir_path, file_name)\n",
    "\n",
    "                    # 파일 이름에 대한 정보\n",
    "                    activity, _, trial_ID_with_extension = file_name.split('_')\n",
    "                    trial_ID = trial_ID_with_extension[:-4]  # .txt 제거\n",
    "\n",
    "                    # task_id가 D01, D04, D05, D07, F05, F06인 경우에만 처리\n",
    "                    if activity in ['D01', 'D04', 'D05', 'D07', 'F06']:\n",
    "                        # task_id에 해당하는 label 정보\n",
    "                        task_ID = activity\n",
    "                        label = label_mapping[task_ID]\n",
    "\n",
    "                        # Angular velocity 변환을 위한 공식에 사용되는 값들\n",
    "                        Range = 2000  # 예시 값을 사용\n",
    "                        Resolution = 16  # 예시 값을 사용\n",
    "\n",
    "                        # 파일에서 데이터를 읽어와서 처리\n",
    "                        with open(file_path, 'r', encoding='utf-8') as file:\n",
    "                            lines = file.readlines()\n",
    "\n",
    "                        # 데이터 파싱 및 계산\n",
    "                        gx_values = []\n",
    "                        gy_values = []\n",
    "                        gz_values = []\n",
    "\n",
    "                        # 데이터 파싱 및 DataFrame에 추가\n",
    "                        for i, line in enumerate(lines):\n",
    "                            if i % 10 == 0:  # 10의 배수인 행만 처리\n",
    "                                # 쉼표를 기준으로 줄을 분리하여 필드의 값을 가져오기\n",
    "                                fields = line.strip().split(',')\n",
    "\n",
    "                                if len(fields) >= 6:  # 필드 수 확인\n",
    "                                    # gx, gy, gz 값 얻기 및 변환 계산\n",
    "                                    gx_value = (2 * Range / (2 ** Resolution)) * float(fields[3])\n",
    "                                    gy_value = (2 * Range / (2 ** Resolution)) * float(fields[4])\n",
    "                                    gz_value = (2 * Range / (2 ** Resolution)) * float(fields[5])\n",
    "\n",
    "                                    gx_values.append(gx_value)\n",
    "                                    gy_values.append(gy_value)\n",
    "                                    gz_values.append(gz_value)\n",
    "\n",
    "                                    if len(gx_values) == 1:\n",
    "                                        # 한 줄의 레코드 처리가 완료되었으므로 DataFrame에 추가\n",
    "                                        df.loc[len(df)] = {\n",
    "                                            'user_ID': user_ID,\n",
    "                                            'trial_ID': trial_ID,\n",
    "                                            'task_ID': task_ID,\n",
    "                                            'gx': gx_values[0],\n",
    "                                            'gy': gy_values[0],\n",
    "                                            'gz': gz_values[0],\n",
    "                                            'label': label\n",
    "                                        }\n",
    "                                        record_count += 1\n",
    "                                        gx_values = []\n",
    "                                        gy_values = []\n",
    "                                        gz_values = []\n",
    "\n",
    "print(df)"
   ],
   "metadata": {
    "collapsed": false,
    "ExecuteTime": {
     "end_time": "2023-06-11T03:26:59.492468800Z",
     "start_time": "2023-06-11T03:25:22.670580600Z"
    }
   }
  },
  {
   "cell_type": "code",
   "execution_count": 5,
   "outputs": [
    {
     "name": "stdout",
     "output_type": "stream",
     "text": [
      "['SA05' 'SA10' 'SA15' 'SA20' 'SE05' 'SE10' 'SE15']\n"
     ]
    }
   ],
   "source": [
    "print(df['user_ID'].unique())"
   ],
   "metadata": {
    "collapsed": false,
    "ExecuteTime": {
     "end_time": "2023-06-11T03:30:01.528780200Z",
     "start_time": "2023-06-11T03:30:01.507656900Z"
    }
   }
  },
  {
   "cell_type": "code",
   "execution_count": 17,
   "outputs": [
    {
     "name": "stdout",
     "output_type": "stream",
     "text": [
      "  user_ID trial_ID task_ID        gx         gy        gz    label  scaled_gx   \n",
      "0    SA05      R01     D01  0.183105 -25.634766 -7.934570  walking   0.275431  \\\n",
      "1    SA05      R01     D01 -1.831055 -17.944336 -8.178711  walking   0.272354   \n",
      "2    SA05      R01     D01 -5.065918 -12.817383 -5.981445  walking   0.267413   \n",
      "3    SA05      R01     D01 -2.624512  -8.361816 -6.103516  walking   0.271142   \n",
      "4    SA05      R01     D01 -3.601074  -9.399414 -1.586914  walking   0.269650   \n",
      "\n",
      "   scaled_gy  scaled_gz  \n",
      "0  -0.145182  -0.014948  \n",
      "1  -0.122401  -0.015715  \n",
      "2  -0.107214  -0.008816  \n",
      "3  -0.094016  -0.009199  \n",
      "4  -0.097089   0.004983  \n"
     ]
    }
   ],
   "source": [
    "# from sklearn.preprocessing import MinMaxScaler\n",
    "#\n",
    "# # MinMaxScaler 인스턴스 생성\n",
    "# scaler = MinMaxScaler(feature_range=(-1, 1))\n",
    "#\n",
    "# # 'gx', 'gy', 'gz' 열의 데이터 추출\n",
    "# data = df[['gx', 'gy', 'gz']].values\n",
    "#\n",
    "# # 데이터 스케일링\n",
    "# scaled_data = scaler.fit_transform(data)\n",
    "#\n",
    "# # 스케일링된 값을 새로운 열에 저장\n",
    "# df['scaled_gx'] = scaled_data[:, 0]\n",
    "# df['scaled_gy'] = scaled_data[:, 1]\n",
    "# df['scaled_gz'] = scaled_data[:, 2]\n",
    "#\n",
    "# print(df.head())"
   ],
   "metadata": {
    "collapsed": false,
    "ExecuteTime": {
     "end_time": "2023-06-10T05:55:15.401466Z",
     "start_time": "2023-06-10T05:55:15.357559900Z"
    }
   }
  },
  {
   "cell_type": "code",
   "execution_count": 6,
   "outputs": [
    {
     "name": "stdout",
     "output_type": "stream",
     "text": [
      "CSV 파일이 저장되었습니다: ../data/SisFall_test.csv\n"
     ]
    }
   ],
   "source": [
    "# CSV 파일로 저장\n",
    "csv_path = '../data/SisFall_test.csv'\n",
    "df.to_csv(csv_path, index=False)\n",
    "print('CSV 파일이 저장되었습니다:', csv_path)"
   ],
   "metadata": {
    "collapsed": false,
    "ExecuteTime": {
     "end_time": "2023-06-11T03:30:05.423659100Z",
     "start_time": "2023-06-11T03:30:05.200512900Z"
    }
   }
  },
  {
   "cell_type": "code",
   "execution_count": 19,
   "outputs": [
    {
     "name": "stdout",
     "output_type": "stream",
     "text": [
      "       user_ID trial_ID task_ID         gx         gy         gz     label\n",
      "0         SA01      R01     D01  -1.098633 -30.761719 -21.484375   walking\n",
      "1         SA01      R01     D01 -10.864258 -46.752930  -3.173828   walking\n",
      "2         SA01      R01     D01  31.860352 -22.216797   8.056641   walking\n",
      "3         SA01      R01     D01   2.624512 -11.352539  29.052734   walking\n",
      "4         SA01      R01     D01   7.263184  15.869141  26.184082   walking\n",
      "...        ...      ...     ...        ...        ...        ...       ...\n",
      "331797    SE15      R05     D07  -1.281738   3.601074  -0.366211  standing\n",
      "331798    SE15      R05     D07  -1.586914   3.295898  -0.610352  standing\n",
      "331799    SE15      R05     D07  -1.586914   3.173828  -0.915527  standing\n",
      "331800    SE15      R05     D07  -1.525879   2.868652  -0.976562  standing\n",
      "331801    SE15      R05     D07  -1.281738   3.051758  -0.915527  standing\n",
      "\n",
      "[331802 rows x 7 columns]\n"
     ]
    }
   ],
   "source": [
    "import os\n",
    "import pandas as pd\n",
    "\n",
    "# DataFrame 초기화\n",
    "df = pd.DataFrame(columns=['user_ID', 'trial_ID', 'task_ID', 'gx', 'gy', 'gz', 'label'])\n",
    "\n",
    "# task_id와 매핑되는 label 정보 생성\n",
    "label_mapping = {\n",
    "    'D01': 'walking',\n",
    "    'D03': 'jogging',\n",
    "    'D05': 'stairs_walking',\n",
    "    'D07': 'standing',\n",
    "    'F06': 'fall'\n",
    "}\n",
    "\n",
    "# 데이터 폴더 경로\n",
    "data_folder = \"../data/SisFall_dataset\"\n",
    "\n",
    "# 폴더 내의 파일들을 확인하고 처리\n",
    "record_count = 0  # 전체 파일에서의 레코드 개수\n",
    "for root, dirs, files in os.walk(data_folder):\n",
    "    for dir_name in dirs:\n",
    "        dir_path = os.path.join(root, dir_name)\n",
    "        user_ID = dir_name\n",
    "\n",
    "        for file_name in os.listdir(dir_path):\n",
    "            if file_name.endswith(\".txt\"):\n",
    "                # 파일 경로\n",
    "                file_path = os.path.join(dir_path, file_name)\n",
    "\n",
    "                # 파일 이름에 대한 정보\n",
    "                activity, _, trial_ID_with_extension = file_name.split('_')\n",
    "                trial_ID = trial_ID_with_extension[:-4]  # .txt 제거\n",
    "\n",
    "                # task_id가 D01, D03, D05, D07, F06인 경우에만 처리\n",
    "                if activity in ['D01', 'D03', 'D05', 'D07', 'F06']:\n",
    "                    # task_id에 해당하는 label 정보\n",
    "                    task_ID = activity\n",
    "                    label = label_mapping[task_ID]\n",
    "\n",
    "                    #Angular velocity 변환을 위한 공식에 사용되는 값들\n",
    "                    Range = 2000  # 예시 값을 사용\n",
    "                    Resolution = 16  # 예시 값을 사용\n",
    "\n",
    "                    # 파일에서 데이터를 읽어와서 처리\n",
    "                    with open(file_path, 'r', encoding='utf-8') as file:\n",
    "                        lines = file.readlines()\n",
    "\n",
    "                    # 데이터 파싱 및 계산\n",
    "                    gx_values = []\n",
    "                    gy_values = []\n",
    "                    gz_values = []\n",
    "\n",
    "                    # 데이터 파싱 및 DataFrame에 추가\n",
    "                    for i, line in enumerate(lines):\n",
    "                        if i % 10 == 0:  # 1, 11, 21, 31번째 행만 처리\n",
    "                            # 쉼표를 기준으로 줄을 분리하여 필드의 값을 가져오기\n",
    "                            fields = line.strip().split(',')\n",
    "\n",
    "                            if len(fields) >= 6:  # 필드 수 확인\n",
    "                                # gx, gy, gz 값 얻기 및 변환 계산\n",
    "                                gx_value = (2 * Range / (2 ** Resolution)) * float(fields[3])\n",
    "                                gy_value = (2 * Range / (2 ** Resolution)) * float(fields[4])\n",
    "                                gz_value = (2 * Range / (2 ** Resolution)) * float(fields[5])\n",
    "\n",
    "                                gx_values.append(gx_value)\n",
    "                                gy_values.append(gy_value)\n",
    "                                gz_values.append(gz_value)\n",
    "\n",
    "                                if len(gx_values) == 1:\n",
    "                                    # 한 줄의 레코드 처리가 완료되었으므로 DataFrame에 추가\n",
    "                                    df.loc[len(df)] = {\n",
    "                                        'user_ID': user_ID,\n",
    "                                        'trial_ID': trial_ID,\n",
    "                                        'task_ID': task_ID,\n",
    "                                        'gx': gx_values[0],\n",
    "                                        'gy': gy_values[0],\n",
    "                                        'gz': gz_values[0],\n",
    "                                        'label': label\n",
    "                                    }\n",
    "                                    record_count += 1\n",
    "                                    gx_values = []\n",
    "                                    gy_values = []\n",
    "                                    gz_values = []\n",
    "\n",
    "print(df)"
   ],
   "metadata": {
    "collapsed": false,
    "ExecuteTime": {
     "end_time": "2023-06-10T07:13:45.832325300Z",
     "start_time": "2023-06-10T06:27:33.678589900Z"
    }
   }
  },
  {
   "cell_type": "code",
   "execution_count": 20,
   "outputs": [
    {
     "name": "stdout",
     "output_type": "stream",
     "text": [
      "  user_ID trial_ID task_ID         gx         gy         gz    label   \n",
      "0    SA01      R01     D01  -1.098633 -30.761719 -21.484375  walking  \\\n",
      "1    SA01      R01     D01 -10.864258 -46.752930  -3.173828  walking   \n",
      "2    SA01      R01     D01  31.860352 -22.216797   8.056641  walking   \n",
      "3    SA01      R01     D01   2.624512 -11.352539  29.052734  walking   \n",
      "4    SA01      R01     D01   7.263184  15.869141  26.184082  walking   \n",
      "\n",
      "   scaled_gx  scaled_gy  scaled_gz  \n",
      "0   0.015592   0.010843   0.042287  \n",
      "1   0.001771  -0.010123   0.066825  \n",
      "2   0.062238   0.022046   0.081875  \n",
      "3   0.020861   0.036290   0.110011  \n",
      "4   0.027426   0.071980   0.106167  \n"
     ]
    }
   ],
   "source": [
    "from sklearn.preprocessing import MinMaxScaler\n",
    "\n",
    "# MinMaxScaler 인스턴스 생성\n",
    "scaler = MinMaxScaler(feature_range=(-1, 1))\n",
    "\n",
    "# 'gx', 'gy', 'gz' 열의 데이터 추출\n",
    "data = df[['gx', 'gy', 'gz']].values\n",
    "\n",
    "# 데이터 스케일링\n",
    "scaled_data = scaler.fit_transform(data)\n",
    "\n",
    "# 스케일링된 값을 새로운 열에 저장\n",
    "df['scaled_gx'] = scaled_data[:, 0]\n",
    "df['scaled_gy'] = scaled_data[:, 1]\n",
    "df['scaled_gz'] = scaled_data[:, 2]\n",
    "\n",
    "print(df.head())"
   ],
   "metadata": {
    "collapsed": false,
    "ExecuteTime": {
     "end_time": "2023-06-10T07:14:51.893004100Z",
     "start_time": "2023-06-10T07:14:51.862061500Z"
    }
   }
  },
  {
   "cell_type": "code",
   "execution_count": 21,
   "outputs": [
    {
     "name": "stdout",
     "output_type": "stream",
     "text": [
      "CSV 파일이 저장되었습니다: ../data/SisFall_train.csv\n"
     ]
    }
   ],
   "source": [
    "# CSV 파일로 저장\n",
    "csv_path = '../data/SisFall_train.csv'\n",
    "df.to_csv(csv_path, index=False)\n",
    "print('CSV 파일이 저장되었습니다:', csv_path)"
   ],
   "metadata": {
    "collapsed": false,
    "ExecuteTime": {
     "end_time": "2023-06-10T07:15:17.721845Z",
     "start_time": "2023-06-10T07:15:15.492526700Z"
    }
   }
  },
  {
   "cell_type": "code",
   "execution_count": null,
   "outputs": [],
   "source": [
    "import os\n",
    "import pandas as pd\n",
    "\n",
    "# DataFrame 초기화\n",
    "df = pd.DataFrame(columns=['user_ID', 'trial_ID', 'task_ID', 'gx', 'gy', 'gz', 'label'])\n",
    "\n",
    "# task_id와 매핑되는 label 정보 생성\n",
    "label_mapping = {\n",
    "    'D01': 'walking',\n",
    "    'D03': 'jogging',\n",
    "    'D05': 'stairs_walking',\n",
    "    'D07': 'standing',\n",
    "    'F06': 'fall'\n",
    "}\n",
    "\n",
    "# 데이터 폴더 경로\n",
    "data_folder = \"../data/SisFall_dataset\"\n",
    "\n",
    "# 폴더 내의 파일들을 확인하고 처리\n",
    "record_count = 0  # 전체 파일에서의 레코드 개수\n",
    "for root, dirs, files in os.walk(data_folder):\n",
    "    for dir_name in dirs:\n",
    "        dir_path = os.path.join(root, dir_name)\n",
    "        user_ID = dir_name\n",
    "\n",
    "        for file_name in os.listdir(dir_path):\n",
    "            if file_name.endswith(\".txt\"):\n",
    "                # 파일 경로\n",
    "                file_path = os.path.join(dir_path, file_name)\n",
    "\n",
    "                # 파일 이름에 대한 정보\n",
    "                activity, _, trial_ID_with_extension = file_name.split('_')\n",
    "                trial_ID = trial_ID_with_extension[:-4]  # .txt 제거\n",
    "\n",
    "                # task_id가 D01, D03, D05, D07, F06인 경우에만 처리\n",
    "                if activity in ['D01', 'D03', 'D05', 'D07', 'F06']:\n",
    "                    # task_id에 해당하는 label 정보\n",
    "                    task_ID = activity\n",
    "                    label = label_mapping[task_ID]\n",
    "\n",
    "                    #Angular velocity 변환을 위한 공식에 사용되는 값들\n",
    "                    Range = 2000  # 예시 값을 사용\n",
    "                    Resolution = 16  # 예시 값을 사용\n",
    "\n",
    "                    # 파일에서 데이터를 읽어와서 처리\n",
    "                    with open(file_path, 'r', encoding='utf-8') as file:\n",
    "                        lines = file.readlines()\n",
    "\n",
    "                    # 데이터 파싱 및 계산\n",
    "                    gx_values = []\n",
    "                    gy_values = []\n",
    "                    gz_values = []\n",
    "\n",
    "                    # 데이터 파싱 및 DataFrame에 추가\n",
    "                    for i, line in enumerate(lines):\n",
    "                        if i % 10 == 3:\n",
    "                            # 쉼표를 기준으로 줄을 분리하여 필드의 값을 가져오기\n",
    "                            fields = line.strip().split(',')\n",
    "\n",
    "                            if len(fields) >= 6:  # 필드 수 확인\n",
    "                                # gx, gy, gz 값 얻기 및 변환 계산\n",
    "                                gx_value = (2 * Range / (2 ** Resolution)) * float(fields[3])\n",
    "                                gy_value = (2 * Range / (2 ** Resolution)) * float(fields[4])\n",
    "                                gz_value = (2 * Range / (2 ** Resolution)) * float(fields[5])\n",
    "\n",
    "                                gx_values.append(gx_value)\n",
    "                                gy_values.append(gy_value)\n",
    "                                gz_values.append(gz_value)\n",
    "\n",
    "                                if len(gx_values) == 1:\n",
    "                                    # 한 줄의 레코드 처리가 완료되었으므로 DataFrame에 추가\n",
    "                                    df.loc[len(df)] = {\n",
    "                                        'user_ID': user_ID,\n",
    "                                        'trial_ID': trial_ID,\n",
    "                                        'task_ID': task_ID,\n",
    "                                        'gx': gx_values[0],\n",
    "                                        'gy': gy_values[0],\n",
    "                                        'gz': gz_values[0],\n",
    "                                        'label': label\n",
    "                                    }\n",
    "                                    record_count += 1\n",
    "                                    gx_values = []\n",
    "                                    gy_values = []\n",
    "                                    gz_values = []\n",
    "\n",
    "print(df)"
   ],
   "metadata": {
    "collapsed": false,
    "is_executing": true,
    "ExecuteTime": {
     "start_time": "2023-06-10T07:16:32.977722Z"
    }
   }
  },
  {
   "cell_type": "code",
   "execution_count": null,
   "outputs": [],
   "source": [
    "from sklearn.preprocessing import MinMaxScaler\n",
    "\n",
    "# MinMaxScaler 인스턴스 생성\n",
    "scaler = MinMaxScaler(feature_range=(-1, 1))\n",
    "\n",
    "# 'gx', 'gy', 'gz' 열의 데이터 추출\n",
    "data = df[['gx', 'gy', 'gz']].values\n",
    "\n",
    "# 데이터 스케일링\n",
    "scaled_data = scaler.fit_transform(data)\n",
    "\n",
    "# 스케일링된 값을 새로운 열에 저장\n",
    "df['scaled_gx'] = scaled_data[:, 0]\n",
    "df['scaled_gy'] = scaled_data[:, 1]\n",
    "df['scaled_gz'] = scaled_data[:, 2]\n",
    "\n",
    "print(df.head())"
   ],
   "metadata": {
    "collapsed": false
   }
  }
 ],
 "metadata": {
  "kernelspec": {
   "display_name": "Python 3",
   "language": "python",
   "name": "python3"
  },
  "language_info": {
   "codemirror_mode": {
    "name": "ipython",
    "version": 2
   },
   "file_extension": ".py",
   "mimetype": "text/x-python",
   "name": "python",
   "nbconvert_exporter": "python",
   "pygments_lexer": "ipython2",
   "version": "2.7.6"
  }
 },
 "nbformat": 4,
 "nbformat_minor": 0
}
