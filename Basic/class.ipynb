{
 "cells": [
  {
   "cell_type": "code",
   "execution_count": 14,
   "metadata": {
    "collapsed": true,
    "ExecuteTime": {
     "start_time": "2023-04-23T18:30:20.038991Z",
     "end_time": "2023-04-23T18:30:20.070712Z"
    }
   },
   "outputs": [
    {
     "name": "stdout",
     "output_type": "stream",
     "text": [
      "initiallzed withPARK ,KIM\n"
     ]
    }
   ],
   "source": [
    "class PrivateMemberTest:\n",
    "\n",
    "    def __init__(self, name1, name2):\n",
    "        self.name1 = name1\n",
    "        self.__name2 = name2\n",
    "        print(\"initiallzed with\"+name1+\" ,\"+name2)\n",
    "\n",
    "    def getNames(self):\n",
    "        self.__printNames()\n",
    "        return self.name1, self.__name2\n",
    "\n",
    "    def __printNames(self):\n",
    "        print(self.name1, self.__name2)\n",
    "\n",
    "# 인스턴스 생성\n",
    "obj = PrivateMemberTest(\"PARK\", \"KIM\")"
   ]
  },
  {
   "cell_type": "code",
   "execution_count": 15,
   "outputs": [
    {
     "name": "stdout",
     "output_type": "stream",
     "text": [
      "PARK\n"
     ]
    }
   ],
   "source": [
    "print(obj.name1)"
   ],
   "metadata": {
    "collapsed": false,
    "ExecuteTime": {
     "start_time": "2023-04-23T18:30:22.284147Z",
     "end_time": "2023-04-23T18:30:22.315483Z"
    }
   }
  },
  {
   "cell_type": "code",
   "execution_count": 16,
   "outputs": [
    {
     "name": "stdout",
     "output_type": "stream",
     "text": [
      "PARK KIM\n",
      "('PARK', 'KIM')\n"
     ]
    }
   ],
   "source": [
    "print(obj.getNames())"
   ],
   "metadata": {
    "collapsed": false,
    "ExecuteTime": {
     "start_time": "2023-04-23T18:30:23.011712Z",
     "end_time": "2023-04-23T18:30:23.043094Z"
    }
   }
  },
  {
   "cell_type": "code",
   "execution_count": 17,
   "outputs": [
    {
     "ename": "AttributeError",
     "evalue": "'PrivateMemberTest' object has no attribute '__printNames'",
     "output_type": "error",
     "traceback": [
      "\u001B[1;31m---------------------------------------------------------------------------\u001B[0m",
      "\u001B[1;31mAttributeError\u001B[0m                            Traceback (most recent call last)",
      "Cell \u001B[1;32mIn[17], line 1\u001B[0m\n\u001B[1;32m----> 1\u001B[0m \u001B[38;5;28mprint\u001B[39m(\u001B[43mobj\u001B[49m\u001B[38;5;241;43m.\u001B[39;49m\u001B[43m__printNames\u001B[49m())\n",
      "\u001B[1;31mAttributeError\u001B[0m: 'PrivateMemberTest' object has no attribute '__printNames'"
     ]
    }
   ],
   "source": [
    "print(obj.__printNames())"
   ],
   "metadata": {
    "collapsed": false
   }
  },
  {
   "cell_type": "code",
   "execution_count": 18,
   "outputs": [
    {
     "ename": "AttributeError",
     "evalue": "'PrivateMemberTest' object has no attribute '__name2'",
     "output_type": "error",
     "traceback": [
      "\u001B[1;31m---------------------------------------------------------------------------\u001B[0m",
      "\u001B[1;31mAttributeError\u001B[0m                            Traceback (most recent call last)",
      "Cell \u001B[1;32mIn[18], line 1\u001B[0m\n\u001B[1;32m----> 1\u001B[0m \u001B[38;5;28mprint\u001B[39m(\u001B[43mobj\u001B[49m\u001B[38;5;241;43m.\u001B[39;49m\u001B[43m__name2\u001B[49m)\n",
      "\u001B[1;31mAttributeError\u001B[0m: 'PrivateMemberTest' object has no attribute '__name2'"
     ]
    }
   ],
   "source": [
    "print(obj.__name2)"
   ],
   "metadata": {
    "collapsed": false
   }
  },
  {
   "cell_type": "code",
   "execution_count": 20,
   "outputs": [],
   "source": [
    "def print_name(name):\n",
    "    print(\"[def]\", name)\n",
    "\n",
    "class SameTest:\n",
    "    def __init__(self):\n",
    "        # 아무것도 않하기 때문에 pass\n",
    "        pass\n",
    "    # 외부 함수와 동일한 이름으로 method 정의\n",
    "    def print_name(self, name):\n",
    "        print(\"[SameTest] \", name)\n",
    "    def call_test(self):\n",
    "        # 외부 함수 호출\n",
    "        print_name(\"KIM\")\n",
    "        # 클래스 내부 method 호출\n",
    "        self.print_name(\"KIM\")"
   ],
   "metadata": {
    "collapsed": false,
    "ExecuteTime": {
     "start_time": "2023-04-23T18:59:43.804800Z",
     "end_time": "2023-04-23T18:59:43.818228Z"
    }
   }
  },
  {
   "cell_type": "code",
   "execution_count": 25,
   "outputs": [],
   "source": [
    "# create SameTest object\n",
    "obj = SameTest()"
   ],
   "metadata": {
    "collapsed": false,
    "ExecuteTime": {
     "start_time": "2023-04-23T19:01:39.980810Z",
     "end_time": "2023-04-23T19:01:39.995411Z"
    }
   }
  },
  {
   "cell_type": "code",
   "execution_count": 26,
   "outputs": [
    {
     "name": "stdout",
     "output_type": "stream",
     "text": [
      "[def] LEE\n"
     ]
    }
   ],
   "source": [
    "# call function print_name\n",
    "print_name(\"LEE\")"
   ],
   "metadata": {
    "collapsed": false,
    "ExecuteTime": {
     "start_time": "2023-04-23T19:01:53.125819Z",
     "end_time": "2023-04-23T19:01:53.138328Z"
    }
   }
  },
  {
   "cell_type": "code",
   "execution_count": 27,
   "outputs": [
    {
     "name": "stdout",
     "output_type": "stream",
     "text": [
      "[SameTest] LEE\n"
     ]
    }
   ],
   "source": [
    "# call method print_name\n",
    "obj.print_name(\"LEE\")"
   ],
   "metadata": {
    "collapsed": false,
    "ExecuteTime": {
     "start_time": "2023-04-23T19:01:53.697529Z",
     "end_time": "2023-04-23T19:01:53.719343Z"
    }
   }
  },
  {
   "cell_type": "code",
   "execution_count": 28,
   "outputs": [
    {
     "name": "stdout",
     "output_type": "stream",
     "text": [
      "[def] KIM\n",
      "[SameTest] KIM\n"
     ]
    }
   ],
   "source": [
    "# call method call_test\n",
    "obj.call_test()"
   ],
   "metadata": {
    "collapsed": false,
    "ExecuteTime": {
     "start_time": "2023-04-23T19:01:54.734771Z",
     "end_time": "2023-04-23T19:01:54.750404Z"
    }
   }
  }
 ],
 "metadata": {
  "kernelspec": {
   "display_name": "Python 3",
   "language": "python",
   "name": "python3"
  },
  "language_info": {
   "codemirror_mode": {
    "name": "ipython",
    "version": 2
   },
   "file_extension": ".py",
   "mimetype": "text/x-python",
   "name": "python",
   "nbconvert_exporter": "python",
   "pygments_lexer": "ipython2",
   "version": "2.7.6"
  }
 },
 "nbformat": 4,
 "nbformat_minor": 0
}
